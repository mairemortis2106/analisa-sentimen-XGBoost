{
 "cells": [
  {
   "cell_type": "code",
   "execution_count": 7,
   "metadata": {},
   "outputs": [],
   "source": [
    "import pandas as pd\n",
    "\n",
    "tweet2_1 = pd.read_csv('dataset\\ikn.csv',delimiter=';')\n",
    "tweet2_2 = pd.read_csv('dataset\\masalah_ikn.csv',delimiter=';')\n",
    "tweet2_3 = pd.read_csv('dataset\\masalah_ikn.old.csv',delimiter=';')\n",
    "tweet2_4 = pd.read_csv('dataset\\Pembangunan_ikn.csv',delimiter=';')\n",
    "tweet2_5 = pd.read_csv('dataset\\postif_ikn.csv',delimiter=';')\n",
    "tweet2_6 = pd.read_csv('dataset\\indonesia_ikn.csv',delimiter=';')\n",
    "tweet2_7 = pd.read_csv('dataset\\indonesia_ikn_1.csv',delimiter=';')\n",
    "tweet2_8 = pd.read_csv('dataset\\isu_ikn.csv',delimiter=';')\n",
    "tweet2_9 = pd.read_csv('dataset\\isu_ikn_1.csv',delimiter=';')\n",
    "tweet2_10 = pd.read_csv('dataset\\masalah_ikn_1.csv',delimiter=';')\n",
    "tweet2_11 = pd.read_csv('dataset\\masalah_ikn_2.csv',delimiter=';')\n",
    "tweet2_12 = pd.read_csv('dataset\\pembangunan_ikn_1.csv',delimiter=';')\n"
   ]
  },
  {
   "cell_type": "code",
   "execution_count": 8,
   "metadata": {},
   "outputs": [
    {
     "data": {
      "text/plain": [
       "0       @kompascom Dari sabang sampe merauke dah bnyk ...\n",
       "1       Nyetir tengah malem di IKN is another level of...\n",
       "2       framingnya mulai muncul. IKN jadi kata kunci. ...\n",
       "3       IKN masih proyek guys, buat yg ASN santai-sant...\n",
       "4       @mkusumawijaya coba ty amdal ikn. dibuat sesua...\n",
       "                              ...                        \n",
       "7501    Dalam kegiatannya di IKN Nusantara bberapa har...\n",
       "7502    @maryshelparaiso Perkembangan pembangunan Ibu ...\n",
       "7503    @maryshelparaiso IKN Nusantara akan menjadi ko...\n",
       "7504    @maryshelparaiso IKN Nusantara akan menjadi ko...\n",
       "7505    @maryshelparaiso Perkembangan pembangunan Ibu ...\n",
       "Name: full_text, Length: 7506, dtype: object"
      ]
     },
     "execution_count": 8,
     "metadata": {},
     "output_type": "execute_result"
    }
   ],
   "source": [
    "tweet2_all = pd.concat([\n",
    "    tweet2_1,tweet2_2,tweet2_4,tweet2_4,tweet2_5,\n",
    "    tweet2_6,tweet2_7,tweet2_8,tweet2_9,tweet2_10,\n",
    "    tweet2_11,tweet2_12]\n",
    "    ,ignore_index=True)\n",
    "\n",
    "tweet2_all = tweet2_all['full_text']\n",
    "tweet2_all"
   ]
  },
  {
   "cell_type": "code",
   "execution_count": 9,
   "metadata": {},
   "outputs": [],
   "source": [
    "tweet2_all = tweet2_all.rename('text')"
   ]
  },
  {
   "cell_type": "code",
   "execution_count": 10,
   "metadata": {},
   "outputs": [
    {
     "name": "stdout",
     "output_type": "stream",
     "text": [
      "<class 'pandas.core.series.Series'>\n",
      "RangeIndex: 3834 entries, 0 to 3833\n",
      "Series name: text\n",
      "Non-Null Count  Dtype \n",
      "--------------  ----- \n",
      "3834 non-null   object\n",
      "dtypes: object(1)\n",
      "memory usage: 30.1+ KB\n"
     ]
    }
   ],
   "source": [
    "tweet2_all = tweet2_all.drop_duplicates(ignore_index=True)\n",
    "tweet2_all.info()"
   ]
  },
  {
   "cell_type": "code",
   "execution_count": 11,
   "metadata": {},
   "outputs": [],
   "source": [
    "tweet2_all.to_excel('dataset_gabung\\data1.xlsx')"
   ]
  },
  {
   "cell_type": "code",
   "execution_count": 14,
   "metadata": {},
   "outputs": [
    {
     "name": "stdout",
     "output_type": "stream",
     "text": [
      "<class 'pandas.core.series.Series'>\n",
      "RangeIndex: 3834 entries, 0 to 3833\n",
      "Series name: text\n",
      "Non-Null Count  Dtype \n",
      "--------------  ----- \n",
      "3834 non-null   object\n",
      "dtypes: object(1)\n",
      "memory usage: 30.1+ KB\n"
     ]
    }
   ],
   "source": [
    "tweet2_all.info()"
   ]
  },
  {
   "cell_type": "markdown",
   "metadata": {},
   "source": [
    "## combine new data 17/11"
   ]
  },
  {
   "cell_type": "code",
   "execution_count": 1,
   "metadata": {},
   "outputs": [
    {
     "name": "stdout",
     "output_type": "stream",
     "text": [
      "<class 'pandas.core.frame.DataFrame'>\n",
      "RangeIndex: 3834 entries, 0 to 3833\n",
      "Data columns (total 1 columns):\n",
      " #   Column  Non-Null Count  Dtype \n",
      "---  ------  --------------  ----- \n",
      " 0   text    3834 non-null   object\n",
      "dtypes: object(1)\n",
      "memory usage: 30.1+ KB\n"
     ]
    }
   ],
   "source": [
    "import glob\n",
    "import pandas as pd\n",
    "all = pd.read_excel('dataset_gabung\\data1.xlsx')\n",
    "all = all.drop('Unnamed: 0',axis=1)\n",
    "all.info()"
   ]
  },
  {
   "cell_type": "code",
   "execution_count": 24,
   "metadata": {},
   "outputs": [
    {
     "name": "stdout",
     "output_type": "stream",
     "text": [
      "<class 'pandas.core.frame.DataFrame'>\n",
      "RangeIndex: 741 entries, 0 to 740\n",
      "Data columns (total 12 columns):\n",
      " #   Column               Non-Null Count  Dtype \n",
      "---  ------               --------------  ----- \n",
      " 0   created_at           741 non-null    object\n",
      " 1   id_str               741 non-null    int64 \n",
      " 2   full_text            741 non-null    object\n",
      " 3   quote_count          741 non-null    int64 \n",
      " 4   reply_count          741 non-null    int64 \n",
      " 5   retweet_count        741 non-null    int64 \n",
      " 6   favorite_count       741 non-null    int64 \n",
      " 7   lang                 741 non-null    object\n",
      " 8   user_id_str          741 non-null    int64 \n",
      " 9   conversation_id_str  741 non-null    int64 \n",
      " 10  username             741 non-null    object\n",
      " 11  tweet_url            741 non-null    object\n",
      "dtypes: int64(7), object(5)\n",
      "memory usage: 69.6+ KB\n"
     ]
    }
   ],
   "source": [
    "# Get CSV files list from a folder\n",
    "path = 'dataset_gabung\\Baru17'\n",
    "csv_files = glob.glob(path + \"/*.csv\")\n",
    "all = pd.read_csv('dataset_gabung\\Baru17\\ikn.csv',delimiter=';')\n",
    "all.info()\n",
    "\n",
    "for i in csv_files:\n",
    "    new = pd.read_csv(i,delimiter=';')\n",
    "    all = pd.concat([all,new])\n",
    "\n",
    "all = all.drop_duplicates(ignore_index=True)"
   ]
  },
  {
   "cell_type": "code",
   "execution_count": 25,
   "metadata": {},
   "outputs": [],
   "source": [
    "import numpy as np\n",
    "all = pd.DataFrame(np.array(all['full_text']), columns=['text'])\n",
    "all = all.drop_duplicates(ignore_index=True)\n"
   ]
  },
  {
   "cell_type": "code",
   "execution_count": 26,
   "metadata": {},
   "outputs": [
    {
     "name": "stdout",
     "output_type": "stream",
     "text": [
      "<class 'pandas.core.frame.DataFrame'>\n",
      "RangeIndex: 1977 entries, 0 to 1976\n",
      "Data columns (total 1 columns):\n",
      " #   Column  Non-Null Count  Dtype \n",
      "---  ------  --------------  ----- \n",
      " 0   text    1977 non-null   object\n",
      "dtypes: object(1)\n",
      "memory usage: 15.6+ KB\n"
     ]
    }
   ],
   "source": [
    "all.info()"
   ]
  },
  {
   "cell_type": "code",
   "execution_count": 27,
   "metadata": {},
   "outputs": [
    {
     "name": "stdout",
     "output_type": "stream",
     "text": [
      "<class 'pandas.core.frame.DataFrame'>\n",
      "RangeIndex: 3834 entries, 0 to 3833\n",
      "Data columns (total 1 columns):\n",
      " #   Column  Non-Null Count  Dtype \n",
      "---  ------  --------------  ----- \n",
      " 0   text    3834 non-null   object\n",
      "dtypes: object(1)\n",
      "memory usage: 30.1+ KB\n",
      "None\n",
      "<class 'pandas.core.frame.DataFrame'>\n",
      "Index: 5811 entries, 0 to 3833\n",
      "Data columns (total 1 columns):\n",
      " #   Column  Non-Null Count  Dtype \n",
      "---  ------  --------------  ----- \n",
      " 0   text    5811 non-null   object\n",
      "dtypes: object(1)\n",
      "memory usage: 90.8+ KB\n",
      "\n",
      "\n",
      " new all : None\n"
     ]
    }
   ],
   "source": [
    "old = pd.read_excel('dataset_gabung\\data1.xlsx')\n",
    "old = old.drop('Unnamed: 0',axis=1)\n",
    "print(old.info())\n",
    "all = pd.concat([all,old])"
   ]
  },
  {
   "cell_type": "code",
   "execution_count": 28,
   "metadata": {},
   "outputs": [
    {
     "name": "stdout",
     "output_type": "stream",
     "text": [
      "<class 'pandas.core.frame.DataFrame'>\n",
      "Index: 5811 entries, 0 to 3833\n",
      "Data columns (total 1 columns):\n",
      " #   Column  Non-Null Count  Dtype \n",
      "---  ------  --------------  ----- \n",
      " 0   text    5811 non-null   object\n",
      "dtypes: object(1)\n",
      "memory usage: 90.8+ KB\n"
     ]
    }
   ],
   "source": [
    "all.info()"
   ]
  },
  {
   "cell_type": "code",
   "execution_count": 29,
   "metadata": {},
   "outputs": [],
   "source": [
    "all.to_excel('dataset_gabung\\data2.xlsx')"
   ]
  },
  {
   "cell_type": "code",
   "execution_count": 24,
   "metadata": {},
   "outputs": [
    {
     "name": "stdout",
     "output_type": "stream",
     "text": [
      "<class 'pandas.core.frame.DataFrame'>\n",
      "RangeIndex: 5811 entries, 0 to 5810\n",
      "Data columns (total 2 columns):\n",
      " #   Column  Non-Null Count  Dtype \n",
      "---  ------  --------------  ----- \n",
      " 0   text    3834 non-null   object\n",
      " 1   0       1977 non-null   object\n",
      "dtypes: object(2)\n",
      "memory usage: 90.9+ KB\n"
     ]
    }
   ],
   "source": [
    "all = pd.read_excel('dataset_gabung\\data2.xlsx')\n",
    "all = all.drop('Unnamed: 0',axis=1)\n",
    "all.info()"
   ]
  }
 ],
 "metadata": {
  "kernelspec": {
   "display_name": "Python 3",
   "language": "python",
   "name": "python3"
  },
  "language_info": {
   "codemirror_mode": {
    "name": "ipython",
    "version": 3
   },
   "file_extension": ".py",
   "mimetype": "text/x-python",
   "name": "python",
   "nbconvert_exporter": "python",
   "pygments_lexer": "ipython3",
   "version": "3.11.5"
  }
 },
 "nbformat": 4,
 "nbformat_minor": 2
}
