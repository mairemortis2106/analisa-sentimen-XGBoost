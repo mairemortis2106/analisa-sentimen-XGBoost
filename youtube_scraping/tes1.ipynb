{
 "cells": [
  {
   "cell_type": "code",
   "execution_count": 2,
   "metadata": {},
   "outputs": [],
   "source": [
    "# import library\n",
    "import time\n",
    "from selenium import webdriver\n",
    "from selenium.webdriver import Chrome\n",
    "from selenium.webdriver.common.by import By\n",
    "from selenium.webdriver.common.keys import Keys\n",
    "from selenium.webdriver.support.ui import WebDriverWait\n",
    "from selenium.webdriver.support import expected_conditions as EC"
   ]
  },
  {
   "cell_type": "code",
   "execution_count": 11,
   "metadata": {},
   "outputs": [
    {
     "name": "stderr",
     "output_type": "stream",
     "text": [
      "C:\\Users\\alam\\AppData\\Local\\Temp\\ipykernel_8584\\435276317.py:3: DeprecationWarning: executable_path has been deprecated, please pass in a Service object\n",
      "  browser = webdriver.Chrome(executable_path=r'D:\\GitHub\\analisa-sentimen-XGBoost\\youtube_scraping\\chromedriver-win64\\chromedriver.exe')  # start a web browser\n"
     ]
    }
   ],
   "source": [
    "data = []\n",
    "\n",
    "browser = webdriver.Chrome(executable_path=r'D:\\GitHub\\analisa-sentimen-XGBoost\\youtube_scraping\\chromedriver-win64\\chromedriver.exe')  # start a web browser\n",
    "browser.get(\"https://youtube.com/shorts/wUZ0Zjj0QlI?si=smNXycDX8mJoDdiq\")\n",
    "wait = WebDriverWait(browser,15)\n",
    "browser.find_element(\"xpath\",'/html/body/ytd-app/div[1]/ytd-page-manager/ytd-shorts/div[3]/div[2]/ytd-reel-video-renderer[1]/div[3]/ytd-reel-player-overlay-renderer/div[2]/div[4]/ytd-button-renderer').click()\n",
    "time.sleep(60)\n",
    "\n",
    "for comment in wait.until(EC.presence_of_all_elements_located((By.CSS_SELECTOR, \"#content\"))):\n",
    "    data.append(comment.text)\n",
    "\n",
    "browser.close()\n"
   ]
  },
  {
   "cell_type": "code",
   "execution_count": null,
   "metadata": {},
   "outputs": [
    {
     "data": {
      "text/plain": [
       "['ID\\nSign in\\nHome\\nShorts\\nSubscriptions\\nLibrary\\nHistory\\nComments\\n3.8K\\nAdd a comment...\\n@ravskuyy1304\\n12 days ago\\nRAKYAT REMPANG MENANGIS MEREKA MEMBUAT SYUKURAN \\n995\\nReply\\n334 replies\\n@mikescarlet4261\\n5 days ago\\nStrategi makan siang pak jokowi ini emang efektif banget. Dengan mengundang influencer2 makan satu meja dengan dia, secara nggak langsung membuat ilusi seolah olah influencer ini merasa seperti orang penting yang pendapatnya bakal didengar oleh presiden, padahal aslinya nggak penting penting amat. Karena jokowi tau influencer ini setelah merasa penting bakal ngeshare pengalaman mereka ke followernya, yang tentu saja bakal naikin nama jokowi dan mereka bakal ngebela jokowi seakan akan raja. Semua influencer cuma pion yang diundang  jokowi agar terkesan seperti pemimpin yang dengerin rakyatnya. Padahal aslinya udah diatur kroni2 nya \\nShow less\\n307\\nReply\\n71 replies\\n@warganetlagi8533\\n5 days ago\\nTerkadang melihat mereka gembira terwa², Joget².timbul pertanyaan\\nApakah Negeri ini baik² Saja?...\\n109\\nReply\\n24 replies\\n@punkaz1306\\n11 days ago\\nMau bikin proyek mega kaya apapun kalo birokrasinya morat marit percuma. Mending dananya buat kesehatan, stunting dan kemakmuran rakyat. Kalo gini mah seneng oligarki nya\\n269\\nReply\\n56 replies\\n@unabiastory5317\\n4 days ago\\nIKN itu proyek utk pejabat, semua fasilitasnya hanya utk pejabat..apa yg di rasakan utk rakyat, sama seperti kereta cepat indonesia cina, hanya bisa dirasakan masyarakat kelas atas, dgn biaya pembangunan APBN sebagai jaminan, jadi mana keadilan bagi seluruh rakyat?\\nRead more\\n8\\nReply\\n@aliholic9102\\n2 days ago (edited)\\nTolong Presiden Baru 2024 Batalkan IKN, KAC Dan Rempang Serta Murahkan Harga Sembako\\n16\\nReply\\n13 replies\\n@astradarmawan-yo7mp\\n8 days ago\\nDisaat warga Rempang di gusur, pak President yg dulu menjanjikan SHM 3bulan sekarang bersama para menteri joget joget, dimana empati nya & tanpa rasa bersalah atas janji janjinya. \\nRead more\\n278\\nReply\\n38 replies\\n@muhammadrazikani7951\\n3 days ago\\nSaya Menolak IKN dipindahkan ke kalimantan, jangan buat rakyat kalimantan menjadi terusir dari tanahnya sendiri!!!\\n27\\nReply\\n11 replies\\n@shaka-shaga6092\\n3 days ago\\nWoi presiden:Lo ngerti gak yg dibutuhin rakyat itu:\\n1.sembako murah\\n2.BBM.murah\\n3.pupuk murah\\n4.jalan seluruh pelosok Indonesia aspalan semua.\\nShow less\\n6\\nReply\\n2 replies\\n@srinofikaputri9577\\n12 days ago\\nSiapapun nanti presidenya semoga bisa melanjutkan program2 pemerintah sekarang yg bernilai positif dan memberikan dampak baik untuk kemajuan rakyat bangsa dan negara\\n692\\nReply\\n88 replies\\n@nurbaitiiskandar941\\n2 days ago\\nSemoga proyek ikn selalu dalam perlindungan Allah swt, sehingga srluruh bangsa Indonesia bangga memiliki ibukota yg berwibawa dimata dunia\\n2\\nReply\\n@alisupyan925\\n1 day ago\\nbelum saat yg tepat bangun IKN sekarang. Bukan itu yg rakyat butuhkan. Kesejahteraan yg merata, itu yg sangat penting dilakukan pemerintah jokowi.\\n3\\nReply\\n@siberatlogistik\\n12 days ago\\nSuruh Jokowi bayar hutang2  ke semua vendor2 yg ikut pembangunan tol, bendungan, mandalika dll\\n349\\nReply\\n87 replies\\n@qiontol\\n5 days ago\\nBanyak rakyat yang butuh makan tapi mereka para pemimpin dengan santainya menikmati kemewahan \\n3\\nReply\\n1 reply\\n@ajipanuntun1343\\n4 days ago\\nYang terpenting adalah selalu optimis, jangan pernah menyerah seorang nabi saja masih di hujat apalagi cuman presiden. Tuhan mengangkat derajat manusia disaat manusia tersebut direndahkan serendah-rendahnya\\n1\\nReply\\n@ri1anies2024\\n11 days ago\\nKota hijau katanya tetapi menebang hutan, katanya sih kota hijau tetapi kok AMDAL keluar belakangan. Memang lucu sih nih orang, memang benar uang dan jabatan bisa membunuh akal pikiran\\n119\\nReply\\n19 replies\\n@khanzain1010\\n3 days ago\\nKami rakyat Indonesia tidak butuh IKN, yg kita butuhkan presiden yg melindungi rakyatnya demi kemakmuran rakyat nya... ganti presiden 2024...\\n3\\nReply\\n1 reply\\n@andiai6605\\n3 days ago\\nSy sgt setuju IKN, dengan satu alasan yg sederhana :\\nPembangunan/pembagian alokasi APBN selama berdasar sebaran jumlah penduduk dan bukan sebaran wilayah....maka jelaslah pulau jawa mendapat porsi paling besar dan itu selalu....pemimdahan ibu kota keluar pulau jawa akan menumbuhkan titik2 ekonomi baru...itu juga akan memicu sebaran penduduk lebih merata lagi...agar kita bisa benar2 bisa memperkuat persatuan dalam toleransi kebhinekaan...seharisnya jika mau adil, apbn dibagi secara merata apalagi terhadap daerah2 yg menyumbang SDA yg besar untuk perwkonomian, selama ini kalimantan telah menerangi 🇮🇩 selama ini lewat baru baranya....saatnya merwka memperoleh keadilan....begitu juga daerah2 di pelosok negeri bangun infrastruktur dan mulai membagi industri secara merata....jayalah 🇮🇩ku\\nRead more\\n1\\nReply\\n@midboyhgf94062\\n12 days ago\\nGw harap pembangunan Ibukota yang baru tidak memakan terlalu banyak pohon dan tidak terlalu banyak industri, tetap 75% luas daerah pepohonan dari kota.\\n450\\nReply\\n61 replies\\n@alfatih847\\n2 days ago\\nHanya Pak Anies yg bisa memperbaiki negara\\n11\\nReply\\n9 replies\\n@agunggg943\\n4 days ago\\nLucu liat netizen netizen miskin yang gapernah improve karna RASA MALASnya mereka sendiri sedang berdebat \\n5\\nReply\\n@muhammadsiswanto5454\\n12 days ago\\nMertua saya orang trans di Ikn,istri saya lahir dan besar di wilayah IKN. Yess saya paham,begitu banyak potensi di IKN,tpi bagi kami orang kecil. Jelas IKN tidak memberikan peluang yg besar bagi kami,malah lebih banyak hal negatif ke depan nya.\\nShow less\\n465\\nReply\\n75 replies\\n@ismetbanyu3552\\n1 day ago\\nSumbangsih anda sbg anak muda influencer ikut membangun Indonesia maju.namun ttp mengedepankan keseimbangan ekosistem.smg konsep IKN sbg ibukota ditengah hutan belantara tropis dan bebas pencemaran bisa terwujud.\\nRead more\\nReply\\n@alexsalapan6329\\n12 days ago (edited)\\nGua gak anti pindah ibukota TAPI tolong dipikirin donk..\\n- LOKASI yg aman. IKN itu berbatas darat dgn negara lain. MALAY konflik.. NATUNA ribut.., maka IKN itu masih dalam JARAK TEMBAK rudal jarak menengah.\\n- Pendanaan nya jangan kayak bikin CLUSTER yg diisi investor berserakan antah berantah. Kalo GAK PUNYA DUIT, JANGAN MAKSA.. ditunda dulu kek. Itu IBUKOTA, gak takut spionase apa? \\n\\nJ0K0 itu punya kecenderungan menjadikan bangunan sebagai LEGACY.\\nJadi dia bangun sesuatu bukan untuk fungsi tapi tuk LOOKS COOL.\\nItu sebuah kesalahan,\\n\\nSOEKARNO dan SUHARTO dikenang bukan karna infrastruktur tapi karna PEMIKIRAN dan bikin INDO PUNYA \"PRIDE\", well arranged ada PLANNING setiap TINDAKAN.. walau kita negara yg miskin waktu itu.\\nLebih baik lu invest di PENDIDIKAN daripada bikin bangunan tuk HEDON doank.\\n\\nGua takutnya IKN ini bisa jadi BITTER PIL bagi Presiden selanjutnya, kayak bandara KERTAJATI JABAR yg dibangun TANPA STUDY yg proper.. entah berantah hasil nya.\\nShow less\\n230\\nReply\\n122 replies\\n@papah_diy9173\\n5 days ago\\nFine aja asal benar2 IKN menjadi kota yang green. Tp ingat jaga alam kalimantan, kami orang dayak sdh menjaga nya selama beribu ribu tahun. Jangan karena IKN di kalimantan terus alamnya di rusak untuk pembangunan.\\n1\\nReply\\n@chenadisanjaya5897\\n10 hours ago\\nBangga punya presiden jokowi.. IKN bakal jadi ibu kota terkeren dan kota hijau. jd gk sabar pngn lihat ibukota baru.. menuju indonesia maju. \\nReply\\n@indragurukimia5588\\n11 days ago\\nGa akan jd kota yg paling Green di dunia kalo tambang batu bara msh banyak di daerah Semoi Sepaku Samboja. Lihat n tinggal 1 minggu aja disini mas, rasakan efek batubara di dekat IKN\\n60\\nReply\\n12 replies\\n@malashidup1675\\n4 days ago\\nikn memang harus tetap di bangun tapi ekonomi juga harus di perbaiki ayo dukung pak anis menjadi presiden RI\\n13\\nReply\\n@miaaja132\\n1 day ago\\nGw dukung IKN kalo\\n1. Utang negara lunas\\n2. Sumber pangan tercukupi\\n3. Pemerataan ekonomi di seluruh indo\\n4. Dana Pendidikan dan kesehatan lebih diutamakan\\nShow less\\nReply\\n@nacchuful\\n9 days ago\\nGw cmn berharap agar IKN d bangun dari keharmonisan dan mengedepankan kemanusiaan. Jgn atas nama kemajuan tp mementahkan rasa kemanusiaan. \\n50\\nReply\\n@joelianna8464\\n16 hours ago\\nSemoga pembangunan IKN LANCAR  , SEMUANYA MAKIN MAJU KARENA PRESIDENNYA PEKERJA KERAS LUAR BIASA BAPAK PRESIDEN JOKO WI 🇲🇨🇲🇨🇲🇨🇲🇨🇲🇨🇲🇨\\nReply\\n@eiffelcourse1320\\n2 days ago\\nHarga sembako semakin mahal Pak! Banyak rakyat Indonesia ini yang kelimpungan memenuhi kebutuhan pokok (makanan, rumah, pendidikan dan kesehatan) tapi \"pemerintah\" malah pesta makan makan joged joged. Sama sekali tidak peka dengan keadaan rakyat kecil.\\nShow less\\n1\\nReply\\n@zakiyahmd6358\\n11 days ago\\nHarga beras naik, UMKM di tanah abang mati, Rempang menangis dan buanyaaaak airmata lainnya. Selamat IKN berjaya.\\n14\\nReply\\n3 replies\\n@farhanramadhan423\\n2 days ago\\nUntuk menjadi negara yang lebih berkembang / maju mungkin membutuhkan pengorbanan tenaga dan waktu serta uang, tpi ndak tau juga apakah itu bagian uang utangan dari negara lain atau sbgnya... namun disisi lain banyak masyarakat yg ndak setuju krn entah kepentingan pribadi atau umum , dampaknya mgkin harga2 bahan pokok akan naik atau semacamnya.\\nRead more\\n1\\nReply\\n@wijimulyani1295\\n4 days ago\\nSemoga tidak merusak lingkungan karena banyak pohon yg ditebang...dan buaya tidak ngamuk...\\nDan semoga rakyat Rempang mendapatkan keadilan..\\nReply\\n@muhamadilhamyusuf8074\\n8 days ago\\nDukung pak anis untuk memotong Rezim yg suka hutang.\\nTakbir\\n105\\nReply\\n17 replies\\n@raishidayat9852\\n3 days ago (edited)\\nAaaa keren bgt Indonesia emng harus punya ikn dari dlu biar mental orang orangnya bisa berubah dari suka nyinyir ga bisa kasih solusi dan ciptakan inovasi , yg suka buah sampah sembarangan bilang ya ga ada tempat sampah jauh ini itu aaaaaaaaa mental mental kayak gini looooo harus di bumi hanguskan , goodjob ikn moga aku bisa kesana klo udah jadi nanti\\nRead more\\nReply\\n@slametriyadi9505\\n2 days ago\\nSeperti ceramah abah guru sekumpul, Indonesia akan menjadi jaya saat ibukota pindah ke kalimantan. Allohumma Amiiin\\nReply\\n@cocgirl2893\\n6 days ago\\nPresiden itu pemimpinnya rakyat dan negara indonesia. Harus memikirkan rakyat dan menjalankan tujuan negara. Tujuan utama negara ada di UUD 45. Apa aja ? Ada 3 kata kunci :\\nRead more\\n88\\nReply\\n17 replies\\n@adesyura6606\\n5 days ago\\nSaya ingin IKN tiap 10 tahun pindah. Ke papua, jawa, kaltim, bali... Tp entar kalo Indonesia udah kaya raya dan duit nya berlebih ga ada utang.\\nReply\\n@lutfibagus5181\\n2 days ago\\nIKN hanya menguntungkan OLIGARKI Bukan rakyat miskin dan bukan buruh pabrik\\n1\\nReply\\n@rudisuliswanto6996\\n12 days ago\\nRakyat gk butuh IKN bung\\n31\\nReply\\n9 replies\\n@rezapahlevi7162\\n5 days ago\\nIKN bagus, kalau dibangun dari kota yg sudah ada. Dirapikan agar tampak lebih layak. Misal Banjarmasin jadi ibukota negara, gue sih setuju2 aja. \\nRead more\\n1\\nReply\\n@izazimulyaputra387\\n4 days ago\\nSecara awam & sederhana, makna kata hijau yg sering dipakai dalam konteks lingkung bangun & lingkung alam, ada 2\\n1. Energi terbarukan\\nRead more\\nReply\\n@herumulyadi1584\\n8 days ago\\nsemoga pak ANIES sehat dan sukses selalu\\n191\\nReply\\n23 replies\\n@wishmeluck7805\\n4 days ago\\nxtau kenapa, aku rasa kyak kita itu tertinggal ama tetangga.. tetangga punya sircuit internasional pada tahun 1999, kita bru punya mandalika pada tahun kemarin, tetangga mindahin ibu kotanya dri kuala lumpur ke putrajaya pada tahun 1994 dan benar2 rampung pada tahun 2010, sedang kita baru mau membangun ikn.. tetangga punya gedung tertinggi di dunia pada tahun 1998 hingga 2004 sedang kita punya autograph tower baru tahun kemarin.. dan masi banyak yg tetangga udah punya lama tpi kita baru punya beberapa tahun kemarin.. kyak nya cuman di jaman pak jokowi bru kelihatan yg kita itu bru mau membangun.. semoga presiden ke depan nya bisa seperti pak jokowi..\\nRead more\\nReply\\n@sefryrockabilly104\\n5 days ago\\nDemi keberlanjutan IKN setidaknya ada Strata sosial yang di kedepankan. Masyarakat ekonomi menengah ke bawah harus jadi prioritas kemakmuran dulu. Untuk yang terdampak mega proyek IKN. Dan kelestarian alam sepenuhnya harus di jaga dan di pertimbangkan\\nRead more\\nReply\\n@romimarianta\\n12 days ago\\nkota paling hijau di dunia, paling bertahan beberapa tahun habis itu mulai deh pembangunan digembor2 karna kita tahu itu ibukota baru, yg namannya ibukota pasti padat pembangunan entah pemukiman/perusahaan dll\\n32\\nReply\\n3 replies\\n@bimaruci8382\\n4 days ago\\nRakyat sudah mulai memahami negara dan rakyat, rakyat sudah mulai merasa berpisah dengan negara, negara dan rakyat saat ini tidak lagi dianggap sebagai satu kesatuan, sudah ada gap diantara keduanya. Negara seakan telah berambisi dengan segala keuntungan proyek2nya, sedangkan sumber pendanaan dari rakyat. Ini sudah merupakan peringatan yang keras bagi negara.\\nRead more\\nReply\\n@thoriq2002\\n1 day ago\\nGw kalau ketemu pk jokowi auto ngomong pake Bahasa Jawa sih pengen tau rasanya vibes nya ngobrol sama Presiden pakai Bahasa Jawa\\nReply\\n@nagasenior1166\\n6 days ago\\nKATA KATA MOTIVATOR INDONESIA. \"Jangan Ngutang hanya karna ingin terlihat Keren\".  Yg benar benar susah Rakyat Soalnya bukan pemerintah. GUBLUK.\\n23\\nReply\\n4 replies\\n@panjaluadiyana7746\\n6 hours ago\\nMaju terus pak!! Ga usah digubris org2 ga penting yg sok tau pdhl ga tau apa2. Mrk yg pemikirannya cetek. Luar biasa pak jokowi!! Indonesia maju terus!! Bangun terus negeri ini!!\\nReply\\n@poernamananik3561\\n4 days ago\\nKLAU ADA PEMBANGUNAN PASTI :\\nADA YG SETUJU JUGA ADA YG GAK SETUJU.  SAYA RASA BANYAK YG  SRTUJU KRN DEMI MASA DEPAN NEGARA.\\n1\\nReply\\n@DimensionLost\\n7 days ago\\nLengserkan rezim wakanda terkorup, terzolim, paling banyak ngutang, dan masih banyak lagi!\\n95\\nReply\\n33 replies\\n@adnan_saputra\\n3 days ago\\nYang paling utama jaga agar tidak banjir .. Bangun pencegah banjir\\nReply\\n@rezapahlevi4254\\n2 days ago\\nIKN NUSANTARA 1 langkah lagi \\nReply\\n@tonikroos2389\\n5 days ago\\nJujur sebagai orang asli kalimantan. Jujur dari hati yang paling dalam serasa gak rela banget IKN pindah ke kalimantan sini. Apalah daya saya hanya rakyat jelata juga . Udah bagus di Jakarta aja padahal jangan disini \\n22\\nReply\\n16 replies\\n@ajisantoso6133\\n3 days ago\\nMemang benar.. rasa suka dan tidak suka itu mempengaruhi pendapat kita..\\nReply\\n@priapecintaliburan\\n15 hours ago\\nPak jokowi presiden langsing \\nReply\\n@naufalazzam4919\\n12 days ago\\nkoh coba bahas Rempang, mumpung ada relevansinya tentang \"Investasi\". menurut pandangan koh raymond gimana? coba speak up (kalo berani)\\n8\\nReply\\nDiundang Pak Jokowi ke IKN Nusantara #revolusilokal #raymondchin #jokowi #ikn\\n@RaymondChins\\nSubscribe\\n28K\\nDislike\\n3.8K\\nShare\\nSubscribe\\nLike\\nDislike\\nComment\\nShare\\nSubscribe\\nLike\\nDislike\\nComment\\nShare\\nSubscribe\\nLike\\nDislike\\nComment\\nShare\\nSubscribe\\nLike\\nDislike\\nComment\\nShare\\nSubscribe\\nLike\\nDislike\\nComment\\nShare\\nSubscribe\\nLike\\nDislike\\nComment\\nShare\\nSubscribe\\nLike\\nDislike\\nComment\\nShare\\nSubscribe\\nLike\\nDislike\\nComment\\nShare\\nSubscribe\\nLike\\nDislike\\nComment\\nShare\\nSubscribe\\nLike\\nDislike\\nComment\\nShare',\n",
       " 'Add a comment...\\n@ravskuyy1304\\n12 days ago\\nRAKYAT REMPANG MENANGIS MEREKA MEMBUAT SYUKURAN \\n995\\nReply\\n334 replies\\n@mikescarlet4261\\n5 days ago\\nStrategi makan siang pak jokowi ini emang efektif banget. Dengan mengundang influencer2 makan satu meja dengan dia, secara nggak langsung membuat ilusi seolah olah influencer ini merasa seperti orang penting yang pendapatnya bakal didengar oleh presiden, padahal aslinya nggak penting penting amat. Karena jokowi tau influencer ini setelah merasa penting bakal ngeshare pengalaman mereka ke followernya, yang tentu saja bakal naikin nama jokowi dan mereka bakal ngebela jokowi seakan akan raja. Semua influencer cuma pion yang diundang  jokowi agar terkesan seperti pemimpin yang dengerin rakyatnya. Padahal aslinya udah diatur kroni2 nya \\nShow less\\n307\\nReply\\n71 replies\\n@warganetlagi8533\\n5 days ago\\nTerkadang melihat mereka gembira terwa², Joget².timbul pertanyaan\\nApakah Negeri ini baik² Saja?...\\n109\\nReply\\n24 replies\\n@punkaz1306\\n11 days ago\\nMau bikin proyek mega kaya apapun kalo birokrasinya morat marit percuma. Mending dananya buat kesehatan, stunting dan kemakmuran rakyat. Kalo gini mah seneng oligarki nya\\n269\\nReply\\n56 replies\\n@unabiastory5317\\n4 days ago\\nIKN itu proyek utk pejabat, semua fasilitasnya hanya utk pejabat..apa yg di rasakan utk rakyat, sama seperti kereta cepat indonesia cina, hanya bisa dirasakan masyarakat kelas atas, dgn biaya pembangunan APBN sebagai jaminan, jadi mana keadilan bagi seluruh rakyat?\\nRead more\\n8\\nReply\\n@aliholic9102\\n2 days ago (edited)\\nTolong Presiden Baru 2024 Batalkan IKN, KAC Dan Rempang Serta Murahkan Harga Sembako\\n16\\nReply\\n13 replies\\n@astradarmawan-yo7mp\\n8 days ago\\nDisaat warga Rempang di gusur, pak President yg dulu menjanjikan SHM 3bulan sekarang bersama para menteri joget joget, dimana empati nya & tanpa rasa bersalah atas janji janjinya. \\nRead more\\n278\\nReply\\n38 replies\\n@muhammadrazikani7951\\n3 days ago\\nSaya Menolak IKN dipindahkan ke kalimantan, jangan buat rakyat kalimantan menjadi terusir dari tanahnya sendiri!!!\\n27\\nReply\\n11 replies\\n@shaka-shaga6092\\n3 days ago\\nWoi presiden:Lo ngerti gak yg dibutuhin rakyat itu:\\n1.sembako murah\\n2.BBM.murah\\n3.pupuk murah\\n4.jalan seluruh pelosok Indonesia aspalan semua.\\nShow less\\n6\\nReply\\n2 replies\\n@srinofikaputri9577\\n12 days ago\\nSiapapun nanti presidenya semoga bisa melanjutkan program2 pemerintah sekarang yg bernilai positif dan memberikan dampak baik untuk kemajuan rakyat bangsa dan negara\\n692\\nReply\\n88 replies\\n@nurbaitiiskandar941\\n2 days ago\\nSemoga proyek ikn selalu dalam perlindungan Allah swt, sehingga srluruh bangsa Indonesia bangga memiliki ibukota yg berwibawa dimata dunia\\n2\\nReply\\n@alisupyan925\\n1 day ago\\nbelum saat yg tepat bangun IKN sekarang. Bukan itu yg rakyat butuhkan. Kesejahteraan yg merata, itu yg sangat penting dilakukan pemerintah jokowi.\\n3\\nReply\\n@siberatlogistik\\n12 days ago\\nSuruh Jokowi bayar hutang2  ke semua vendor2 yg ikut pembangunan tol, bendungan, mandalika dll\\n349\\nReply\\n87 replies\\n@qiontol\\n5 days ago\\nBanyak rakyat yang butuh makan tapi mereka para pemimpin dengan santainya menikmati kemewahan \\n3\\nReply\\n1 reply\\n@ajipanuntun1343\\n4 days ago\\nYang terpenting adalah selalu optimis, jangan pernah menyerah seorang nabi saja masih di hujat apalagi cuman presiden. Tuhan mengangkat derajat manusia disaat manusia tersebut direndahkan serendah-rendahnya\\n1\\nReply\\n@ri1anies2024\\n11 days ago\\nKota hijau katanya tetapi menebang hutan, katanya sih kota hijau tetapi kok AMDAL keluar belakangan. Memang lucu sih nih orang, memang benar uang dan jabatan bisa membunuh akal pikiran\\n119\\nReply\\n19 replies\\n@khanzain1010\\n3 days ago\\nKami rakyat Indonesia tidak butuh IKN, yg kita butuhkan presiden yg melindungi rakyatnya demi kemakmuran rakyat nya... ganti presiden 2024...\\n3\\nReply\\n1 reply\\n@andiai6605\\n3 days ago\\nSy sgt setuju IKN, dengan satu alasan yg sederhana :\\nPembangunan/pembagian alokasi APBN selama berdasar sebaran jumlah penduduk dan bukan sebaran wilayah....maka jelaslah pulau jawa mendapat porsi paling besar dan itu selalu....pemimdahan ibu kota keluar pulau jawa akan menumbuhkan titik2 ekonomi baru...itu juga akan memicu sebaran penduduk lebih merata lagi...agar kita bisa benar2 bisa memperkuat persatuan dalam toleransi kebhinekaan...seharisnya jika mau adil, apbn dibagi secara merata apalagi terhadap daerah2 yg menyumbang SDA yg besar untuk perwkonomian, selama ini kalimantan telah menerangi 🇮🇩 selama ini lewat baru baranya....saatnya merwka memperoleh keadilan....begitu juga daerah2 di pelosok negeri bangun infrastruktur dan mulai membagi industri secara merata....jayalah 🇮🇩ku\\nRead more\\n1\\nReply\\n@midboyhgf94062\\n12 days ago\\nGw harap pembangunan Ibukota yang baru tidak memakan terlalu banyak pohon dan tidak terlalu banyak industri, tetap 75% luas daerah pepohonan dari kota.\\n450\\nReply\\n61 replies\\n@alfatih847\\n2 days ago\\nHanya Pak Anies yg bisa memperbaiki negara\\n11\\nReply\\n9 replies\\n@agunggg943\\n4 days ago\\nLucu liat netizen netizen miskin yang gapernah improve karna RASA MALASnya mereka sendiri sedang berdebat \\n5\\nReply\\n@muhammadsiswanto5454\\n12 days ago\\nMertua saya orang trans di Ikn,istri saya lahir dan besar di wilayah IKN. Yess saya paham,begitu banyak potensi di IKN,tpi bagi kami orang kecil. Jelas IKN tidak memberikan peluang yg besar bagi kami,malah lebih banyak hal negatif ke depan nya.\\nShow less\\n465\\nReply\\n75 replies\\n@ismetbanyu3552\\n1 day ago\\nSumbangsih anda sbg anak muda influencer ikut membangun Indonesia maju.namun ttp mengedepankan keseimbangan ekosistem.smg konsep IKN sbg ibukota ditengah hutan belantara tropis dan bebas pencemaran bisa terwujud.\\nRead more\\nReply\\n@alexsalapan6329\\n12 days ago (edited)\\nGua gak anti pindah ibukota TAPI tolong dipikirin donk..\\n- LOKASI yg aman. IKN itu berbatas darat dgn negara lain. MALAY konflik.. NATUNA ribut.., maka IKN itu masih dalam JARAK TEMBAK rudal jarak menengah.\\n- Pendanaan nya jangan kayak bikin CLUSTER yg diisi investor berserakan antah berantah. Kalo GAK PUNYA DUIT, JANGAN MAKSA.. ditunda dulu kek. Itu IBUKOTA, gak takut spionase apa? \\n\\nJ0K0 itu punya kecenderungan menjadikan bangunan sebagai LEGACY.\\nJadi dia bangun sesuatu bukan untuk fungsi tapi tuk LOOKS COOL.\\nItu sebuah kesalahan,\\n\\nSOEKARNO dan SUHARTO dikenang bukan karna infrastruktur tapi karna PEMIKIRAN dan bikin INDO PUNYA \"PRIDE\", well arranged ada PLANNING setiap TINDAKAN.. walau kita negara yg miskin waktu itu.\\nLebih baik lu invest di PENDIDIKAN daripada bikin bangunan tuk HEDON doank.\\n\\nGua takutnya IKN ini bisa jadi BITTER PIL bagi Presiden selanjutnya, kayak bandara KERTAJATI JABAR yg dibangun TANPA STUDY yg proper.. entah berantah hasil nya.\\nShow less\\n230\\nReply\\n122 replies\\n@papah_diy9173\\n5 days ago\\nFine aja asal benar2 IKN menjadi kota yang green. Tp ingat jaga alam kalimantan, kami orang dayak sdh menjaga nya selama beribu ribu tahun. Jangan karena IKN di kalimantan terus alamnya di rusak untuk pembangunan.\\n1\\nReply\\n@chenadisanjaya5897\\n10 hours ago\\nBangga punya presiden jokowi.. IKN bakal jadi ibu kota terkeren dan kota hijau. jd gk sabar pngn lihat ibukota baru.. menuju indonesia maju. \\nReply\\n@indragurukimia5588\\n11 days ago\\nGa akan jd kota yg paling Green di dunia kalo tambang batu bara msh banyak di daerah Semoi Sepaku Samboja. Lihat n tinggal 1 minggu aja disini mas, rasakan efek batubara di dekat IKN\\n60\\nReply\\n12 replies\\n@malashidup1675\\n4 days ago\\nikn memang harus tetap di bangun tapi ekonomi juga harus di perbaiki ayo dukung pak anis menjadi presiden RI\\n13\\nReply\\n@miaaja132\\n1 day ago\\nGw dukung IKN kalo\\n1. Utang negara lunas\\n2. Sumber pangan tercukupi\\n3. Pemerataan ekonomi di seluruh indo\\n4. Dana Pendidikan dan kesehatan lebih diutamakan\\nShow less\\nReply\\n@nacchuful\\n9 days ago\\nGw cmn berharap agar IKN d bangun dari keharmonisan dan mengedepankan kemanusiaan. Jgn atas nama kemajuan tp mementahkan rasa kemanusiaan. \\n50\\nReply\\n@joelianna8464\\n16 hours ago\\nSemoga pembangunan IKN LANCAR  , SEMUANYA MAKIN MAJU KARENA PRESIDENNYA PEKERJA KERAS LUAR BIASA BAPAK PRESIDEN JOKO WI 🇲🇨🇲🇨🇲🇨🇲🇨🇲🇨🇲🇨\\nReply\\n@eiffelcourse1320\\n2 days ago\\nHarga sembako semakin mahal Pak! Banyak rakyat Indonesia ini yang kelimpungan memenuhi kebutuhan pokok (makanan, rumah, pendidikan dan kesehatan) tapi \"pemerintah\" malah pesta makan makan joged joged. Sama sekali tidak peka dengan keadaan rakyat kecil.\\nShow less\\n1\\nReply\\n@zakiyahmd6358\\n11 days ago\\nHarga beras naik, UMKM di tanah abang mati, Rempang menangis dan buanyaaaak airmata lainnya. Selamat IKN berjaya.\\n14\\nReply\\n3 replies\\n@farhanramadhan423\\n2 days ago\\nUntuk menjadi negara yang lebih berkembang / maju mungkin membutuhkan pengorbanan tenaga dan waktu serta uang, tpi ndak tau juga apakah itu bagian uang utangan dari negara lain atau sbgnya... namun disisi lain banyak masyarakat yg ndak setuju krn entah kepentingan pribadi atau umum , dampaknya mgkin harga2 bahan pokok akan naik atau semacamnya.\\nRead more\\n1\\nReply\\n@wijimulyani1295\\n4 days ago\\nSemoga tidak merusak lingkungan karena banyak pohon yg ditebang...dan buaya tidak ngamuk...\\nDan semoga rakyat Rempang mendapatkan keadilan..\\nReply\\n@muhamadilhamyusuf8074\\n8 days ago\\nDukung pak anis untuk memotong Rezim yg suka hutang.\\nTakbir\\n105\\nReply\\n17 replies\\n@raishidayat9852\\n3 days ago (edited)\\nAaaa keren bgt Indonesia emng harus punya ikn dari dlu biar mental orang orangnya bisa berubah dari suka nyinyir ga bisa kasih solusi dan ciptakan inovasi , yg suka buah sampah sembarangan bilang ya ga ada tempat sampah jauh ini itu aaaaaaaaa mental mental kayak gini looooo harus di bumi hanguskan , goodjob ikn moga aku bisa kesana klo udah jadi nanti\\nRead more\\nReply\\n@slametriyadi9505\\n2 days ago\\nSeperti ceramah abah guru sekumpul, Indonesia akan menjadi jaya saat ibukota pindah ke kalimantan. Allohumma Amiiin\\nReply\\n@cocgirl2893\\n6 days ago\\nPresiden itu pemimpinnya rakyat dan negara indonesia. Harus memikirkan rakyat dan menjalankan tujuan negara. Tujuan utama negara ada di UUD 45. Apa aja ? Ada 3 kata kunci :\\n1. Melindungi rakyat\\n2. Mensejahterakan rakyat\\n3. Mencerdaskan rakyat.\\nPertanyaannya utk admin dan kita renungkan, apakah IKN bagian dr 3 hal itu bukan ??\\nShow less\\n88\\nReply\\n17 replies\\n@adesyura6606\\n5 days ago\\nSaya ingin IKN tiap 10 tahun pindah. Ke papua, jawa, kaltim, bali... Tp entar kalo Indonesia udah kaya raya dan duit nya berlebih ga ada utang.\\nReply\\n@lutfibagus5181\\n2 days ago\\nIKN hanya menguntungkan OLIGARKI Bukan rakyat miskin dan bukan buruh pabrik\\n1\\nReply\\n@rudisuliswanto6996\\n12 days ago\\nRakyat gk butuh IKN bung\\n31\\nReply\\n9 replies\\n@rezapahlevi7162\\n5 days ago\\nIKN bagus, kalau dibangun dari kota yg sudah ada. Dirapikan agar tampak lebih layak. Misal Banjarmasin jadi ibukota negara, gue sih setuju2 aja. \\nRead more\\n1\\nReply\\n@izazimulyaputra387\\n4 days ago\\nSecara awam & sederhana, makna kata hijau yg sering dipakai dalam konteks lingkung bangun & lingkung alam, ada 2\\n1. Energi terbarukan\\nRead more\\nReply\\n@herumulyadi1584\\n8 days ago\\nsemoga pak ANIES sehat dan sukses selalu\\n191\\nReply\\n23 replies\\n@wishmeluck7805\\n4 days ago\\nxtau kenapa, aku rasa kyak kita itu tertinggal ama tetangga.. tetangga punya sircuit internasional pada tahun 1999, kita bru punya mandalika pada tahun kemarin, tetangga mindahin ibu kotanya dri kuala lumpur ke putrajaya pada tahun 1994 dan benar2 rampung pada tahun 2010, sedang kita baru mau membangun ikn.. tetangga punya gedung tertinggi di dunia pada tahun 1998 hingga 2004 sedang kita punya autograph tower baru tahun kemarin.. dan masi banyak yg tetangga udah punya lama tpi kita baru punya beberapa tahun kemarin.. kyak nya cuman di jaman pak jokowi bru kelihatan yg kita itu bru mau membangun.. semoga presiden ke depan nya bisa seperti pak jokowi..\\nRead more\\nReply\\n@sefryrockabilly104\\n5 days ago\\nDemi keberlanjutan IKN setidaknya ada Strata sosial yang di kedepankan. Masyarakat ekonomi menengah ke bawah harus jadi prioritas kemakmuran dulu. Untuk yang terdampak mega proyek IKN. Dan kelestarian alam sepenuhnya harus di jaga dan di pertimbangkan\\nRead more\\nReply\\n@romimarianta\\n12 days ago\\nkota paling hijau di dunia, paling bertahan beberapa tahun habis itu mulai deh pembangunan digembor2 karna kita tahu itu ibukota baru, yg namannya ibukota pasti padat pembangunan entah pemukiman/perusahaan dll\\n32\\nReply\\n3 replies\\n@bimaruci8382\\n4 days ago\\nRakyat sudah mulai memahami negara dan rakyat, rakyat sudah mulai merasa berpisah dengan negara, negara dan rakyat saat ini tidak lagi dianggap sebagai satu kesatuan, sudah ada gap diantara keduanya. Negara seakan telah berambisi dengan segala keuntungan proyek2nya, sedangkan sumber pendanaan dari rakyat. Ini sudah merupakan peringatan yang keras bagi negara.\\nRead more\\nReply\\n@thoriq2002\\n1 day ago\\nGw kalau ketemu pk jokowi auto ngomong pake Bahasa Jawa sih pengen tau rasanya vibes nya ngobrol sama Presiden pakai Bahasa Jawa\\nReply\\n@nagasenior1166\\n6 days ago\\nKATA KATA MOTIVATOR INDONESIA. \"Jangan Ngutang hanya karna ingin terlihat Keren\".  Yg benar benar susah Rakyat Soalnya bukan pemerintah. GUBLUK.\\n23\\nReply\\n4 replies\\n@panjaluadiyana7746\\n6 hours ago\\nMaju terus pak!! Ga usah digubris org2 ga penting yg sok tau pdhl ga tau apa2. Mrk yg pemikirannya cetek. Luar biasa pak jokowi!! Indonesia maju terus!! Bangun terus negeri ini!!\\nReply\\n@poernamananik3561\\n4 days ago\\nKLAU ADA PEMBANGUNAN PASTI :\\nADA YG SETUJU JUGA ADA YG GAK SETUJU.  SAYA RASA BANYAK YG  SRTUJU KRN DEMI MASA DEPAN NEGARA.\\n1\\nReply\\n@DimensionLost\\n7 days ago\\nLengserkan rezim wakanda terkorup, terzolim, paling banyak ngutang, dan masih banyak lagi!\\n95\\nReply\\n33 replies\\n@adnan_saputra\\n3 days ago\\nYang paling utama jaga agar tidak banjir .. Bangun pencegah banjir\\nReply\\n@rezapahlevi4254\\n2 days ago\\nIKN NUSANTARA 1 langkah lagi \\nReply\\n@tonikroos2389\\n5 days ago\\nJujur sebagai orang asli kalimantan. Jujur dari hati yang paling dalam serasa gak rela banget IKN pindah ke kalimantan sini. Apalah daya saya hanya rakyat jelata juga . Udah bagus di Jakarta aja padahal jangan disini \\n22\\nReply\\n16 replies\\n@ajisantoso6133\\n3 days ago\\nMemang benar.. rasa suka dan tidak suka itu mempengaruhi pendapat kita..\\nReply\\n@priapecintaliburan\\n15 hours ago\\nPak jokowi presiden langsing \\nReply\\n@naufalazzam4919\\n12 days ago\\nkoh coba bahas Rempang, mumpung ada relevansinya tentang \"Investasi\". menurut pandangan koh raymond gimana? coba speak up (kalo berani)\\n8\\nReply\\n@ilhamsyah6275\\n1 day ago\\nIKN adalah proyek balas budi pemilu 2019\\n1\\nReply\\n@muhammadfatih8017\\n3 days ago\\nIndonesia gak butuh IKN,Indonesia butuh kereta cepat buatan jepang bernama totoro. (Studio Gibli)\\nReply\\n@harryfirmanto3095\\n12 days ago\\nPakde paling pinter merangkul orang yg berpotensi mengkritik kebijakannya..\\n10\\nReply\\n@pecintaalam6400\\n4 days ago\\nIndonesia butuh pangan harga murah bukan IKN\\nReply\\n@user-vy6ty1rz1c\\n5 days ago\\nIKN akan jd kota paling kerenz di dunia..paling bersih dan sehat...natural..\\n10\\nReply\\n8 replies\\n@agungbhaktiyar9661\\n12 days ago\\nSemoga setelah semua selesai, anak cucu kita bisa membayar hutang-hutangnya\\n75\\nReply\\n36 replies\\n@ellyrosanti5803\\n2 days ago\\nSmg anak milenial paham sejarah Bangsa , cerdas n gak gampang  GR \\nReply\\n@thenooby_explorer3717\\n4 days ago\\nKota paling hijau didunia? Amin.\\nReply\\n@stoprasis1801\\n7 days ago\\nMereka sangat bahagia dengan pesta nya di saat masyarakat nya amburadul, selamat pak jokowi anda Presiden paling demokratis dan paling berguna bagi nusa dan bangsa, paling perduli terhadap rakyat kecil\\n15\\nReply\\n3 replies\\n@taufiksarono6976\\n1 day ago\\nMantap banget negri akan mnjadi neg yg diperhitunhkan dunia akn sejajar dng neg\" maju lainnya\\nLanjutkan bpk presiden JOKOWI\\nMakin maju Indonesiaku\\n1\\nReply\\n@ninghardiyanto3348\\n35 minutes ago\\nIkn keren bangett\\nReply\\n@khfv4634\\n6 days ago\\nbang lu kerem bgt asli, pola hidup apa sih yag lu jalanin, struggle kaya apa sih yg udh lu laluin ? sampe bisa ke sekarang begini\\n3\\nReply\\n1 reply\\n@user-vr9lw6cm9o\\n3 days ago\\nMereka tampak makmur sejahtera dan swasembada pangan\\n1\\nReply\\n@shaneachmed4211\\n4 hours ago\\nInfluencer oh influencer.....sehat sehat dan semakin sejahtera..\\nReply\\n@Dayak_ganteng_\\n12 days ago\\nKami sangat senang jika ibu kota dipindahkan ke Kalimantan karena akan membawa kesejahteraan bagi masyarakat Kalimantan khususnya masyarakat dayak, seperti pembangunan, pekerjaan, dan gaji yang lebih baik. Namun, kami berharap agar tidak terus melakukan transmigrasi orang Jawa ke Kalimantan dan memberikan kesempatan kepada masyarakat Kalimantan, terutama orang Dayak, untuk bekerja. Jika mereka tidak mengerti tentang pekerjaan, kami mohon untuk dilatih atau diberikan pelatihan, bukan dari luar Kalimantan terus bekerja di tanah kami.\\nRead more\\n14\\nReply\\n9 replies\\n@naldosaputra1212\\n1 day ago\\nSAYA PEDAGANG, JGN NGURUSIN IKN DULU, URUSIN HARGA BIAR MURAH, SAYA TUNTUN NANTI DI AKHIRAT SEMUA YG TERLIBAT DI IKN\\nReply\\n@rurirolina4010\\n3 days ago\\nYang dibutuhkan masyarakat itu bukan ibu kota\\n\\nTapi sandang pangan papan yang terjangkau  \\nRead more\\nReply\\n@CP-fj2hu\\n12 days ago\\nKasian flora dan fauna disana tergerus ulah proyek sis jokowow ini . Mana banyak spesies hewan endemik sana yang terdampak . Kelaparan kurang gizi terusir akibat pembangunan ini ... Sedih liat primata sana yg pada kesusahan mencari makan ... Hewan hewan tersebut pasti akan mengutuk menyumpah manusia manusia yg rakus akan pembangunan dan korupsi besar besaran ini\\nRead more\\n18\\nReply\\n11 replies\\n@gunungcoffee865\\n2 days ago\\nAkankah ini cerita awal mulanya Ikn menjadi Singapore . Video anda akan bisa menjadi sejarah Indonesia.\\nReply\\n@andymuhaimin7901\\n13 hours ago\\nYang perlu anda undang itu bukan orang2 macam mereka pak, tapi rakyat mu yang dibawah sana\\nReply',\n",
       " 'RAKYAT REMPANG MENANGIS MEREKA MEMBUAT SYUKURAN ',\n",
       " 'Strategi makan siang pak jokowi ini emang efektif banget. Dengan mengundang influencer2 makan satu meja dengan dia, secara nggak langsung membuat ilusi seolah olah influencer ini merasa seperti orang penting yang pendapatnya bakal didengar oleh presiden, padahal aslinya nggak penting penting amat. Karena jokowi tau influencer ini setelah merasa penting bakal ngeshare pengalaman mereka ke followernya, yang tentu saja bakal naikin nama jokowi dan mereka bakal ngebela jokowi seakan akan raja. Semua influencer cuma pion yang diundang  jokowi agar terkesan seperti pemimpin yang dengerin rakyatnya. Padahal aslinya udah diatur kroni2 nya ',\n",
       " 'Terkadang melihat mereka gembira terwa², Joget².timbul pertanyaan\\nApakah Negeri ini baik² Saja?...',\n",
       " 'Mau bikin proyek mega kaya apapun kalo birokrasinya morat marit percuma. Mending dananya buat kesehatan, stunting dan kemakmuran rakyat. Kalo gini mah seneng oligarki nya',\n",
       " 'IKN itu proyek utk pejabat, semua fasilitasnya hanya utk pejabat..apa yg di rasakan utk rakyat, sama seperti kereta cepat indonesia cina, hanya bisa dirasakan masyarakat kelas atas, dgn biaya pembangunan APBN sebagai jaminan, jadi mana keadilan bagi seluruh rakyat?',\n",
       " 'Tolong Presiden Baru 2024 Batalkan IKN, KAC Dan Rempang Serta Murahkan Harga Sembako',\n",
       " 'Disaat warga Rempang di gusur, pak President yg dulu menjanjikan SHM 3bulan sekarang bersama para menteri joget joget, dimana empati nya & tanpa rasa bersalah atas janji janjinya. ',\n",
       " 'Saya Menolak IKN dipindahkan ke kalimantan, jangan buat rakyat kalimantan menjadi terusir dari tanahnya sendiri!!!',\n",
       " 'Woi presiden:Lo ngerti gak yg dibutuhin rakyat itu:\\n1.sembako murah\\n2.BBM.murah\\n3.pupuk murah\\n4.jalan seluruh pelosok Indonesia aspalan semua.',\n",
       " 'Siapapun nanti presidenya semoga bisa melanjutkan program2 pemerintah sekarang yg bernilai positif dan memberikan dampak baik untuk kemajuan rakyat bangsa dan negara',\n",
       " 'Semoga proyek ikn selalu dalam perlindungan Allah swt, sehingga srluruh bangsa Indonesia bangga memiliki ibukota yg berwibawa dimata dunia',\n",
       " 'belum saat yg tepat bangun IKN sekarang. Bukan itu yg rakyat butuhkan. Kesejahteraan yg merata, itu yg sangat penting dilakukan pemerintah jokowi.',\n",
       " 'Suruh Jokowi bayar hutang2  ke semua vendor2 yg ikut pembangunan tol, bendungan, mandalika dll',\n",
       " 'Banyak rakyat yang butuh makan tapi mereka para pemimpin dengan santainya menikmati kemewahan ',\n",
       " 'Yang terpenting adalah selalu optimis, jangan pernah menyerah seorang nabi saja masih di hujat apalagi cuman presiden. Tuhan mengangkat derajat manusia disaat manusia tersebut direndahkan serendah-rendahnya',\n",
       " 'Kota hijau katanya tetapi menebang hutan, katanya sih kota hijau tetapi kok AMDAL keluar belakangan. Memang lucu sih nih orang, memang benar uang dan jabatan bisa membunuh akal pikiran',\n",
       " 'Kami rakyat Indonesia tidak butuh IKN, yg kita butuhkan presiden yg melindungi rakyatnya demi kemakmuran rakyat nya... ganti presiden 2024...',\n",
       " 'Sy sgt setuju IKN, dengan satu alasan yg sederhana :\\nPembangunan/pembagian alokasi APBN selama berdasar sebaran jumlah penduduk dan bukan sebaran wilayah....maka jelaslah pulau jawa mendapat porsi paling besar dan itu selalu....pemimdahan ibu kota keluar pulau jawa akan menumbuhkan titik2 ekonomi baru...itu juga akan memicu sebaran penduduk lebih merata lagi...agar kita bisa benar2 bisa memperkuat persatuan dalam toleransi kebhinekaan...seharisnya jika mau adil, apbn dibagi secara merata apalagi terhadap daerah2 yg menyumbang SDA yg besar untuk perwkonomian, selama ini kalimantan telah menerangi 🇮🇩 selama ini lewat baru baranya....saatnya merwka memperoleh keadilan....begitu juga daerah2 di pelosok negeri bangun infrastruktur dan mulai membagi industri secara merata....jayalah 🇮🇩ku',\n",
       " 'Gw harap pembangunan Ibukota yang baru tidak memakan terlalu banyak pohon dan tidak terlalu banyak industri, tetap 75% luas daerah pepohonan dari kota.',\n",
       " 'Hanya Pak Anies yg bisa memperbaiki negara',\n",
       " 'Lucu liat netizen netizen miskin yang gapernah improve karna RASA MALASnya mereka sendiri sedang berdebat ',\n",
       " 'Mertua saya orang trans di Ikn,istri saya lahir dan besar di wilayah IKN. Yess saya paham,begitu banyak potensi di IKN,tpi bagi kami orang kecil. Jelas IKN tidak memberikan peluang yg besar bagi kami,malah lebih banyak hal negatif ke depan nya.',\n",
       " 'Sumbangsih anda sbg anak muda influencer ikut membangun Indonesia maju.namun ttp mengedepankan keseimbangan ekosistem.smg konsep IKN sbg ibukota ditengah hutan belantara tropis dan bebas pencemaran bisa terwujud.',\n",
       " 'Gua gak anti pindah ibukota TAPI tolong dipikirin donk..\\n- LOKASI yg aman. IKN itu berbatas darat dgn negara lain. MALAY konflik.. NATUNA ribut.., maka IKN itu masih dalam JARAK TEMBAK rudal jarak menengah.\\n- Pendanaan nya jangan kayak bikin CLUSTER yg diisi investor berserakan antah berantah. Kalo GAK PUNYA DUIT, JANGAN MAKSA.. ditunda dulu kek. Itu IBUKOTA, gak takut spionase apa? \\n\\nJ0K0 itu punya kecenderungan menjadikan bangunan sebagai LEGACY.\\nJadi dia bangun sesuatu bukan untuk fungsi tapi tuk LOOKS COOL.\\nItu sebuah kesalahan,\\n\\nSOEKARNO dan SUHARTO dikenang bukan karna infrastruktur tapi karna PEMIKIRAN dan bikin INDO PUNYA \"PRIDE\", well arranged ada PLANNING setiap TINDAKAN.. walau kita negara yg miskin waktu itu.\\nLebih baik lu invest di PENDIDIKAN daripada bikin bangunan tuk HEDON doank.\\n\\nGua takutnya IKN ini bisa jadi BITTER PIL bagi Presiden selanjutnya, kayak bandara KERTAJATI JABAR yg dibangun TANPA STUDY yg proper.. entah berantah hasil nya.',\n",
       " 'Fine aja asal benar2 IKN menjadi kota yang green. Tp ingat jaga alam kalimantan, kami orang dayak sdh menjaga nya selama beribu ribu tahun. Jangan karena IKN di kalimantan terus alamnya di rusak untuk pembangunan.',\n",
       " 'Bangga punya presiden jokowi.. IKN bakal jadi ibu kota terkeren dan kota hijau. jd gk sabar pngn lihat ibukota baru.. menuju indonesia maju. ',\n",
       " 'Ga akan jd kota yg paling Green di dunia kalo tambang batu bara msh banyak di daerah Semoi Sepaku Samboja. Lihat n tinggal 1 minggu aja disini mas, rasakan efek batubara di dekat IKN',\n",
       " 'ikn memang harus tetap di bangun tapi ekonomi juga harus di perbaiki ayo dukung pak anis menjadi presiden RI',\n",
       " 'Gw dukung IKN kalo\\n1. Utang negara lunas\\n2. Sumber pangan tercukupi\\n3. Pemerataan ekonomi di seluruh indo\\n4. Dana Pendidikan dan kesehatan lebih diutamakan',\n",
       " 'Gw cmn berharap agar IKN d bangun dari keharmonisan dan mengedepankan kemanusiaan. Jgn atas nama kemajuan tp mementahkan rasa kemanusiaan. ',\n",
       " 'Semoga pembangunan IKN LANCAR  , SEMUANYA MAKIN MAJU KARENA PRESIDENNYA PEKERJA KERAS LUAR BIASA BAPAK PRESIDEN JOKO WI 🇲🇨🇲🇨🇲🇨🇲🇨🇲🇨🇲🇨',\n",
       " 'Harga sembako semakin mahal Pak! Banyak rakyat Indonesia ini yang kelimpungan memenuhi kebutuhan pokok (makanan, rumah, pendidikan dan kesehatan) tapi \"pemerintah\" malah pesta makan makan joged joged. Sama sekali tidak peka dengan keadaan rakyat kecil.',\n",
       " 'Harga beras naik, UMKM di tanah abang mati, Rempang menangis dan buanyaaaak airmata lainnya. Selamat IKN berjaya.',\n",
       " 'Untuk menjadi negara yang lebih berkembang / maju mungkin membutuhkan pengorbanan tenaga dan waktu serta uang, tpi ndak tau juga apakah itu bagian uang utangan dari negara lain atau sbgnya... namun disisi lain banyak masyarakat yg ndak setuju krn entah kepentingan pribadi atau umum , dampaknya mgkin harga2 bahan pokok akan naik atau semacamnya.',\n",
       " 'Semoga tidak merusak lingkungan karena banyak pohon yg ditebang...dan buaya tidak ngamuk...\\nDan semoga rakyat Rempang mendapatkan keadilan..',\n",
       " 'Dukung pak anis untuk memotong Rezim yg suka hutang.\\nTakbir',\n",
       " 'Aaaa keren bgt Indonesia emng harus punya ikn dari dlu biar mental orang orangnya bisa berubah dari suka nyinyir ga bisa kasih solusi dan ciptakan inovasi , yg suka buah sampah sembarangan bilang ya ga ada tempat sampah jauh ini itu aaaaaaaaa mental mental kayak gini looooo harus di bumi hanguskan , goodjob ikn moga aku bisa kesana klo udah jadi nanti',\n",
       " 'Seperti ceramah abah guru sekumpul, Indonesia akan menjadi jaya saat ibukota pindah ke kalimantan. Allohumma Amiiin',\n",
       " 'Presiden itu pemimpinnya rakyat dan negara indonesia. Harus memikirkan rakyat dan menjalankan tujuan negara. Tujuan utama negara ada di UUD 45. Apa aja ? Ada 3 kata kunci :\\n1. Melindungi rakyat\\n2. Mensejahterakan rakyat\\n3. Mencerdaskan rakyat.\\nPertanyaannya utk admin dan kita renungkan, apakah IKN bagian dr 3 hal itu bukan ??',\n",
       " 'Saya ingin IKN tiap 10 tahun pindah. Ke papua, jawa, kaltim, bali... Tp entar kalo Indonesia udah kaya raya dan duit nya berlebih ga ada utang.',\n",
       " 'IKN hanya menguntungkan OLIGARKI Bukan rakyat miskin dan bukan buruh pabrik',\n",
       " 'Rakyat gk butuh IKN bung',\n",
       " 'IKN bagus, kalau dibangun dari kota yg sudah ada. Dirapikan agar tampak lebih layak. Misal Banjarmasin jadi ibukota negara, gue sih setuju2 aja. ',\n",
       " 'Secara awam & sederhana, makna kata hijau yg sering dipakai dalam konteks lingkung bangun & lingkung alam, ada 2\\n1. Energi terbarukan',\n",
       " 'semoga pak ANIES sehat dan sukses selalu',\n",
       " 'xtau kenapa, aku rasa kyak kita itu tertinggal ama tetangga.. tetangga punya sircuit internasional pada tahun 1999, kita bru punya mandalika pada tahun kemarin, tetangga mindahin ibu kotanya dri kuala lumpur ke putrajaya pada tahun 1994 dan benar2 rampung pada tahun 2010, sedang kita baru mau membangun ikn.. tetangga punya gedung tertinggi di dunia pada tahun 1998 hingga 2004 sedang kita punya autograph tower baru tahun kemarin.. dan masi banyak yg tetangga udah punya lama tpi kita baru punya beberapa tahun kemarin.. kyak nya cuman di jaman pak jokowi bru kelihatan yg kita itu bru mau membangun.. semoga presiden ke depan nya bisa seperti pak jokowi..',\n",
       " 'Demi keberlanjutan IKN setidaknya ada Strata sosial yang di kedepankan. Masyarakat ekonomi menengah ke bawah harus jadi prioritas kemakmuran dulu. Untuk yang terdampak mega proyek IKN. Dan kelestarian alam sepenuhnya harus di jaga dan di pertimbangkan',\n",
       " 'kota paling hijau di dunia, paling bertahan beberapa tahun habis itu mulai deh pembangunan digembor2 karna kita tahu itu ibukota baru, yg namannya ibukota pasti padat pembangunan entah pemukiman/perusahaan dll',\n",
       " 'Rakyat sudah mulai memahami negara dan rakyat, rakyat sudah mulai merasa berpisah dengan negara, negara dan rakyat saat ini tidak lagi dianggap sebagai satu kesatuan, sudah ada gap diantara keduanya. Negara seakan telah berambisi dengan segala keuntungan proyek2nya, sedangkan sumber pendanaan dari rakyat. Ini sudah merupakan peringatan yang keras bagi negara.',\n",
       " 'Gw kalau ketemu pk jokowi auto ngomong pake Bahasa Jawa sih pengen tau rasanya vibes nya ngobrol sama Presiden pakai Bahasa Jawa',\n",
       " 'KATA KATA MOTIVATOR INDONESIA. \"Jangan Ngutang hanya karna ingin terlihat Keren\".  Yg benar benar susah Rakyat Soalnya bukan pemerintah. GUBLUK.',\n",
       " 'Maju terus pak!! Ga usah digubris org2 ga penting yg sok tau pdhl ga tau apa2. Mrk yg pemikirannya cetek. Luar biasa pak jokowi!! Indonesia maju terus!! Bangun terus negeri ini!!',\n",
       " 'KLAU ADA PEMBANGUNAN PASTI :\\nADA YG SETUJU JUGA ADA YG GAK SETUJU.  SAYA RASA BANYAK YG  SRTUJU KRN DEMI MASA DEPAN NEGARA.',\n",
       " 'Lengserkan rezim wakanda terkorup, terzolim, paling banyak ngutang, dan masih banyak lagi!',\n",
       " 'Yang paling utama jaga agar tidak banjir .. Bangun pencegah banjir',\n",
       " 'IKN NUSANTARA 1 langkah lagi ',\n",
       " 'Jujur sebagai orang asli kalimantan. Jujur dari hati yang paling dalam serasa gak rela banget IKN pindah ke kalimantan sini. Apalah daya saya hanya rakyat jelata juga . Udah bagus di Jakarta aja padahal jangan disini ',\n",
       " 'Memang benar.. rasa suka dan tidak suka itu mempengaruhi pendapat kita..',\n",
       " 'Pak jokowi presiden langsing ',\n",
       " 'koh coba bahas Rempang, mumpung ada relevansinya tentang \"Investasi\". menurut pandangan koh raymond gimana? coba speak up (kalo berani)',\n",
       " '',\n",
       " '']"
      ]
     },
     "execution_count": 4,
     "metadata": {},
     "output_type": "execute_result"
    }
   ],
   "source": [
    "data"
   ]
  },
  {
   "cell_type": "code",
   "execution_count": 27,
   "metadata": {},
   "outputs": [
    {
     "name": "stderr",
     "output_type": "stream",
     "text": [
      "C:\\Users\\alam\\AppData\\Local\\Temp\\ipykernel_11908\\1228997273.py:5: DeprecationWarning: executable_path has been deprecated, please pass in a Service object\n",
      "  browser = webdriver.Chrome(executable_path=r'D:\\GitHub\\analisa-sentimen-XGBoost\\youtube_scraping\\chromedriver-win64\\chromedriver.exe')  # start a web browser\n"
     ]
    }
   ],
   "source": [
    "# make array to save the comment\n",
    "data = []\n",
    "\n",
    "# import the driver and link to the dtnamic broweser page (for thiss case is youtube)\n",
    "browser = webdriver.Chrome(executable_path=r'D:\\GitHub\\analisa-sentimen-XGBoost\\youtube_scraping\\chromedriver-win64\\chromedriver.exe')  # start a web browser\n",
    "browser.get(\"https://www.youtube.com/watch?v=hHn72yKLj-M\")\n",
    "\n",
    "# make wait to open browser\n",
    "wait = WebDriverWait(browser,15)\n",
    "\n",
    "# scroll down the yotube comment until all the comment is apeared \n",
    "for item in range(10): \n",
    "        wait.until(EC.visibility_of_element_located((By.TAG_NAME, \"body\"))).send_keys(Keys.END)\n",
    "        time.sleep(10) \n",
    "\n",
    "# findd all element that have #content (this is the comment section div (you can try to find out by inspecting the youtube page))\n",
    "for comment in wait.until(EC.presence_of_all_elements_located((By.CSS_SELECTOR, \"#content\"))):\n",
    "    data.append(comment.text)\n",
    "\n",
    "# this one is for the bf4 (if you want to ceck it)\n",
    "content = browser.page_source\n",
    "browser.close()"
   ]
  },
  {
   "cell_type": "code",
   "execution_count": 28,
   "metadata": {},
   "outputs": [
    {
     "data": {
      "text/plain": [
       "['ID\\nSign in\\n0:00 / 13:44\\nTerus Bergerak Ibu Kota Nusantara\\nDIAN RANA\\n196K subscribers\\nSubscribe\\n1.2K\\nShare\\n45K views  2 days ago\\nBantu Subscribe dan nyalakan lonceng notifikasi \\n...more\\n140 Comments\\nSort by\\nAdd a comment...\\n@suparnosardjiman6553\\n4 hours ago\\nIndonesia segera menuju cita cita luhur untuk berubah lebih baik.... tatanan moda transportasi modern,..alat pertahanan negara semakin hebat...  IKN  akan terwujud sebagai kebanggan Indonesia...\\nReply\\n@fidecgah9947\\n2 days ago\\nSebagai penonton setia DIAN RANA  secara pribadi sangat mendukung liputannya, cuma sekedar saran saja bahwa liputan ini kan juga sebenarnya bagian dari SEJARAH pembangunan IKN alangkah baiknya liputan dari bawah jangan terlalu goyang kasian dokumentasinya yang di kemudian hari sangat berharga sekali , maaf jika ada salah dalam perkataan saya, tetap semangat IKN\\nRead more\\n28\\nReply\\n·\\n4 replies\\n@herinarnosetiawan7546\\n2 days ago\\nTeruslah kepak kn sayapmu nusantaraku,semoga indonesia trs bersinar dr segi apapun tuk gapai kejayaan dan zaman keemasan di bumi nusantara tercinta...\\n7\\nReply\\n@fauzia1099\\n20 hours ago\\n@Dian rana.tlong sampaikan salam saya kpada seluruh pekerja kontruksi di IKN.\\nsemangat trus..... anda semua sedang membuat sejarah besar bangsa INDONESIA. salam dari CAH proyek di jogja....\\nReply\\n@imamsyah3377\\n20 hours ago\\nMasyaalah. Smoga mase sehat sllu dan terus mengabarkan perkembangan pmbangunan ikn kita \\nReply\\n@Eddychanell\\n2 days ago\\npembangunan IKN sangat spektakuler bener menakjubkan Hutan belantara disulap menjadi kota mudah2 an saya bisa hadir di Ibukota Nusantara hormat untuk bapak Jokowi Tuhan bersama kita Amin \\n11\\nReply\\n·\\n4 replies\\n@yansajati2260\\n2 days ago\\nDengan adanya kegiatan liputan perkembangan pembangunan IKN,maka masyarakat dapat secara langsung ikut mengontrol pembangunan ini agar tidak Mangkrak.\\n5\\nReply\\n@muhammadrifhest7604\\n1 day ago\\nPakde Jokowi presiden jujur paling hebat membangun negara yg dulu negara berkembang tertinggal sekarang menjadi negara besar dan maju disegani negara lain bisa membangun dan mengolah hasil alam sendiri  menjadikan rakyatnya menuju adil dan makmur sesuai cita cita para pejuang NKRI terdahulu \\nReply\\n@girikrisnaputra9040\\n2 days ago\\nIntronya keren bang Dian Rana, saya sangat senang dgn adanya channel Dian Rana yg meliput perkembangan IKN Nusantara. Semoga bang Dian Rana dan semua pekerja yg terlibat dalam pembangunan IKN sehat selalu. Salam rahayu dari Bali \\n3\\nReply\\n·\\n1 reply\\n@brita_Ku\\n2 days ago\\nTerus maju progres pembangunan IKN, sudah ga sabar pengen berlibur kesana nih.. Smg Bang Dian Rana kasih gratis perjalanan ku... Hehe.. Sehat selalu Bang Dian Rana....\\n5\\nReply\\n@IhsanKoyan-qq6gr\\n2 days ago\\nIkn nusantara progress nya masya Allah dahsyat bener sungguh luar biasa keren beken habis sangat sangat sangat spectacular nyata jelas gamblang terang benderang seratus persen maksimal \\n1\\nReply\\n@parungpanjangcreator\\n2 days ago\\nAlhamdulillah pembangunannya berjalan lancar... Indinesia semakin maju...\\n1\\nReply\\n@phty774\\n2 days ago\\nLuar biasa pasti bayak insinyur  putra putri anak bangsa yg handal  merancang\\n6\\nReply\\n@kpapmkt4385\\n2 days ago\\nChanel YT yang Pas,Penyampaian Yang Jelas,Berkualitas,Dan Transparan ...\\n4\\nReply\\n@user-jg6yf8sy1h\\n1 day ago\\nMantap \\nIkn Nusantara 🇮🇩\\nReply\\n@h.t.mahpudi1459\\n2 days ago\\nManteb, bung Dian makin keren saja IKN NUSANTARA Ok 🇮🇩🇮🇩🇮🇩\\n6\\nReply\\n@BenyaminRuslanNaba\\n2 days ago\\nGaspol biar segera 500.000 subscriber ya Bang Dian Rana \\n6\\nReply\\n@mrtbkrizalarifin1418\\n2 days ago\\nTerus melaju untuk Indonesia maju\\n7\\nReply\\n@agoyagoy3065\\n2 days ago\\nBentuk rumah jabatan Menteri seperti Rumah urang Kalimantan, Kalimantan bangkit IKN cemerlang Indonesia maju... Semoga para pekerja sehat2 dlm lindungan Tuhan YANG MAHA KUASA ALLAH SWT. Aamiin ya rabbal Alamin.\\n6\\nReply\\n@suwondosuwondo2594\\n2 days ago\\nMengikuti tayangan dari dulu melihat progres jalan sumbu kebangsaan sedikit demi sedikit sudah mulai kelihatan bentuknya, mantap!!!\\nReply\\n18:28\\nIKN Hari ini! Keajaiban Proyek Ibu Kota Nusantara yang Memikat Dunia\\nDIAN RANA\\n13K views 1 hour ago\\nNew\\n14:14\\nSEMAKIN TERTATA‼️Landscape dan Hardscape Plaza Ceremony Ibukota Nusantara.\\nWPS Channel\\n122K views 3 days ago\\nNew\\n4:32\\nPerbandingan Wujud Asli Kantor Presiden dengan Animasi Desainnya\\nMansur Media Channel\\n4.2K views 4 hours ago\\nNew\\n24:08\\nKini, IKN Nusantara Banjir Minat Investasi | IDX CHANNEL\\nIDX CHANNEL\\n29K views 2 days ago\\nNew\\n16:28\\nmenyusuri perkampungan suku Dayak di Monterado kab Bengkayang kal-bar @jejakramdani\\nJEJAK RAMDANI\\n459 views 2 days ago\\nNew\\n14:56\\nMANTAP LOGISTIK MOTOGP KEBUTUHAN LAIN NYA SUDAH TIBA DI MANDALIKA SIRKUIT HARI INI.!! #motogp\\nDAVA KUTA MANDALIKA\\n7.2K views 3 hours ago\\nNew\\n14:13\\nMenggema di Ibu Kota Nusantara Lokasi Hunian ASN hingga Plaza Seremoni IKN\\nDIAN RANA\\n69K views 1 day ago\\nNew\\n8:02\\nPOHON PULE IKN atau POHON PURBA AJAIB YANG PENUH MISTIS dan HARGANYA MAHAL\\njoziya\\n24K views 2 days ago\\nNew\\nIkn Hari ini ❗Jl. Sumbu Barat G. Galery Sumbu Kebangsaan Kemenko 2 terus MELAJU 4 Oktober 2023\\nMbah Min Bpn\\n3.8K views 4 hours ago\\nNew\\nIKN Terbaru ‼️ Update Rumah Tapak Jabatan Menteri Di Ibu Kota Nusantara\\nBalik Pedalaman\\n19K views 21 hours ago\\nNew\\nspesial kejutan.! JELANG MOTOGP GILA SANGAT BEDA MENARIK SIRKUIT MANDALIKA HARI INI\\nRomi Sanjaya Tv Ch\\n7.6K views 4 hours ago\\nNew\\nInfo IKN Nusantara\\nIKN BORNEO\\n1.4K views 3 hours ago\\nNew\\nsirkuit mandalika hari ini terbaru! pantau full semua jadi begini jelang motoGP 😱 kali ini\\nAldy mandalika Ch\\n46K views 5 hours ago\\nNew\\nPerdana di depan Garuda Istana Presiden & Kantor Presiden Langsung bareng Presiden Jokowi\\nDIAN RANA\\n306K views 11 days ago\\nTernyata Nyoman Nuarta Diminta Presiden Jokowi Desain Masjid Di IKN | WAWANCARA KHUSUS\\ntribunjabar video\\n503K views\\nPerbandingan Animasi dan Wujud Asli Kantor Presiden di IKN Nusantara\\nBUGIS TIMUR\\n34K views 3 days ago\\nNew\\nPergerakan Terbaru Proyek Sumbu Kebangsaan & Hotel Nusantara\\nDIAN RANA\\n41K views 3 days ago\\nNew\\n[FULL] Kabar Pemilu 2 Oktober 2023 | tvOne\\ntvOneNews\\n66K views 2 days ago\\nNew\\nIkn Terkini❗Sumbu Kebangsaan Gedung Galery Plaza Ceremoni Ikn Nusantara 1 Oktober 2023\\nMbah Min Bpn\\n15K views 2 days ago\\nNew\\nIKN Hari Ini - Progres Pembangunan Bilah Garuda Istana Negara IKN Akan Dikirim Tahap 2\\nLENSA KONTRUKSI - IKN HARI INI\\n3.3K views 3 days ago\\nNew',\n",
       " '',\n",
       " 'Indonesia segera menuju cita cita luhur untuk berubah lebih baik.... tatanan moda transportasi modern,..alat pertahanan negara semakin hebat...  IKN  akan terwujud sebagai kebanggan Indonesia...',\n",
       " 'Sebagai penonton setia DIAN RANA  secara pribadi sangat mendukung liputannya, cuma sekedar saran saja bahwa liputan ini kan juga sebenarnya bagian dari SEJARAH pembangunan IKN alangkah baiknya liputan dari bawah jangan terlalu goyang kasian dokumentasinya yang di kemudian hari sangat berharga sekali , maaf jika ada salah dalam perkataan saya, tetap semangat IKN',\n",
       " 'Teruslah kepak kn sayapmu nusantaraku,semoga indonesia trs bersinar dr segi apapun tuk gapai kejayaan dan zaman keemasan di bumi nusantara tercinta...',\n",
       " '@Dian rana.tlong sampaikan salam saya kpada seluruh pekerja kontruksi di IKN.\\nsemangat trus..... anda semua sedang membuat sejarah besar bangsa INDONESIA. salam dari CAH proyek di jogja....',\n",
       " 'Masyaalah. Smoga mase sehat sllu dan terus mengabarkan perkembangan pmbangunan ikn kita ',\n",
       " 'pembangunan IKN sangat spektakuler bener menakjubkan Hutan belantara disulap menjadi kota mudah2 an saya bisa hadir di Ibukota Nusantara hormat untuk bapak Jokowi Tuhan bersama kita Amin ',\n",
       " 'Dengan adanya kegiatan liputan perkembangan pembangunan IKN,maka masyarakat dapat secara langsung ikut mengontrol pembangunan ini agar tidak Mangkrak.',\n",
       " 'Pakde Jokowi presiden jujur paling hebat membangun negara yg dulu negara berkembang tertinggal sekarang menjadi negara besar dan maju disegani negara lain bisa membangun dan mengolah hasil alam sendiri  menjadikan rakyatnya menuju adil dan makmur sesuai cita cita para pejuang NKRI terdahulu ',\n",
       " 'Intronya keren bang Dian Rana, saya sangat senang dgn adanya channel Dian Rana yg meliput perkembangan IKN Nusantara. Semoga bang Dian Rana dan semua pekerja yg terlibat dalam pembangunan IKN sehat selalu. Salam rahayu dari Bali ',\n",
       " 'Terus maju progres pembangunan IKN, sudah ga sabar pengen berlibur kesana nih.. Smg Bang Dian Rana kasih gratis perjalanan ku... Hehe.. Sehat selalu Bang Dian Rana....',\n",
       " 'Ikn nusantara progress nya masya Allah dahsyat bener sungguh luar biasa keren beken habis sangat sangat sangat spectacular nyata jelas gamblang terang benderang seratus persen maksimal ',\n",
       " 'Alhamdulillah pembangunannya berjalan lancar... Indinesia semakin maju...',\n",
       " 'Luar biasa pasti bayak insinyur  putra putri anak bangsa yg handal  merancang',\n",
       " 'Chanel YT yang Pas,Penyampaian Yang Jelas,Berkualitas,Dan Transparan ...',\n",
       " 'Mantap \\nIkn Nusantara 🇮🇩',\n",
       " 'Manteb, bung Dian makin keren saja IKN NUSANTARA Ok 🇮🇩🇮🇩🇮🇩',\n",
       " 'Gaspol biar segera 500.000 subscriber ya Bang Dian Rana ',\n",
       " 'Terus melaju untuk Indonesia maju',\n",
       " 'Bentuk rumah jabatan Menteri seperti Rumah urang Kalimantan, Kalimantan bangkit IKN cemerlang Indonesia maju... Semoga para pekerja sehat2 dlm lindungan Tuhan YANG MAHA KUASA ALLAH SWT. Aamiin ya rabbal Alamin.',\n",
       " 'Mengikuti tayangan dari dulu melihat progres jalan sumbu kebangsaan sedikit demi sedikit sudah mulai kelihatan bentuknya, mantap!!!',\n",
       " '',\n",
       " '',\n",
       " '',\n",
       " '',\n",
       " '',\n",
       " '']"
      ]
     },
     "execution_count": 28,
     "metadata": {},
     "output_type": "execute_result"
    }
   ],
   "source": [
    "data"
   ]
  },
  {
   "cell_type": "code",
   "execution_count": 5,
   "metadata": {},
   "outputs": [
    {
     "data": {
      "text/html": [
       "<div>\n",
       "<style scoped>\n",
       "    .dataframe tbody tr th:only-of-type {\n",
       "        vertical-align: middle;\n",
       "    }\n",
       "\n",
       "    .dataframe tbody tr th {\n",
       "        vertical-align: top;\n",
       "    }\n",
       "\n",
       "    .dataframe thead th {\n",
       "        text-align: right;\n",
       "    }\n",
       "</style>\n",
       "<table border=\"1\" class=\"dataframe\">\n",
       "  <thead>\n",
       "    <tr style=\"text-align: right;\">\n",
       "      <th></th>\n",
       "      <th>comment</th>\n",
       "    </tr>\n",
       "  </thead>\n",
       "  <tbody>\n",
       "    <tr>\n",
       "      <th>0</th>\n",
       "      <td>ID\\nSign in\\nHome\\nShorts\\nSubscriptions\\nLibr...</td>\n",
       "    </tr>\n",
       "    <tr>\n",
       "      <th>1</th>\n",
       "      <td>Add a comment...\\n@ravskuyy1304\\n12 days ago\\n...</td>\n",
       "    </tr>\n",
       "    <tr>\n",
       "      <th>2</th>\n",
       "      <td>RAKYAT REMPANG MENANGIS MEREKA MEMBUAT SYUKURAN</td>\n",
       "    </tr>\n",
       "    <tr>\n",
       "      <th>3</th>\n",
       "      <td>Strategi makan siang pak jokowi ini emang efek...</td>\n",
       "    </tr>\n",
       "    <tr>\n",
       "      <th>4</th>\n",
       "      <td>Terkadang melihat mereka gembira terwa², Joget...</td>\n",
       "    </tr>\n",
       "  </tbody>\n",
       "</table>\n",
       "</div>"
      ],
      "text/plain": [
       "                                             comment\n",
       "0  ID\\nSign in\\nHome\\nShorts\\nSubscriptions\\nLibr...\n",
       "1  Add a comment...\\n@ravskuyy1304\\n12 days ago\\n...\n",
       "2   RAKYAT REMPANG MENANGIS MEREKA MEMBUAT SYUKURAN \n",
       "3  Strategi makan siang pak jokowi ini emang efek...\n",
       "4  Terkadang melihat mereka gembira terwa², Joget..."
      ]
     },
     "execution_count": 5,
     "metadata": {},
     "output_type": "execute_result"
    }
   ],
   "source": [
    "import pandas as pd\n",
    "df = pd.DataFrame(data, columns=['comment'])\n",
    "df.head()"
   ]
  },
  {
   "cell_type": "code",
   "execution_count": 8,
   "metadata": {},
   "outputs": [],
   "source": [
    "df = df[2:]\n",
    "df.head()"
   ]
  },
  {
   "cell_type": "code",
   "execution_count": 9,
   "metadata": {},
   "outputs": [
    {
     "data": {
      "text/html": [
       "<div>\n",
       "<style scoped>\n",
       "    .dataframe tbody tr th:only-of-type {\n",
       "        vertical-align: middle;\n",
       "    }\n",
       "\n",
       "    .dataframe tbody tr th {\n",
       "        vertical-align: top;\n",
       "    }\n",
       "\n",
       "    .dataframe thead th {\n",
       "        text-align: right;\n",
       "    }\n",
       "</style>\n",
       "<table border=\"1\" class=\"dataframe\">\n",
       "  <thead>\n",
       "    <tr style=\"text-align: right;\">\n",
       "      <th></th>\n",
       "      <th>comment</th>\n",
       "    </tr>\n",
       "  </thead>\n",
       "  <tbody>\n",
       "    <tr>\n",
       "      <th>3</th>\n",
       "      <td>Strategi makan siang pak jokowi ini emang efek...</td>\n",
       "    </tr>\n",
       "    <tr>\n",
       "      <th>4</th>\n",
       "      <td>Terkadang melihat mereka gembira terwa², Joget...</td>\n",
       "    </tr>\n",
       "    <tr>\n",
       "      <th>5</th>\n",
       "      <td>Mau bikin proyek mega kaya apapun kalo birokra...</td>\n",
       "    </tr>\n",
       "    <tr>\n",
       "      <th>6</th>\n",
       "      <td>IKN itu proyek utk pejabat, semua fasilitasnya...</td>\n",
       "    </tr>\n",
       "    <tr>\n",
       "      <th>7</th>\n",
       "      <td>Tolong Presiden Baru 2024 Batalkan IKN, KAC Da...</td>\n",
       "    </tr>\n",
       "  </tbody>\n",
       "</table>\n",
       "</div>"
      ],
      "text/plain": [
       "                                             comment\n",
       "3  Strategi makan siang pak jokowi ini emang efek...\n",
       "4  Terkadang melihat mereka gembira terwa², Joget...\n",
       "5  Mau bikin proyek mega kaya apapun kalo birokra...\n",
       "6  IKN itu proyek utk pejabat, semua fasilitasnya...\n",
       "7  Tolong Presiden Baru 2024 Batalkan IKN, KAC Da..."
      ]
     },
     "execution_count": 9,
     "metadata": {},
     "output_type": "execute_result"
    }
   ],
   "source": []
  },
  {
   "cell_type": "code",
   "execution_count": 10,
   "metadata": {},
   "outputs": [],
   "source": [
    "df.to_excel('tes_scrap.xlsx')"
   ]
  },
  {
   "cell_type": "markdown",
   "metadata": {},
   "source": [
    "## Dokumentasi selenimun"
   ]
  },
  {
   "cell_type": "code",
   "execution_count": 4,
   "metadata": {},
   "outputs": [
    {
     "name": "stderr",
     "output_type": "stream",
     "text": [
      "C:\\Users\\alam\\AppData\\Local\\Temp\\ipykernel_6108\\1746191795.py:6: DeprecationWarning: executable_path has been deprecated, please pass in a Service object\n",
      "  browser = webdriver.Chrome(executable_path=r'D:\\GitHub\\analisa-sentimen-XGBoost\\youtube_scraping\\chromedriver-win64\\chromedriver.exe')  # start a web browser\n"
     ]
    },
    {
     "name": "stdout",
     "output_type": "stream",
     "text": [
      "Colorful sushi and Tea ceremony\n"
     ]
    }
   ],
   "source": [
    "from selenium import webdriver\n",
    "from selenium.webdriver.common.by import By\n",
    "from selenium.webdriver.support.ui import WebDriverWait\n",
    "from selenium.webdriver.support.expected_conditions import visibility_of_element_located\n",
    "\n",
    "browser = webdriver.Chrome(executable_path=r'D:\\GitHub\\analisa-sentimen-XGBoost\\youtube_scraping\\chromedriver-win64\\chromedriver.exe')  # start a web browser\n",
    "browser.get(\"https://www.airbnb.com/experiences/272085\")  # navigate to URL\n",
    "# wait for page to load\n",
    "# by waiting for <h1> element to appear on the page\n",
    "title = (\n",
    "    WebDriverWait(driver=browser, timeout=10)\n",
    "    .until(visibility_of_element_located((By.CSS_SELECTOR, \"h1\")))\n",
    "    .text\n",
    ")\n",
    "# retrieve fully rendered HTML content\n",
    "content = browser.page_source\n",
    "browser.close()\n",
    "\n",
    "# we then could parse it with beautifulsoup\n",
    "from bs4 import BeautifulSoup\n",
    "soup = BeautifulSoup(content, \"html.parser\")\n",
    "print(soup.find(\"h1\").text)"
   ]
  },
  {
   "cell_type": "code",
   "execution_count": null,
   "metadata": {},
   "outputs": [],
   "source": [
    "\n",
    "data=[]\n",
    "\n",
    "with Chrome(executable_path=r'D:\\GitHub\\analisa-sentimen-XGBoost\\youtube_scraping\\chromedriver-win64\\chromedriver.exe') as driver:\n",
    "    wait = WebDriverWait(driver,15)\n",
    "    driver.get(\"https://www.youtube.com/watch?v=hHn72yKLj-M\")\n",
    "\n",
    "    for item in range(200): \n",
    "        wait.until(EC.visibility_of_element_located((By.TAG_NAME, \"body\"))).send_keys(Keys.END)\n",
    "        time.sleep(15)  \n",
    "\n",
    "    for comment in wait.until(EC.presence_of_all_elements_located((By.CSS_SELECTOR, \"#content\"))):\n",
    "        data.append(comment.text)\n",
    "    \n",
    "    "
   ]
  }
 ],
 "metadata": {
  "kernelspec": {
   "display_name": "Python 3",
   "language": "python",
   "name": "python3"
  },
  "language_info": {
   "codemirror_mode": {
    "name": "ipython",
    "version": 3
   },
   "file_extension": ".py",
   "mimetype": "text/x-python",
   "name": "python",
   "nbconvert_exporter": "python",
   "pygments_lexer": "ipython3",
   "version": "3.11.5"
  },
  "orig_nbformat": 4
 },
 "nbformat": 4,
 "nbformat_minor": 2
}
