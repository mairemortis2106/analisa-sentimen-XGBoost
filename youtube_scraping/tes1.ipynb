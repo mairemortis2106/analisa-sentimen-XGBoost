{
 "cells": [
  {
   "cell_type": "code",
   "execution_count": 6,
   "metadata": {},
   "outputs": [],
   "source": [
    "# import library\n",
    "import time\n",
    "from selenium import webdriver\n",
    "from selenium.webdriver import Chrome\n",
    "from selenium.webdriver.common.by import By\n",
    "from selenium.webdriver.common.keys import Keys\n",
    "from selenium.webdriver.support.ui import WebDriverWait\n",
    "from selenium.webdriver.support import expected_conditions as EC"
   ]
  },
  {
   "cell_type": "code",
   "execution_count": 29,
   "metadata": {},
   "outputs": [
    {
     "name": "stderr",
     "output_type": "stream",
     "text": [
      "C:\\Users\\alam\\AppData\\Local\\Temp\\ipykernel_11908\\141132767.py:3: DeprecationWarning: executable_path has been deprecated, please pass in a Service object\n",
      "  browser = webdriver.Chrome(executable_path=r'D:\\GitHub\\analisa-sentimen-XGBoost\\youtube_scraping\\chromedriver-win64\\chromedriver.exe')  # start a web browser\n"
     ]
    },
    {
     "data": {
      "text/plain": [
       "<bound method WebDriver.close of <selenium.webdriver.chrome.webdriver.WebDriver (session=\"265d099f0fed3ea2c4c43a3d10bd725f\")>>"
      ]
     },
     "execution_count": 29,
     "metadata": {},
     "output_type": "execute_result"
    }
   ],
   "source": [
    "data = []\n",
    "\n",
    "browser = webdriver.Chrome(executable_path=r'D:\\GitHub\\analisa-sentimen-XGBoost\\youtube_scraping\\chromedriver-win64\\chromedriver.exe')  # start a web browser\n",
    "browser.get(\"https://youtube.com/shorts/wUZ0Zjj0QlI?si=smNXycDX8mJoDdiq\")\n",
    "wait = WebDriverWait(browser,15)\n",
    "browser.find_element(\"xpath\",'/html/body/ytd-app/div[1]/ytd-page-manager/ytd-shorts/div[3]/div[2]/ytd-reel-video-renderer[1]/div[3]/ytd-reel-player-overlay-renderer/div[2]/div[4]/ytd-button-renderer').click()\n",
    "\n",
    "\n",
    "\n",
    "for comment in wait.until(EC.presence_of_all_elements_located((By.CSS_SELECTOR, \"#content\"))):\n",
    "    data.append(comment.text)\n",
    "\n",
    "\n",
    "browser.close\n"
   ]
  },
  {
   "cell_type": "code",
   "execution_count": 30,
   "metadata": {},
   "outputs": [
    {
     "data": {
      "text/plain": [
       "['ID\\nSign in\\nHome\\nShorts\\nSubscriptions\\nLibrary\\nHistory\\nComments\\n3.7K\\nAdd a comment...\\n@ravskuyy1304\\n10 days ago\\nRAKYAT REMPANG MENANGIS MEREKA MEMBUAT SYUKURAN \\n828\\nReply\\n264 replies\\n@hendrosetyobudi946\\n4 days ago\\nIKN saat ini TIDAK DIBUTUHKAN..\\nyg dibutuhkan rakyat:\\n1. Harga sembako stabil\\n2. Harga pupuk terjangkau buat petani\\nRead more\\n296\\nReply\\n110 replies\\n@mikescarlet4261\\n3 days ago\\nStrategi makan siang pak jokowi ini emang efektif banget. Dengan mengundang influencer2 makan satu meja dengan dia, secara nggak langsung membuat ilusi seolah olah influencer ini merasa seperti orang penting yang pendapatnya bakal didengar oleh presiden, padahal aslinya nggak penting penting amat\\nRead more\\n161\\nReply\\n36 replies\\n@punkaz1306\\n9 days ago\\nMau bikin proyek mega kaya apapun kalo birokrasinya morat marit percuma. Mending dananya buat kesehatan, stunting dan kemakmuran rakyat. Kalo gini mah seneng oligarki nya\\n222\\nReply\\n47 replies\\n@warganetlagi8533\\n3 days ago\\nTerkadang melihat mereka gembira terwa², Joget².timbul pertanyaan\\nApakah Negeri ini baik² Saja?...\\n39\\nReply\\n11 replies\\n@nagasenior1166\\n4 days ago\\nKATA KATA MOTIVATOR INDONESIA. \"Jangan Ngutang hanya karna ingin terlihat Keren\".  Yg benar benar susah Rakyat Soalnya bukan pemerintah. GUBLUK.\\n17\\nReply\\n2 replies\\n@siberatlogistik\\n11 days ago\\nSuruh Jokowi bayar hutang2  ke semua vendor2 yg ikut pembangunan tol, bendungan, mandalika dll\\n334\\nReply\\n87 replies\\n@muhammadrazikani7951\\n1 day ago\\nSaya Menolak IKN dipindahkan ke kalimantan, jangan buat rakyat kalimantan menjadi terusir dari tanahnya sendiri!!!\\n5\\nReply\\n@cocgirl2893\\n4 days ago\\nPresiden itu pemimpinnya rakyat dan negara indonesia. Harus memikirkan rakyat dan menjalankan tujuan negara. Tujuan utama negara ada di UUD 45. Apa aja ? Ada 3 kata kunci :\\nRead more\\n86\\nReply\\n17 replies\\n@astradarmawan-yo7mp\\n6 days ago\\nDisaat warga Rempang di gusur, pak President yg dulu menjanjikan SHM 3bulan sekarang bersama para menteri joget joget, dimana empati nya & tanpa rasa bersalah atas janji janjinya. \\nRead more\\n271\\nReply\\n38 replies\\n@alfatih847\\n8 hours ago\\nHanya Pak Anies yg bisa memperbaiki negara\\n2\\nReply\\n2 replies\\n@tonikroos2389\\n4 days ago\\nJujur sebagai orang asli kalimantan. Jujur dari hati yang paling dalam serasa gak rela banget IKN pindah ke kalimantan sini. Apalah daya saya hanya rakyat jelata juga . Udah bagus di Jakarta aja padahal jangan disini \\n12\\nReply\\n5 replies\\n@muhammadsiswanto5454\\n10 days ago\\nMertua saya orang trans di Ikn,istri saya lahir dan besar di wilayah IKN. Yess saya paham,begitu banyak potensi di IKN,tpi bagi kami orang kecil. Jelas IKN tidak memberikan peluang yg besar bagi kami,malah lebih banyak hal negatif ke depan nya.\\nRead more\\n455\\nReply\\n72 replies\\n@rivonrivano26\\n1 day ago\\nBanyak masyarakat mempermasalahkan utang 7k T dimasa pemerintahan pak Jokowi, padahal mereka tidak tau bahwa dengan utang itu Indonesia bisa maju. Justru pak Jokowi menurut gua presiden yg cerdas banget memanfaatkan utang. Utang itu digunakan untuk investasi, bukan malah di gunakan dalam hal konsumtif misalnya kesehatan, pangan, dll. Utang lu alihkan ke kesehatan, pangan, dan sejenisnya gk bakal bisa membuat utang itu berkurang yg ada malah gk bisa balik bayar utang, tapi dengan di investasikan maka utang bisa berkurang. Uang dari hasil investasi dibagi dua, setengah untuk bayar cicilan utang dan setengahnya buat pemasukan negara yg bisa di gunakan untuk hal hal konsumtif tadinya .\\nRead more\\n2\\nReply\\n1 reply\\n@alisupyan925\\n26 minutes ago\\nbelum saat yg tepat bangun IKN sekarang. Bukan itu yg rakyat butuhkan. Kesejahteraan yg merata, itu yg sangat penting dilakukan pemerintah jokowi.\\nReply\\n@srinofikaputri9577\\n11 days ago\\nSiapapun nanti presidenya semoga bisa melanjutkan program2 pemerintah sekarang yg bernilai positif dan memberikan dampak baik untuk kemajuan rakyat bangsa dan negara\\n690\\nReply\\n88 replies\\n@aliholic9102\\n13 hours ago (edited)\\nTolong Presiden Baru 2024 Batalkan IKN, KAC Dan Rempang Serta Murahkan Harga Sembako\\nReply\\n1 reply\\n@user-vy6ty1rz1c\\n3 days ago\\nIKN akan jd kota paling kerenz di dunia..paling bersih dan sehat...natural..\\n8\\nReply\\n7 replies\\n@midboyhgf94062\\n11 days ago\\nGw harap pembangunan Ibukota yang baru tidak memakan terlalu banyak pohon dan tidak terlalu banyak industri, tetap 75% luas daerah pepohonan dari kota.\\n448\\nReply\\n61 replies\\n@miaaja132\\n1 hour ago\\nGw dukung IKN kalo\\n1. Utang negara lunas\\n2. Sumber pangan tercukupi\\n3. Pemerataan ekonomi di seluruh indo\\nRead more\\nReply\\nDiundang Pak Jokowi ke IKN Nusantara #revolusilokal #raymondchin #jokowi #ikn\\n@RaymondChins\\nSubscribe\\n26K\\nDislike\\n3.7K\\nShare\\nSubscribe\\nLike\\nDislike\\nComment\\nShare\\nSubscribe\\nLike\\nDislike\\nComment\\nShare\\nSubscribe\\nLike\\nDislike\\nComment\\nShare\\nSubscribe\\nLike\\nDislike\\nComment\\nShare\\nSubscribe\\nLike\\nDislike\\nComment\\nShare\\nSubscribe\\nLike\\nDislike\\nComment\\nShare\\nSubscribe\\nLike\\nDislike\\nComment\\nShare\\nSubscribe\\nLike\\nDislike\\nComment\\nShare\\nSubscribe\\nLike\\nDislike\\nComment\\nShare',\n",
       " 'Add a comment...\\n@ravskuyy1304\\n10 days ago\\nRAKYAT REMPANG MENANGIS MEREKA MEMBUAT SYUKURAN \\n828\\nReply\\n264 replies\\n@hendrosetyobudi946\\n4 days ago\\nIKN saat ini TIDAK DIBUTUHKAN..\\nyg dibutuhkan rakyat:\\n1. Harga sembako stabil\\n2. Harga pupuk terjangkau buat petani\\nRead more\\n296\\nReply\\n110 replies\\n@mikescarlet4261\\n3 days ago\\nStrategi makan siang pak jokowi ini emang efektif banget. Dengan mengundang influencer2 makan satu meja dengan dia, secara nggak langsung membuat ilusi seolah olah influencer ini merasa seperti orang penting yang pendapatnya bakal didengar oleh presiden, padahal aslinya nggak penting penting amat\\nRead more\\n161\\nReply\\n36 replies\\n@punkaz1306\\n9 days ago\\nMau bikin proyek mega kaya apapun kalo birokrasinya morat marit percuma. Mending dananya buat kesehatan, stunting dan kemakmuran rakyat. Kalo gini mah seneng oligarki nya\\n222\\nReply\\n47 replies\\n@warganetlagi8533\\n3 days ago\\nTerkadang melihat mereka gembira terwa², Joget².timbul pertanyaan\\nApakah Negeri ini baik² Saja?...\\n39\\nReply\\n11 replies\\n@nagasenior1166\\n4 days ago\\nKATA KATA MOTIVATOR INDONESIA. \"Jangan Ngutang hanya karna ingin terlihat Keren\".  Yg benar benar susah Rakyat Soalnya bukan pemerintah. GUBLUK.\\n17\\nReply\\n2 replies\\n@siberatlogistik\\n11 days ago\\nSuruh Jokowi bayar hutang2  ke semua vendor2 yg ikut pembangunan tol, bendungan, mandalika dll\\n334\\nReply\\n87 replies\\n@muhammadrazikani7951\\n1 day ago\\nSaya Menolak IKN dipindahkan ke kalimantan, jangan buat rakyat kalimantan menjadi terusir dari tanahnya sendiri!!!\\n5\\nReply\\n@cocgirl2893\\n4 days ago\\nPresiden itu pemimpinnya rakyat dan negara indonesia. Harus memikirkan rakyat dan menjalankan tujuan negara. Tujuan utama negara ada di UUD 45. Apa aja ? Ada 3 kata kunci :\\nRead more\\n86\\nReply\\n17 replies\\n@astradarmawan-yo7mp\\n6 days ago\\nDisaat warga Rempang di gusur, pak President yg dulu menjanjikan SHM 3bulan sekarang bersama para menteri joget joget, dimana empati nya & tanpa rasa bersalah atas janji janjinya. \\nRead more\\n271\\nReply\\n38 replies\\n@alfatih847\\n8 hours ago\\nHanya Pak Anies yg bisa memperbaiki negara\\n2\\nReply\\n2 replies\\n@tonikroos2389\\n4 days ago\\nJujur sebagai orang asli kalimantan. Jujur dari hati yang paling dalam serasa gak rela banget IKN pindah ke kalimantan sini. Apalah daya saya hanya rakyat jelata juga . Udah bagus di Jakarta aja padahal jangan disini \\n12\\nReply\\n5 replies\\n@muhammadsiswanto5454\\n10 days ago\\nMertua saya orang trans di Ikn,istri saya lahir dan besar di wilayah IKN. Yess saya paham,begitu banyak potensi di IKN,tpi bagi kami orang kecil. Jelas IKN tidak memberikan peluang yg besar bagi kami,malah lebih banyak hal negatif ke depan nya.\\nRead more\\n455\\nReply\\n72 replies\\n@rivonrivano26\\n1 day ago\\nBanyak masyarakat mempermasalahkan utang 7k T dimasa pemerintahan pak Jokowi, padahal mereka tidak tau bahwa dengan utang itu Indonesia bisa maju. Justru pak Jokowi menurut gua presiden yg cerdas banget memanfaatkan utang. Utang itu digunakan untuk investasi, bukan malah di gunakan dalam hal konsumtif misalnya kesehatan, pangan, dll. Utang lu alihkan ke kesehatan, pangan, dan sejenisnya gk bakal bisa membuat utang itu berkurang yg ada malah gk bisa balik bayar utang, tapi dengan di investasikan maka utang bisa berkurang. Uang dari hasil investasi dibagi dua, setengah untuk bayar cicilan utang dan setengahnya buat pemasukan negara yg bisa di gunakan untuk hal hal konsumtif tadinya .\\nRead more\\n2\\nReply\\n1 reply\\n@alisupyan925\\n26 minutes ago\\nbelum saat yg tepat bangun IKN sekarang. Bukan itu yg rakyat butuhkan. Kesejahteraan yg merata, itu yg sangat penting dilakukan pemerintah jokowi.\\nReply\\n@srinofikaputri9577\\n11 days ago\\nSiapapun nanti presidenya semoga bisa melanjutkan program2 pemerintah sekarang yg bernilai positif dan memberikan dampak baik untuk kemajuan rakyat bangsa dan negara\\n690\\nReply\\n88 replies\\n@aliholic9102\\n13 hours ago (edited)\\nTolong Presiden Baru 2024 Batalkan IKN, KAC Dan Rempang Serta Murahkan Harga Sembako\\nReply\\n1 reply\\n@user-vy6ty1rz1c\\n3 days ago\\nIKN akan jd kota paling kerenz di dunia..paling bersih dan sehat...natural..\\n8\\nReply\\n7 replies\\n@midboyhgf94062\\n11 days ago\\nGw harap pembangunan Ibukota yang baru tidak memakan terlalu banyak pohon dan tidak terlalu banyak industri, tetap 75% luas daerah pepohonan dari kota.\\n448\\nReply\\n61 replies\\n@miaaja132\\n1 hour ago\\nGw dukung IKN kalo\\n1. Utang negara lunas\\n2. Sumber pangan tercukupi\\n3. Pemerataan ekonomi di seluruh indo\\nRead more\\nReply',\n",
       " '',\n",
       " '']"
      ]
     },
     "execution_count": 30,
     "metadata": {},
     "output_type": "execute_result"
    }
   ],
   "source": [
    "data"
   ]
  },
  {
   "cell_type": "code",
   "execution_count": 27,
   "metadata": {},
   "outputs": [
    {
     "name": "stderr",
     "output_type": "stream",
     "text": [
      "C:\\Users\\alam\\AppData\\Local\\Temp\\ipykernel_11908\\1228997273.py:5: DeprecationWarning: executable_path has been deprecated, please pass in a Service object\n",
      "  browser = webdriver.Chrome(executable_path=r'D:\\GitHub\\analisa-sentimen-XGBoost\\youtube_scraping\\chromedriver-win64\\chromedriver.exe')  # start a web browser\n"
     ]
    }
   ],
   "source": [
    "# make array to save the comment\n",
    "data = []\n",
    "\n",
    "# import the driver and link to the dtnamic broweser page (for thiss case is youtube)\n",
    "browser = webdriver.Chrome(executable_path=r'D:\\GitHub\\analisa-sentimen-XGBoost\\youtube_scraping\\chromedriver-win64\\chromedriver.exe')  # start a web browser\n",
    "browser.get(\"https://www.youtube.com/watch?v=hHn72yKLj-M\")\n",
    "\n",
    "# make wait to open browser\n",
    "wait = WebDriverWait(browser,15)\n",
    "\n",
    "# scroll down the yotube comment until all the comment is apeared \n",
    "# for item in range(2): \n",
    "#         wait.until(EC.visibility_of_element_located((By.TAG_NAME, \"body\"))).send_keys(Keys.END)\n",
    "#         time.sleep(10) \n",
    "\n",
    "# findd all element that have #content (this is the comment section div (you can try to find out by inspecting the youtube page))\n",
    "for comment in wait.until(EC.presence_of_all_elements_located((By.CSS_SELECTOR, \"#content\"))):\n",
    "    data.append(comment.text)\n",
    "\n",
    "# this one is for the bf4 (if you want to ceck it)\n",
    "content = browser.page_source\n",
    "browser.close()"
   ]
  },
  {
   "cell_type": "code",
   "execution_count": 28,
   "metadata": {},
   "outputs": [
    {
     "data": {
      "text/plain": [
       "['ID\\nSign in\\n0:00 / 13:44\\nTerus Bergerak Ibu Kota Nusantara\\nDIAN RANA\\n196K subscribers\\nSubscribe\\n1.2K\\nShare\\n45K views  2 days ago\\nBantu Subscribe dan nyalakan lonceng notifikasi \\n...more\\n140 Comments\\nSort by\\nAdd a comment...\\n@suparnosardjiman6553\\n4 hours ago\\nIndonesia segera menuju cita cita luhur untuk berubah lebih baik.... tatanan moda transportasi modern,..alat pertahanan negara semakin hebat...  IKN  akan terwujud sebagai kebanggan Indonesia...\\nReply\\n@fidecgah9947\\n2 days ago\\nSebagai penonton setia DIAN RANA  secara pribadi sangat mendukung liputannya, cuma sekedar saran saja bahwa liputan ini kan juga sebenarnya bagian dari SEJARAH pembangunan IKN alangkah baiknya liputan dari bawah jangan terlalu goyang kasian dokumentasinya yang di kemudian hari sangat berharga sekali , maaf jika ada salah dalam perkataan saya, tetap semangat IKN\\nRead more\\n28\\nReply\\n·\\n4 replies\\n@herinarnosetiawan7546\\n2 days ago\\nTeruslah kepak kn sayapmu nusantaraku,semoga indonesia trs bersinar dr segi apapun tuk gapai kejayaan dan zaman keemasan di bumi nusantara tercinta...\\n7\\nReply\\n@fauzia1099\\n20 hours ago\\n@Dian rana.tlong sampaikan salam saya kpada seluruh pekerja kontruksi di IKN.\\nsemangat trus..... anda semua sedang membuat sejarah besar bangsa INDONESIA. salam dari CAH proyek di jogja....\\nReply\\n@imamsyah3377\\n20 hours ago\\nMasyaalah. Smoga mase sehat sllu dan terus mengabarkan perkembangan pmbangunan ikn kita \\nReply\\n@Eddychanell\\n2 days ago\\npembangunan IKN sangat spektakuler bener menakjubkan Hutan belantara disulap menjadi kota mudah2 an saya bisa hadir di Ibukota Nusantara hormat untuk bapak Jokowi Tuhan bersama kita Amin \\n11\\nReply\\n·\\n4 replies\\n@yansajati2260\\n2 days ago\\nDengan adanya kegiatan liputan perkembangan pembangunan IKN,maka masyarakat dapat secara langsung ikut mengontrol pembangunan ini agar tidak Mangkrak.\\n5\\nReply\\n@muhammadrifhest7604\\n1 day ago\\nPakde Jokowi presiden jujur paling hebat membangun negara yg dulu negara berkembang tertinggal sekarang menjadi negara besar dan maju disegani negara lain bisa membangun dan mengolah hasil alam sendiri  menjadikan rakyatnya menuju adil dan makmur sesuai cita cita para pejuang NKRI terdahulu \\nReply\\n@girikrisnaputra9040\\n2 days ago\\nIntronya keren bang Dian Rana, saya sangat senang dgn adanya channel Dian Rana yg meliput perkembangan IKN Nusantara. Semoga bang Dian Rana dan semua pekerja yg terlibat dalam pembangunan IKN sehat selalu. Salam rahayu dari Bali \\n3\\nReply\\n·\\n1 reply\\n@brita_Ku\\n2 days ago\\nTerus maju progres pembangunan IKN, sudah ga sabar pengen berlibur kesana nih.. Smg Bang Dian Rana kasih gratis perjalanan ku... Hehe.. Sehat selalu Bang Dian Rana....\\n5\\nReply\\n@IhsanKoyan-qq6gr\\n2 days ago\\nIkn nusantara progress nya masya Allah dahsyat bener sungguh luar biasa keren beken habis sangat sangat sangat spectacular nyata jelas gamblang terang benderang seratus persen maksimal \\n1\\nReply\\n@parungpanjangcreator\\n2 days ago\\nAlhamdulillah pembangunannya berjalan lancar... Indinesia semakin maju...\\n1\\nReply\\n@phty774\\n2 days ago\\nLuar biasa pasti bayak insinyur  putra putri anak bangsa yg handal  merancang\\n6\\nReply\\n@kpapmkt4385\\n2 days ago\\nChanel YT yang Pas,Penyampaian Yang Jelas,Berkualitas,Dan Transparan ...\\n4\\nReply\\n@user-jg6yf8sy1h\\n1 day ago\\nMantap \\nIkn Nusantara 🇮🇩\\nReply\\n@h.t.mahpudi1459\\n2 days ago\\nManteb, bung Dian makin keren saja IKN NUSANTARA Ok 🇮🇩🇮🇩🇮🇩\\n6\\nReply\\n@BenyaminRuslanNaba\\n2 days ago\\nGaspol biar segera 500.000 subscriber ya Bang Dian Rana \\n6\\nReply\\n@mrtbkrizalarifin1418\\n2 days ago\\nTerus melaju untuk Indonesia maju\\n7\\nReply\\n@agoyagoy3065\\n2 days ago\\nBentuk rumah jabatan Menteri seperti Rumah urang Kalimantan, Kalimantan bangkit IKN cemerlang Indonesia maju... Semoga para pekerja sehat2 dlm lindungan Tuhan YANG MAHA KUASA ALLAH SWT. Aamiin ya rabbal Alamin.\\n6\\nReply\\n@suwondosuwondo2594\\n2 days ago\\nMengikuti tayangan dari dulu melihat progres jalan sumbu kebangsaan sedikit demi sedikit sudah mulai kelihatan bentuknya, mantap!!!\\nReply\\n18:28\\nIKN Hari ini! Keajaiban Proyek Ibu Kota Nusantara yang Memikat Dunia\\nDIAN RANA\\n13K views 1 hour ago\\nNew\\n14:14\\nSEMAKIN TERTATA‼️Landscape dan Hardscape Plaza Ceremony Ibukota Nusantara.\\nWPS Channel\\n122K views 3 days ago\\nNew\\n4:32\\nPerbandingan Wujud Asli Kantor Presiden dengan Animasi Desainnya\\nMansur Media Channel\\n4.2K views 4 hours ago\\nNew\\n24:08\\nKini, IKN Nusantara Banjir Minat Investasi | IDX CHANNEL\\nIDX CHANNEL\\n29K views 2 days ago\\nNew\\n16:28\\nmenyusuri perkampungan suku Dayak di Monterado kab Bengkayang kal-bar @jejakramdani\\nJEJAK RAMDANI\\n459 views 2 days ago\\nNew\\n14:56\\nMANTAP LOGISTIK MOTOGP KEBUTUHAN LAIN NYA SUDAH TIBA DI MANDALIKA SIRKUIT HARI INI.!! #motogp\\nDAVA KUTA MANDALIKA\\n7.2K views 3 hours ago\\nNew\\n14:13\\nMenggema di Ibu Kota Nusantara Lokasi Hunian ASN hingga Plaza Seremoni IKN\\nDIAN RANA\\n69K views 1 day ago\\nNew\\n8:02\\nPOHON PULE IKN atau POHON PURBA AJAIB YANG PENUH MISTIS dan HARGANYA MAHAL\\njoziya\\n24K views 2 days ago\\nNew\\nIkn Hari ini ❗Jl. Sumbu Barat G. Galery Sumbu Kebangsaan Kemenko 2 terus MELAJU 4 Oktober 2023\\nMbah Min Bpn\\n3.8K views 4 hours ago\\nNew\\nIKN Terbaru ‼️ Update Rumah Tapak Jabatan Menteri Di Ibu Kota Nusantara\\nBalik Pedalaman\\n19K views 21 hours ago\\nNew\\nspesial kejutan.! JELANG MOTOGP GILA SANGAT BEDA MENARIK SIRKUIT MANDALIKA HARI INI\\nRomi Sanjaya Tv Ch\\n7.6K views 4 hours ago\\nNew\\nInfo IKN Nusantara\\nIKN BORNEO\\n1.4K views 3 hours ago\\nNew\\nsirkuit mandalika hari ini terbaru! pantau full semua jadi begini jelang motoGP 😱 kali ini\\nAldy mandalika Ch\\n46K views 5 hours ago\\nNew\\nPerdana di depan Garuda Istana Presiden & Kantor Presiden Langsung bareng Presiden Jokowi\\nDIAN RANA\\n306K views 11 days ago\\nTernyata Nyoman Nuarta Diminta Presiden Jokowi Desain Masjid Di IKN | WAWANCARA KHUSUS\\ntribunjabar video\\n503K views\\nPerbandingan Animasi dan Wujud Asli Kantor Presiden di IKN Nusantara\\nBUGIS TIMUR\\n34K views 3 days ago\\nNew\\nPergerakan Terbaru Proyek Sumbu Kebangsaan & Hotel Nusantara\\nDIAN RANA\\n41K views 3 days ago\\nNew\\n[FULL] Kabar Pemilu 2 Oktober 2023 | tvOne\\ntvOneNews\\n66K views 2 days ago\\nNew\\nIkn Terkini❗Sumbu Kebangsaan Gedung Galery Plaza Ceremoni Ikn Nusantara 1 Oktober 2023\\nMbah Min Bpn\\n15K views 2 days ago\\nNew\\nIKN Hari Ini - Progres Pembangunan Bilah Garuda Istana Negara IKN Akan Dikirim Tahap 2\\nLENSA KONTRUKSI - IKN HARI INI\\n3.3K views 3 days ago\\nNew',\n",
       " '',\n",
       " 'Indonesia segera menuju cita cita luhur untuk berubah lebih baik.... tatanan moda transportasi modern,..alat pertahanan negara semakin hebat...  IKN  akan terwujud sebagai kebanggan Indonesia...',\n",
       " 'Sebagai penonton setia DIAN RANA  secara pribadi sangat mendukung liputannya, cuma sekedar saran saja bahwa liputan ini kan juga sebenarnya bagian dari SEJARAH pembangunan IKN alangkah baiknya liputan dari bawah jangan terlalu goyang kasian dokumentasinya yang di kemudian hari sangat berharga sekali , maaf jika ada salah dalam perkataan saya, tetap semangat IKN',\n",
       " 'Teruslah kepak kn sayapmu nusantaraku,semoga indonesia trs bersinar dr segi apapun tuk gapai kejayaan dan zaman keemasan di bumi nusantara tercinta...',\n",
       " '@Dian rana.tlong sampaikan salam saya kpada seluruh pekerja kontruksi di IKN.\\nsemangat trus..... anda semua sedang membuat sejarah besar bangsa INDONESIA. salam dari CAH proyek di jogja....',\n",
       " 'Masyaalah. Smoga mase sehat sllu dan terus mengabarkan perkembangan pmbangunan ikn kita ',\n",
       " 'pembangunan IKN sangat spektakuler bener menakjubkan Hutan belantara disulap menjadi kota mudah2 an saya bisa hadir di Ibukota Nusantara hormat untuk bapak Jokowi Tuhan bersama kita Amin ',\n",
       " 'Dengan adanya kegiatan liputan perkembangan pembangunan IKN,maka masyarakat dapat secara langsung ikut mengontrol pembangunan ini agar tidak Mangkrak.',\n",
       " 'Pakde Jokowi presiden jujur paling hebat membangun negara yg dulu negara berkembang tertinggal sekarang menjadi negara besar dan maju disegani negara lain bisa membangun dan mengolah hasil alam sendiri  menjadikan rakyatnya menuju adil dan makmur sesuai cita cita para pejuang NKRI terdahulu ',\n",
       " 'Intronya keren bang Dian Rana, saya sangat senang dgn adanya channel Dian Rana yg meliput perkembangan IKN Nusantara. Semoga bang Dian Rana dan semua pekerja yg terlibat dalam pembangunan IKN sehat selalu. Salam rahayu dari Bali ',\n",
       " 'Terus maju progres pembangunan IKN, sudah ga sabar pengen berlibur kesana nih.. Smg Bang Dian Rana kasih gratis perjalanan ku... Hehe.. Sehat selalu Bang Dian Rana....',\n",
       " 'Ikn nusantara progress nya masya Allah dahsyat bener sungguh luar biasa keren beken habis sangat sangat sangat spectacular nyata jelas gamblang terang benderang seratus persen maksimal ',\n",
       " 'Alhamdulillah pembangunannya berjalan lancar... Indinesia semakin maju...',\n",
       " 'Luar biasa pasti bayak insinyur  putra putri anak bangsa yg handal  merancang',\n",
       " 'Chanel YT yang Pas,Penyampaian Yang Jelas,Berkualitas,Dan Transparan ...',\n",
       " 'Mantap \\nIkn Nusantara 🇮🇩',\n",
       " 'Manteb, bung Dian makin keren saja IKN NUSANTARA Ok 🇮🇩🇮🇩🇮🇩',\n",
       " 'Gaspol biar segera 500.000 subscriber ya Bang Dian Rana ',\n",
       " 'Terus melaju untuk Indonesia maju',\n",
       " 'Bentuk rumah jabatan Menteri seperti Rumah urang Kalimantan, Kalimantan bangkit IKN cemerlang Indonesia maju... Semoga para pekerja sehat2 dlm lindungan Tuhan YANG MAHA KUASA ALLAH SWT. Aamiin ya rabbal Alamin.',\n",
       " 'Mengikuti tayangan dari dulu melihat progres jalan sumbu kebangsaan sedikit demi sedikit sudah mulai kelihatan bentuknya, mantap!!!',\n",
       " '',\n",
       " '',\n",
       " '',\n",
       " '',\n",
       " '',\n",
       " '']"
      ]
     },
     "execution_count": 28,
     "metadata": {},
     "output_type": "execute_result"
    }
   ],
   "source": [
    "data"
   ]
  },
  {
   "cell_type": "code",
   "execution_count": 31,
   "metadata": {},
   "outputs": [
    {
     "data": {
      "text/html": [
       "<div>\n",
       "<style scoped>\n",
       "    .dataframe tbody tr th:only-of-type {\n",
       "        vertical-align: middle;\n",
       "    }\n",
       "\n",
       "    .dataframe tbody tr th {\n",
       "        vertical-align: top;\n",
       "    }\n",
       "\n",
       "    .dataframe thead th {\n",
       "        text-align: right;\n",
       "    }\n",
       "</style>\n",
       "<table border=\"1\" class=\"dataframe\">\n",
       "  <thead>\n",
       "    <tr style=\"text-align: right;\">\n",
       "      <th></th>\n",
       "      <th>comment</th>\n",
       "    </tr>\n",
       "  </thead>\n",
       "  <tbody>\n",
       "    <tr>\n",
       "      <th>0</th>\n",
       "      <td>ID\\nSign in\\nHome\\nShorts\\nSubscriptions\\nLibr...</td>\n",
       "    </tr>\n",
       "    <tr>\n",
       "      <th>1</th>\n",
       "      <td>Add a comment...\\n@ravskuyy1304\\n10 days ago\\n...</td>\n",
       "    </tr>\n",
       "    <tr>\n",
       "      <th>2</th>\n",
       "      <td></td>\n",
       "    </tr>\n",
       "    <tr>\n",
       "      <th>3</th>\n",
       "      <td></td>\n",
       "    </tr>\n",
       "  </tbody>\n",
       "</table>\n",
       "</div>"
      ],
      "text/plain": [
       "                                             comment\n",
       "0  ID\\nSign in\\nHome\\nShorts\\nSubscriptions\\nLibr...\n",
       "1  Add a comment...\\n@ravskuyy1304\\n10 days ago\\n...\n",
       "2                                                   \n",
       "3                                                   "
      ]
     },
     "execution_count": 31,
     "metadata": {},
     "output_type": "execute_result"
    }
   ],
   "source": [
    "import pandas as pd\n",
    "df = pd.DataFrame(data, columns=['comment'])\n",
    "df.head()"
   ]
  },
  {
   "cell_type": "code",
   "execution_count": 32,
   "metadata": {},
   "outputs": [],
   "source": [
    "df.to_excel('tes_scrap.xlsx')"
   ]
  },
  {
   "cell_type": "code",
   "execution_count": 25,
   "metadata": {},
   "outputs": [
    {
     "name": "stdout",
     "output_type": "stream",
     "text": [
      "Collecting openpyxl\n",
      "  Downloading openpyxl-3.1.2-py2.py3-none-any.whl (249 kB)\n",
      "     ---------------------------------------- 0.0/250.0 kB ? eta -:--:--\n",
      "     - -------------------------------------- 10.2/250.0 kB ? eta -:--:--\n",
      "     ---- -------------------------------- 30.7/250.0 kB 660.6 kB/s eta 0:00:01\n",
      "     ------ ------------------------------ 41.0/250.0 kB 393.8 kB/s eta 0:00:01\n",
      "     ------ ------------------------------ 41.0/250.0 kB 393.8 kB/s eta 0:00:01\n",
      "     ------ ------------------------------ 41.0/250.0 kB 393.8 kB/s eta 0:00:01\n",
      "     ---------------- ------------------- 112.6/250.0 kB 409.6 kB/s eta 0:00:01\n",
      "     ---------------------- ------------- 153.6/250.0 kB 482.7 kB/s eta 0:00:01\n",
      "     -------------------------------- --- 225.3/250.0 kB 625.1 kB/s eta 0:00:01\n",
      "     --------------------------------- -- 235.5/250.0 kB 600.7 kB/s eta 0:00:01\n",
      "     ------------------------------------ 250.0/250.0 kB 590.5 kB/s eta 0:00:00\n",
      "Collecting et-xmlfile (from openpyxl)\n",
      "  Downloading et_xmlfile-1.1.0-py3-none-any.whl (4.7 kB)\n",
      "Installing collected packages: et-xmlfile, openpyxl\n",
      "Successfully installed et-xmlfile-1.1.0 openpyxl-3.1.2\n"
     ]
    }
   ],
   "source": [
    "!pip install openpyxl"
   ]
  },
  {
   "cell_type": "markdown",
   "metadata": {},
   "source": [
    "## Dokumentasi selenimun"
   ]
  },
  {
   "cell_type": "code",
   "execution_count": 4,
   "metadata": {},
   "outputs": [
    {
     "name": "stderr",
     "output_type": "stream",
     "text": [
      "C:\\Users\\alam\\AppData\\Local\\Temp\\ipykernel_6108\\1746191795.py:6: DeprecationWarning: executable_path has been deprecated, please pass in a Service object\n",
      "  browser = webdriver.Chrome(executable_path=r'D:\\GitHub\\analisa-sentimen-XGBoost\\youtube_scraping\\chromedriver-win64\\chromedriver.exe')  # start a web browser\n"
     ]
    },
    {
     "name": "stdout",
     "output_type": "stream",
     "text": [
      "Colorful sushi and Tea ceremony\n"
     ]
    }
   ],
   "source": [
    "from selenium import webdriver\n",
    "from selenium.webdriver.common.by import By\n",
    "from selenium.webdriver.support.ui import WebDriverWait\n",
    "from selenium.webdriver.support.expected_conditions import visibility_of_element_located\n",
    "\n",
    "browser = webdriver.Chrome(executable_path=r'D:\\GitHub\\analisa-sentimen-XGBoost\\youtube_scraping\\chromedriver-win64\\chromedriver.exe')  # start a web browser\n",
    "browser.get(\"https://www.airbnb.com/experiences/272085\")  # navigate to URL\n",
    "# wait for page to load\n",
    "# by waiting for <h1> element to appear on the page\n",
    "title = (\n",
    "    WebDriverWait(driver=browser, timeout=10)\n",
    "    .until(visibility_of_element_located((By.CSS_SELECTOR, \"h1\")))\n",
    "    .text\n",
    ")\n",
    "# retrieve fully rendered HTML content\n",
    "content = browser.page_source\n",
    "browser.close()\n",
    "\n",
    "# we then could parse it with beautifulsoup\n",
    "from bs4 import BeautifulSoup\n",
    "soup = BeautifulSoup(content, \"html.parser\")\n",
    "print(soup.find(\"h1\").text)"
   ]
  },
  {
   "cell_type": "code",
   "execution_count": null,
   "metadata": {},
   "outputs": [],
   "source": [
    "\n",
    "data=[]\n",
    "\n",
    "with Chrome(executable_path=r'D:\\GitHub\\analisa-sentimen-XGBoost\\youtube_scraping\\chromedriver-win64\\chromedriver.exe') as driver:\n",
    "    wait = WebDriverWait(driver,15)\n",
    "    driver.get(\"https://www.youtube.com/watch?v=hHn72yKLj-M\")\n",
    "\n",
    "    for item in range(200): \n",
    "        wait.until(EC.visibility_of_element_located((By.TAG_NAME, \"body\"))).send_keys(Keys.END)\n",
    "        time.sleep(15)  \n",
    "\n",
    "    for comment in wait.until(EC.presence_of_all_elements_located((By.CSS_SELECTOR, \"#content\"))):\n",
    "        data.append(comment.text)\n",
    "    \n",
    "    "
   ]
  }
 ],
 "metadata": {
  "kernelspec": {
   "display_name": "Python 3",
   "language": "python",
   "name": "python3"
  },
  "language_info": {
   "codemirror_mode": {
    "name": "ipython",
    "version": 3
   },
   "file_extension": ".py",
   "mimetype": "text/x-python",
   "name": "python",
   "nbconvert_exporter": "python",
   "pygments_lexer": "ipython3",
   "version": "3.11.5"
  },
  "orig_nbformat": 4
 },
 "nbformat": 4,
 "nbformat_minor": 2
}
