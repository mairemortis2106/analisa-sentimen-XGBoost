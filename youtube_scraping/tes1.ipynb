{
 "cells": [
  {
   "cell_type": "code",
   "execution_count": 7,
   "metadata": {},
   "outputs": [],
   "source": [
    "# import library\n",
    "import time\n",
    "from selenium import webdriver\n",
    "from selenium.webdriver import Chrome\n",
    "from selenium.webdriver.common.by import By\n",
    "from selenium.webdriver.common.keys import Keys\n",
    "from selenium.webdriver.support.ui import WebDriverWait\n",
    "from selenium.webdriver.support import expected_conditions as EC"
   ]
  },
  {
   "cell_type": "code",
   "execution_count": 16,
   "metadata": {},
   "outputs": [
    {
     "name": "stderr",
     "output_type": "stream",
     "text": [
      "C:\\Users\\alam\\AppData\\Local\\Temp\\ipykernel_6108\\603305380.py:5: DeprecationWarning: executable_path has been deprecated, please pass in a Service object\n",
      "  browser = webdriver.Chrome(executable_path=r'D:\\GitHub\\analisa-sentimen-XGBoost\\youtube_scraping\\chromedriver-win64\\chromedriver.exe')  # start a web browser\n"
     ]
    }
   ],
   "source": [
    "# make array to save the comment\n",
    "data = []\n",
    "\n",
    "# import the driver and link to the dtnamic broweser page (for thiss case is youtube)\n",
    "browser = webdriver.Chrome(executable_path=r'D:\\GitHub\\analisa-sentimen-XGBoost\\youtube_scraping\\chromedriver-win64\\chromedriver.exe')  # start a web browser\n",
    "browser.get(\"https://www.youtube.com/watch?v=hHn72yKLj-M\")\n",
    "\n",
    "# make wait to open browser\n",
    "wait = WebDriverWait(browser,15)\n",
    "\n",
    "# scroll down the yotube comment until all the comment is apeared \n",
    "for item in range(10): \n",
    "        wait.until(EC.visibility_of_element_located((By.TAG_NAME, \"body\"))).send_keys(Keys.END)\n",
    "        time.sleep(10) \n",
    "\n",
    "# findd all element that have #content (this is the comment section div (you can try to find out by inspecting the youtube page))\n",
    "for comment in wait.until(EC.presence_of_all_elements_located((By.CSS_SELECTOR, \"#content\"))):\n",
    "    data.append(comment.text)\n",
    "\n",
    "# this one is for the bf4 (if you want to ceck it)\n",
    "content = browser.page_source\n",
    "browser.close()"
   ]
  },
  {
   "cell_type": "code",
   "execution_count": 23,
   "metadata": {},
   "outputs": [
    {
     "data": {
      "text/plain": [
       "[\"ID\\nSkip navigation\\nSign in\\n0:00 / 13:44\\nTerus Bergerak Ibu Kota Nusantara\\nDIAN RANA\\n195K subscribers\\nSubscribe\\n1.1K\\nShare\\n39K views  1 day ago\\nBantu Subscribe dan nyalakan lonceng notifikasi \\n...more\\n128 Comments\\nSort by\\nAdd a comment...\\n@Eddychanell\\n1 day ago\\npembangunan IKN sangat spektakuler bener menakjubkan Hutan belantara disulap menjadi kota mudah2 an saya bisa hadir di Ibukota Nusantara hormat untuk bapak Jokowi Tuhan bersama kita Amin \\n11\\nReply\\n·\\n1 reply\\n@yansajati2260\\n1 day ago\\nDengan adanya kegiatan liputan perkembangan pembangunan IKN,maka masyarakat dapat secara langsung ikut mengontrol pembangunan ini agar tidak Mangkrak.\\n4\\nReply\\n@herinarnosetiawan7546\\n1 day ago\\nTeruslah kepak kn sayapmu nusantaraku,semoga indonesia trs bersinar dr segi apapun tuk gapai kejayaan dan zaman keemasan di bumi nusantara tercinta...\\n6\\nReply\\n@agoyagoy3065\\n1 day ago\\nBentuk rumah jabatan Menteri seperti Rumah urang Kalimantan, Kalimantan bangkit IKN cemerlang Indonesia maju... Semoga para pekerja sehat2 dlm lindungan Tuhan YANG MAHA KUASA ALLAH SWT. Aamiin ya rabbal Alamin.\\n6\\nReply\\n@fidecgah9947\\n1 day ago\\nSebagai penonton setia DIAN RANA  secara pribadi sangat mendukung liputannya, cuma sekedar saran saja bahwa liputan ini kan juga sebenarnya bagian dari SEJARAH pembangunan IKN alangkah baiknya liputan dari bawah jangan terlalu goyang kasian dokumentasinya yang di kemudian hari sangat berharga sekali , maaf jika ada salah dalam perkataan saya, tetap semangat IKN\\nRead more\\n26\\nReply\\n·\\n4 replies\\n@parungpanjangcreator\\n1 day ago\\nAlhamdulillah pembangunannya berjalan lancar... Indinesia semakin maju...\\n1\\nReply\\n@girikrisnaputra9040\\n1 day ago\\nIntronya keren bang Dian Rana, saya sangat senang dgn adanya channel Dian Rana yg meliput perkembangan IKN Nusantara. Semoga bang Dian Rana dan semua pekerja yg terlibat dalam pembangunan IKN sehat selalu. Salam rahayu dari Bali \\n3\\nReply\\n·\\n1 reply\\n@mrtbkrizalarifin1418\\n1 day ago\\nTerus melaju untuk Indonesia maju\\n6\\nReply\\n@kpapmkt4385\\n1 day ago\\nChanel YT yang Pas,Penyampaian Yang Jelas,Berkualitas,Dan Transparan ...\\n4\\nReply\\n@phty774\\n1 day ago\\nLuar biasa pasti bayak insinyur  putra putri anak bangsa yg handal  merancang\\n6\\nReply\\n@IhsanKoyan-qq6gr\\n1 day ago\\nIkn nusantara progress nya masya Allah dahsyat bener sungguh luar biasa keren beken habis sangat sangat sangat spectacular nyata jelas gamblang terang benderang seratus persen maksimal \\n1\\nReply\\n@brita_Ku\\n1 day ago\\nTerus maju progres pembangunan IKN, sudah ga sabar pengen berlibur kesana nih.. Smg Bang Dian Rana kasih gratis perjalanan ku... Hehe.. Sehat selalu Bang Dian Rana....\\n5\\nReply\\n@markchannel7828\\n1 day ago\\nTerus bergerak untuk Indonesia maju  \\nTQ bang Dian \\n1\\nReply\\n@dorisarlenrico8481\\n1 day ago\\nMantappp!!\\nSemoga semuanya lancar.. \\nAamiin..\\n3\\nReply\\n@warsini1467\\n1 day ago\\nLIBATKAN  SUKU DAYAK LUR. UNTUK TENAGA KERJANYA  BIAR MERASAKAN  BAHAGIA .\\nIKUT MEMBANGUN. IKN .\\nKAUM  TUNAS MUDA. WINONGO .\\nS T K HADIR IKUT BERBAHAGIA .\\n1\\nReply\\n@BenyaminRuslanNaba\\n1 day ago\\nGaspol biar segera 500.000 subscriber ya Bang Dian Rana \\n6\\nReply\\n@h.t.mahpudi1459\\n1 day ago\\nManteb, bung Dian makin keren saja IKN NUSANTARA Ok 🇮🇩🇮🇩🇮🇩\\n6\\nReply\\n@ahmadradityaputra6996\\n1 day ago\\nNganjuk kota angin slalu mentau semoga indonesia berjaya dimasa depan\\n1\\nReply\\n@suwondosuwondo2594\\n1 day ago\\nMengikuti tayangan dari dulu melihat progres jalan sumbu kebangsaan sedikit demi sedikit sudah mulai kelihatan bentuknya, mantap!!!\\nReply\\n@user-jg6yf8sy1h\\n4 hours ago\\nMantap \\nIkn Nusantara 🇮🇩\\nReply\\n@seiderellia\\n22 hours ago\\nBung @Dian Rana, coba tampilkan rencana peruntukan Tata Ruang Makro kawasan IKN....jangan hanya meliput kawasan inti pusat pemerintahan saja.....bangaimanapun juga kedepan IKN akan sangat bergantung dgn kawasan penyangga disekelilingnya.tks🇮🇩\\nReply\\n@suwardisuwardi958\\n1 day ago\\nDian Rana...memang top...yg diliput.....kerja....kerja dan.....kerja ikn sungguh...luar biasa\\nReply\\n@syarifahsyarifah2189\\n1 day ago\\nPerlahan lahan nanti ikn pasti indah suatu hari nanti \\n1\\nReply\\n@sunarto8124\\n1 day ago\\nKami selalu hadir tiap hari semoga dian rana sukses\\n5\\nReply\\n·\\n1 reply\\n@suhendisuhendi6740\\n1 day ago\\nDNR\\n1\\nReply\\n@hennysetiawan9777\\n1 day ago\\nBung D. R., kalau semua sudah jadi pasti lebih menawan. I. K. N. tambah mempesona. lanjut ya bung. Semangat terus untuk semuanya dan jaga kesehatan.\\n5\\nReply\\n@riananto4024\\n1 day ago\\nChanal yg selalu saya tunggu  unggahan unggahan vidionya tiap hari tentang perkembangan IKN. Chanal DIAN RANA.  Salam dari ponorogo penonton setia chanal abang dian rana mantap\\nReply\\n@jokowijayanto6217\\n1 day ago (edited)\\nBelum jadi saja sdh tampak wow ,,apalagi sdh jadi ,,,top markotob ini ikn ,,ada punya kontur tanah ,, berkonture nggak monoton datar ,,\\nReply\\n@ajisaptari8364\\n1 day ago\\nIKN Mantap pisan\\nReply\\n@ragamkehidupan7945\\n1 day ago\\nSemangat....\\n1\\nReply\\n@user-qt1rm3wk8z\\n1 day ago\\nHalo Mas Dian kita Selalu mendukung Liputanya biar kami tau Semuanya TITIK Nol  Sampek jadi Indonesia Maju\\n1\\nReply\\n·\\n1 reply\\n@JoshDification\\n1 day ago\\nSekedar usul aja gan. Gmn kalo aspalnya nanti pakai yg aspal porus, sehingga air bisa terserap ke tanah, biar lbh ramah lingkungan. Begitu jg dg pav8ng block nya. Terimakasih\\nReply\\n@ocharhnchanel5978\\n1 day ago\\nWalau p. Jokowi dihujat dihina dinyinyirin  direbdahkn diinjak2harga dirinya kelgnya.. Namun sy pribadi yakin.. Kebenaran dan kebaikn ketulusan dan perjuangn yg hebat insya Allah sang maha Agung lah yg membelanya dg jlnNya dg apapun.. Jd tetaplah menjd pimpinan yg tegat, sabar, rendah ht, teladan yg langka tp mumpuni, bkn bnyk omong, bnyk hujat tp minim karya. Ratusan juta manusia di dunia mengagumimu.. Biarkn mrk org yg haus jabatan, yg mrs tdk dipakai(pdhl org berguna tdk hrs jd pdjabat nrgara kan?..) ,contoh pemimpin besar jaman nabi... Mrk harum krn kebaikn keikhlasan dan kegigihn tanpa batas.\\nRead more\\n1\\nReply\\n@kopong348\\n1 day ago\\nBang buatkan konten perjalanan dri  balikpapan ke titik nol yg sering di kunjungi orang liburan dong hehe\\n1\\nReply\\n·\\n1 reply\\n@cakyuditv5340\\n1 day ago\\nTerus bergerak\\nReply\\n@barongkt1306\\n1 day ago\\nMantap, semakin maju\\n4\\nReply\\n@soroy2510\\n1 day ago\\nWow memang luar Biasa karya president Jokowi Dodo\\nReply\\n@IndonesiaMaju2045\\n1 day ago\\nSikat Mas Dian!\\n1\\nReply\\n@ASB50\\n1 day ago\\nJoos IKN\\n4\\nReply\\n@ASSIBDR\\n1 day ago\\nMakin mendekat 2024 makin indah dilihatnya ni belum apa2 ya entar kalau dah final maka akan teheran2 maju terus mas infonya di tunggu sampai akhir  IKN\\nReply\\n@paulus284\\n1 day ago\\n3\\nReply\\n@ansorihani3140\\n1 day ago\\nPEKAYON JAYA - BEKASI hadir\\n1\\nReply\\n@banaradi7365\\n1 day ago\\nTerimakasih DianRana liputan nya \\nReply\\n@m3jozz377\\n1 day ago\\nIKN NUSANTARA .\\n2\\nReply\\n@agoesriyantoe5925\\n1 day ago\\n🇮🇩🇮🇩🇮🇩\\n2\\nReply\\n@user-tw5ig8jt3y\\n1 day ago\\nKalau sudah jadi istana nya dan lapangan upacara nya pasti indah x\\n3\\nReply\\n@user.audience\\n22 hours ago (edited)\\nCoba diusul otorita bikin lomba lomba utk pelajar di titik nol supaya anak anak disiapkan utk tantangan kedepan sewaktu sudah jadi ibukota.\\nReply\\n@edywidjajanto260\\n1 day ago\\nAlhamdulillah..\\n1\\nReply\\n@ahmd170\\n1 day ago\\nSejarah baru terukir ibu kota Indonesia Nusantara 2024 Insyaallah..amin\\n2\\nReply\\n·\\n2 replies\\n@indayaniyani-zl9gx\\n1 day ago\\nLmbk lanjut pak dian ️\\n4\\nReply\\n@silaenjonner1423\\n1 day ago\\nMantap bang Dian\\n1\\nReply\\n@much7034\\n1 day ago\\nMau nanya, proyek ikn ini di sebut proyek terbesar d dunia, semua proyek gedung,infra dan dll berjalan serempak,    dr mna aja  pekerja yg terlibat di dlmnya, brapa jumlah tenaganya, coba upload dong bang dian rana..tempat pekerjanya seperti apa sih.. ???\\nReply\\n@linakusuma8567\\n1 day ago\\nبارك الله في إندونيسيا\\nReply\\n@minggulukas8665\\n1 day ago\\nReply\\n@bejokkeree3812\\n1 day ago\\nMantapp josss\\nReply\\n@satuhati2630\\n1 day ago\\nBang dian saya mau nitip pesan, kawasan ikn ngk boleh ada bangunan liar, supaya tidak kumuh, contoh jkarta.\\nTrimakasih\\n2\\nReply\\n@ranggakalandara7259\\n1 day ago\\nBRO..APAKAH SUATU HARI NANTI DI LUAR KAWASAN IBU KOTA NUSANTARA AKAN BERMUNCULAN GEDUNG GEDUNG PENCAKAR LANGIT?\\n7\\nReply\\n3 replies\\n@teguhsantoso9451\\n14 hours ago\\nGedung DPR / MPR di IKN belum dibangun mas Dian?\\nReply\\n@AlongBujang-to9lv\\n1 day ago\\nGedung tingginya jangan di lokasi ikn. tapi jauh dikitlah supaya tidak menganggu  view nya*\\n2\\nReply\\n@dionjelompas7702\\n1 day ago\\nMantap..\\n3\\nReply\\n@Xwaydzz\\n1 day ago\\nSalam dari Sulawesi Selatan bg\\n4\\nReply\\n@adriansagitalabba6282\\n1 day ago\\n1\\nReply\\n@user-wp2tm3gy2v\\n1 day ago\\nSerius nonton lupa klik mantap\\nReply\\n@yanarista6386\\n1 day ago\\n1\\nReply\\n@takarov39\\n1 day ago\\nexcavator banyak pake merk KOBELCO yaa,... dari united tractor KOMATSU dan trakindo utama CAT koq gak ada?\\nReply\\n@hermanushujun2181\\n22 hours ago\\nSuarax kurang jelas\\nReply\\n@musrilaziz6669\\n13 hours ago\\nMantap bro.\\nReply\\n@syamsudi1024\\n1 day ago\\nMas saya mintak tolong nama syamsudi nantik kalau ada datang Bpk presiden untuk daerah kilo menter 22 tolong banyak masyarakat belum punya sertipikat tolong ia mas sampaikan kalau datang lagi di IKN sekali lagi \\nReply\\n@hj.maryatimaryati7181\\n17 hours ago\\nReply\\n@karminimadrim7852\\n1 day ago\\nMantaap\\n2\\nReply\\n@cankeman9983\\n1 day ago\\nBang update training center\\n2\\nReply\\n@SitiHajar-qb7cz\\n1 day ago\\nLihat metro tv melakukan black campain atas ikn mengambil pengamat2  anti ikn dan berharap presiden selanjutnya menghentikan ikn....aku harap progres ikn meningkat menjadi 50% sehingg kepercayaan publik meningkat\\nReply\\n1 reply\\n@BintangAlfatih-eo1sh\\n1 day ago\\nWP IKN UTARA UDH MULAI DIBANGUN BLM BANG. ..??... \\nReply\\n@pavillanarayana3705\\n1 day ago\\nGedung wakil presiden belum di progres?\\nReply\\n@bayus6198\\n1 day ago\\nSemangat & Sehat Selalu. Oh ya, kabel listrik nanti di atas atau ditanam ? kalu ditanam harus dipersiapkan dari semula.\\n1\\nReply\\n·\\n1 reply\\n@butahbatangkit\\n1 day ago\\nItu rumah Mentri dibuat tahan gempa nggak?\\nReply\\n@irfanchenkovic5675\\n1 day ago\\nsegmen 3A yg di kariangau d update juga bang \\n1\\nReply\\n·\\n1 reply\\n@gichandra2229\\n1 day ago\\nbang..bisa di tanyain ga sama orang proyeknya..?? jadiin 1 rumah dulu bisa ga, biar enak d liat percontohanya..??  penasarana aj gtu, ga sabar..hehehehmakasih\\n2\\nReply\\n·\\n2 replies\\n@mahmuddangkolor5006\\n1 day ago\\nmantap cuma IKN untuk sebuah Ibu Kota Negara kok seperinya keci ya..?????? apakah nanti ada perluasan seperti di Malaysia khusus admi nitrasinya atau pusat pemerintahannya yg gak di gabung dgan hotel dll...\\nReply\\n2 replies\\n@reyhandankeluarga1695\\n1 day ago\\nSaya mau tanya pak,\\nMaterial seperti pasir ,batu ,di datang kan dari mana??\\n1\\nReply\\n·\\n1 reply\\n@manusia_purba_\\n1 day ago\\nBang apa masih belum boleh meliput di kawasan istana negara ?\\n1\\nReply\\n·\\n1 reply\\n@alisaputro4099\\n1 day ago\\nMohon maaf mas dian rana di ikn nanti kira2 ada mrt atau lrt gak ya?\\n1\\nReply\\n·\\n2 replies\\n@danielyusmanto8645\\n1 day ago\\napakah semua embung terkoneksi dengan saluran pembuangan??\\n2\\nReply\\n2 replies\\n@gadogado-video9419\\n1 day ago (edited)\\nBtw Admin.. \\nApakah kira2 istana negara ada dibuatkan ruang/terowongan untuk jalan kabur?\\n\\nFrm. medan..\\n1\\nReply\\n·\\n3 replies\\n@pemudahijrah379\\n1 day ago\\nMana training center PSSI bang\\n1\\nReply\\n·\\n1 reply\\n@ahmadrudhini6697\\n1 day ago\\nrusun ASN udh mulai kah bang...?\\n1\\nReply\\n·\\n1 reply\\n@khairancs1238\\n1 day ago\\nNumpang like.\\n1\\nReply\\n@DimzxProject\\n1 day ago (edited)\\nBang lu itu mandor atau ada pekerjaan? Soalnya Abang cuman ngevlog doang\\nReply\\n·\\n5 replies\\n@gpad0136\\n1 day ago\\nPilek ya mas ?\\n1\\nReply\\n·\\n2 replies\\n17:30\\nIKN Terbaru! Training Center Ibu Kota Nusantara\\nDIAN RANA\\n55K views 20 hours ago\\nNew\\n10:05\\nInfo Terkini Ikn Nusantara\\nARTELU CHANNEL\\n499 views 1 hour ago\\nNew\\n34:05\\n[FULL] Marah! Bahlil Skakmat Nusron Wahid: Siapa Pengusaha Atur Saya, Sebut! Kalau Ada Saya Berhenti\\nTribunnews\\n179K views 13 hours ago\\nNew\\n14:14\\nSEMAKIN TERTATA‼️Landscape dan Hardscape Plaza Ceremony Ibukota Nusantara.\\nWPS Channel\\n95K views 1 day ago\\nNew\\n6:16\\nPembangunan Spillway (Pelimpah) Bendungan\\nEngineer Perintis\\n73 views 4 days ago\\nNew\\n14:05\\nPergerakan Terbaru Proyek Sumbu Kebangsaan & Hotel Nusantara\\nDIAN RANA\\n40K views 1 day ago\\nNew\\n24:08\\nKini, IKN Nusantara Banjir Minat Investasi | IDX CHANNEL\\nIDX CHANNEL\\n14K views 22 hours ago\\nNew\\n14:18\\nPerdana di depan Garudan Istana Presiden & Kantor Presiden Langsung bareng Presiden Jokowi\\nDIAN RANA\\n296K views 10 days ago\\n8:02\\nPOHON PULE IKN atau POHON PURBA AJAIB YANG PENUH MISTIS dan HARGANYA MAHAL\\njoziya\\n18K views 1 day ago\\nNew\\n5:47\\nMEMANAS! Menteri Bahlil Gertak Nusron Wahid Hingga Siap Berhenti Jika Ada Pengusaha yang Main-main\\nTribun Medan Official\\n61K views 12 hours ago\\nNew\\n2:46\\nJokowi Antar SBY hingga Mobil Saat Tinggalkan Istana Bogor\\nKompas.com\\n41K views 3 hours ago\\nNew\\n14:26\\njelang MOTOGP 😱 sirkuit mandalika kali ini tampil luar biasa! berbeda, jdi soroton semua netijen\\nAldy mandalika Ch\\n7K views 43 minutes ago\\nNew\\n15:37\\nSorotan Proyek Ibu Kota Nusantara Sumbu Kebangsaan & Plaza Seremoni\\nDIAN RANA\\n128K views 6 days ago\\nNew\\n14:29\\nTARIF NORMAL LRT, BEGINI SUASANA SAAT PAGI HARI! MASIH RAMAIKAH LRT JABODEBEK\\nAksanation\\n737 views 1 hour ago\\nNew\\n8:18\\nIKN Terkini ‼️ Update Terbaru Jalan Sumbu Kebangsaan Sisi Barat Dan Titik Nol Nusantara\\nRobie Mrg\\n6.9K views 18 hours ago\\nNew\\n7:17\\nIKN Terkini ‼️ Update Rumah Tapak Jabatan Menteri\\nRobie Mrg\\n30K views 1 day ago\\nNew\\n12:20\\nUmat Hindu sisa keturunan mojopahit di pinggir hutan Jati‼️perjalanan mendhak tirta untuk piodalan\\nKandangan TV\\n202 views 1 hour ago\\nNew\\n9:09\\nIkn Terkini❗Sumbu Kebangsaan Gedung Galery Plaza Ceremoni Ikn Nusantara 1 Oktober 2023\\nMbah Min Bpn\\n13K views 1 day ago\\nNew\\n35:38\\nPART #1 ANNAPURNA BASE CAMP 2023 | RIKAS HARSA\\nRikas Harsa\\n86K views 3 days ago\\nNew\\n22:57\\nSUPER DUPER GILA.! TRACK BERSIH & KICLONG RAMAI SIBUK SIRKUIT MANDALIKA\\nRomi Sanjaya Tv Ch\\n5K views 1 hour ago\\nNew\\nPINDAH KANTOR PRESIDEN‼️ Pohon Pule Raksasa Akhirnya Di Pindah dari Nurseri Ke Kantor Presiden.\\nWPS Channel\\n449K views 2 weeks ago\\nSorotan terbaru Proyek Kemenko 1,2,3 & 4 Ibu Kota Nusantara\\nDIAN RANA\\n74K views 2 days ago\\nNew\\n2:06\\nSinyal Jokowi Beri Kursi Menteri ke Demokrat Usai Bertemu SBY\\nKompas.com\\n6K views 1 hour ago\\nNew\\n17:02\\nLRT Jabodebek TARIF NORMAL (Ada Yang TETAP LRT & Ada KEMBALI MOTORAN) AWAL Rp3000 Lalu Rp700 Per KM\\nOn Road Indonesia\\n8.6K views 1 day ago\\nNew\\n4:49\\nWajah baru Ibukota Negara...IKN. Biar nggak penasaran ayo diintip.\\nLIA MIENOWUNA\\n19K views 3 months ago\\n12:54\\nTengok kegiatan sore hari di lbu Kota Nusantara,Training Center & Bendung Intake Ibu Kota Nusantara\\nDIAN RANA\\n56K views 3 days ago\\nNew\\n11:25\\nPROYEK NASIONAL‼️Akhirnya Ancol Dufan Akan Terbebas Dari Banjir Rob | PROGRES RUMAH POMPA SENTIONG\\nAFA99 Channel\\n807 views 1 hour ago\\nNew\\n10:07\\nLUAR BIASA !!DERMAGA LOGISTIK SEMAKIN SIAP MENUJU PERUBAHAN IKN NUSANTARA\\nRozaq IKN\\n12K views 2 days ago\\nNew\\n27:55\\nPembangunan Kota Bekasi - Indonesia Forward\\nCNN Indonesia\\n7.6K views 3 days ago\\nNew\\n8:35\\nKereta Cepat Jakarta Bandung Ke Surabaya Buatan Indonesia\\nThe Wanderer Indonesia\\n63K views 2 days ago\\nNew\\n49:53\\nREAL EKONOMI RASA EKSEKUTIF ‼️ANTI KURSI MUNDUR ADU DENGKUL⁉️Naik KA Jayabaya Ekonomi New Generation\\nMohamad Adijasa Yudi\\n88K views 4 days ago\\nNew\\n14:27\\nSorotan Terbaru di Proyek Jalan tol IKN segmen 3A\\nDIAN RANA\\n49K views 3 days ago\\nNew\\n12:07\\n[FULL] Jokowi Pidato di Rakernas PDIP, Ungkap Bisikan ke Ganjar Pranowo\\nOfficial iNews\\n58K views 3 days ago\\nNew\\n6:03\\nTanpa Alergi Kritik, Kereta Cepat WHOOSH Melesat Bawa Presiden Jokowi dari Halim Menuju Padalarang\\nBETERINDO - Berita Terbaru Indonesia\\n11K views 23 hours ago\\nNew\\n18:48\\nPresiden Jokowi Resmikan Kereta Cepat Jakarta-Bandung, Masih Gratis Hingga Pertengahan Oktober\\nSINDOnews\\n9.8K views 1 day ago\\nNew\\n[BREAKING NEWS] Dugaan Korupsi Dana Pensiun BUMN\\nSINDOnews\\n1 watching\\nLIVE\\n47:19\\nChenguetti dan Negeri-Negeri Padang Pasir yang Mengagumkan | Kompilasi #temantidur\\nKabarPedia\\n88K views 4 days ago\\nNew\\n8:55\\nDULU NGAPAIN Sekarang Berbenah Normalisasi Kali Ciliwung\\nDot Co\\n5.4K views 4 hours ago\\nNew\\n6:37\\nIKN TERKINI ! UPDATE BENDUNGAN INTAKE SEPAKU\\nRozaq IKN\\n81K views 1 month ago\\n4:30\\nGedung Gedung yang Sudah Berdiri di Pusat Kota IKN Nusantara\\nBUGIS TIMUR\\n647K views 1 month ago\\nPerlahan membuktikan pekerja Indonesia luar biasa di Ibu Kota Nusantara\\nDIAN RANA\\n71K views 4 days ago\\nNew\\nPanda Nababan Dan Rizal Ramli Ungkap Perselisihan Mengejutkan Politik Elit\\nTotal Politik\\n135K views 16 hours ago\\nNew\\nKawal Investasi Swasta di IKN Nusantara | IDX CHANNEL\\nIDX CHANNEL\\n9.4K views 7 days ago\\nMengunjungi Desa Terakhir Di Tengah Kemegahan Singapura | Kampung Lorong Buangkok 2023\\nKacong Explorer\\n1.1M views 1 month ago\\nIKN Ada Apa ya dilokasi Ibu Kota Nusantara Kaltim Saat Ini\\nLENSA BALIKPAPAN TV\\n4.1K views 3 months ago\\n41:35\\nMASUK KEDALAM BENGKEL LOKOMOTIF TERBESAR | BALAI YASA YOGYAKARTA\\nAndriawan Pratikto\\n73K views 3 days ago\\nNew\\n16:33\\nSibuknya Alat Berat dan Keunikan 'Pohon Sosis' Ibu Kota Nusantara\\nDIAN RANA\\n115K views 2 weeks ago\\n21:42\\nJALAN INDAH GUNUNG SINDORO alternatif Temanggung - Wonosobo\\nNeto Nur\\n19K views 3 days ago\\nNew\\n53:29\\n[FULL] TERBENTUKNYA PAGUYUBAN BOCAH KOSONG| LAPOR PAK! (04/09/23)\\n7 Comedy\\n954K views 2 weeks ago\\n18:49\\nKOCAK PARAH Cak Lontong Crita Naik Kereta Cepat smua jd Ngakak Lebar, Presiden Jokowi Ambil Tisu\\nBETERINDO - Berita Terbaru Indonesia\\n1.7M views 2 weeks ago\\n1:15:55\\n(FULL) Pidato Megawati, Ganjar Dan Jokowi di Rapat Kerja Nasional IV PDI Perjuangan\\nCNN Indonesia\\n58K views 3 days ago\\nNew\\n11:21\\nTransformasi Proyek RTJM: Keindahan Arsitektur dan Lanskap yang Memukau\\nDIAN RANA\\n87K views 2 weeks ago\\n11:28\\nTernyata Begini Proses Tambang Uranium Untuk Pembangkit Listrik Tenaga Nuklir\\nDaftar Top\\n754K views 1 year ago\\n5:25\\nBeberapa Gedung yang Sudah Berdiri di Pusat Kota IKN Nusantara di Bulan Agustus 2023\\nMansur Media Channel\\n269K views 1 month ago\\n16:00\\nAda Berapa Banyak Negara di Benua Afrika?\\nGeografyi\\n264K views 9 months ago\\nMix - DIAN RANA\\nMore from this channel for you\\n27:57\\nSIDAK RUMAH BARU RAFFI AHMAD.. RUMAH 80 MILIAR AKHIRNYA JADI JUGA\\nTAULANY TV\\n720K views 16 hours ago\\nNew\\n[FULL] Pidato Megawati di Rakernas ke-IV PDI Perjuangan, Bahas Soal Hal Ini\\nKOMPASTV\\n88K views 3 days ago\\nNew\\nPod. 246 Aldi Haryopratomo TALKS ABOUT THE RELIEF OF NOT BECOMING A CEO | The Friday Podcast\\nMakna Talks\\n3.5K views 3 days ago\\nNew\\nPANDJI DI MATA NAJWA FULL SET\\nPandji Pragiwaksono\\n705K views 7 days ago\",\n",
       " '',\n",
       " 'pembangunan IKN sangat spektakuler bener menakjubkan Hutan belantara disulap menjadi kota mudah2 an saya bisa hadir di Ibukota Nusantara hormat untuk bapak Jokowi Tuhan bersama kita Amin ',\n",
       " 'Dengan adanya kegiatan liputan perkembangan pembangunan IKN,maka masyarakat dapat secara langsung ikut mengontrol pembangunan ini agar tidak Mangkrak.',\n",
       " 'Teruslah kepak kn sayapmu nusantaraku,semoga indonesia trs bersinar dr segi apapun tuk gapai kejayaan dan zaman keemasan di bumi nusantara tercinta...',\n",
       " 'Bentuk rumah jabatan Menteri seperti Rumah urang Kalimantan, Kalimantan bangkit IKN cemerlang Indonesia maju... Semoga para pekerja sehat2 dlm lindungan Tuhan YANG MAHA KUASA ALLAH SWT. Aamiin ya rabbal Alamin.',\n",
       " 'Sebagai penonton setia DIAN RANA  secara pribadi sangat mendukung liputannya, cuma sekedar saran saja bahwa liputan ini kan juga sebenarnya bagian dari SEJARAH pembangunan IKN alangkah baiknya liputan dari bawah jangan terlalu goyang kasian dokumentasinya yang di kemudian hari sangat berharga sekali , maaf jika ada salah dalam perkataan saya, tetap semangat IKN',\n",
       " 'Alhamdulillah pembangunannya berjalan lancar... Indinesia semakin maju...',\n",
       " 'Intronya keren bang Dian Rana, saya sangat senang dgn adanya channel Dian Rana yg meliput perkembangan IKN Nusantara. Semoga bang Dian Rana dan semua pekerja yg terlibat dalam pembangunan IKN sehat selalu. Salam rahayu dari Bali ',\n",
       " 'Terus melaju untuk Indonesia maju',\n",
       " 'Chanel YT yang Pas,Penyampaian Yang Jelas,Berkualitas,Dan Transparan ...',\n",
       " 'Luar biasa pasti bayak insinyur  putra putri anak bangsa yg handal  merancang',\n",
       " 'Ikn nusantara progress nya masya Allah dahsyat bener sungguh luar biasa keren beken habis sangat sangat sangat spectacular nyata jelas gamblang terang benderang seratus persen maksimal ',\n",
       " 'Terus maju progres pembangunan IKN, sudah ga sabar pengen berlibur kesana nih.. Smg Bang Dian Rana kasih gratis perjalanan ku... Hehe.. Sehat selalu Bang Dian Rana....',\n",
       " 'Terus bergerak untuk Indonesia maju  \\nTQ bang Dian ',\n",
       " 'Mantappp!!\\nSemoga semuanya lancar.. \\nAamiin..',\n",
       " 'LIBATKAN  SUKU DAYAK LUR. UNTUK TENAGA KERJANYA  BIAR MERASAKAN  BAHAGIA .\\nIKUT MEMBANGUN. IKN .\\nKAUM  TUNAS MUDA. WINONGO .\\nS T K HADIR IKUT BERBAHAGIA .',\n",
       " 'Gaspol biar segera 500.000 subscriber ya Bang Dian Rana ',\n",
       " 'Manteb, bung Dian makin keren saja IKN NUSANTARA Ok 🇮🇩🇮🇩🇮🇩',\n",
       " 'Nganjuk kota angin slalu mentau semoga indonesia berjaya dimasa depan',\n",
       " 'Mengikuti tayangan dari dulu melihat progres jalan sumbu kebangsaan sedikit demi sedikit sudah mulai kelihatan bentuknya, mantap!!!',\n",
       " 'Mantap \\nIkn Nusantara 🇮🇩',\n",
       " 'Bung @Dian Rana, coba tampilkan rencana peruntukan Tata Ruang Makro kawasan IKN....jangan hanya meliput kawasan inti pusat pemerintahan saja.....bangaimanapun juga kedepan IKN akan sangat bergantung dgn kawasan penyangga disekelilingnya.tks🇮🇩',\n",
       " 'Dian Rana...memang top...yg diliput.....kerja....kerja dan.....kerja ikn sungguh...luar biasa',\n",
       " 'Perlahan lahan nanti ikn pasti indah suatu hari nanti ',\n",
       " 'Kami selalu hadir tiap hari semoga dian rana sukses',\n",
       " 'DNR',\n",
       " 'Bung D. R., kalau semua sudah jadi pasti lebih menawan. I. K. N. tambah mempesona. lanjut ya bung. Semangat terus untuk semuanya dan jaga kesehatan.',\n",
       " 'Chanal yg selalu saya tunggu  unggahan unggahan vidionya tiap hari tentang perkembangan IKN. Chanal DIAN RANA.  Salam dari ponorogo penonton setia chanal abang dian rana mantap',\n",
       " 'Belum jadi saja sdh tampak wow ,,apalagi sdh jadi ,,,top markotob ini ikn ,,ada punya kontur tanah ,, berkonture nggak monoton datar ,,',\n",
       " 'IKN Mantap pisan',\n",
       " 'Semangat....',\n",
       " 'Halo Mas Dian kita Selalu mendukung Liputanya biar kami tau Semuanya TITIK Nol  Sampek jadi Indonesia Maju',\n",
       " 'Sekedar usul aja gan. Gmn kalo aspalnya nanti pakai yg aspal porus, sehingga air bisa terserap ke tanah, biar lbh ramah lingkungan. Begitu jg dg pav8ng block nya. Terimakasih',\n",
       " 'Walau p. Jokowi dihujat dihina dinyinyirin  direbdahkn diinjak2harga dirinya kelgnya.. Namun sy pribadi yakin.. Kebenaran dan kebaikn ketulusan dan perjuangn yg hebat insya Allah sang maha Agung lah yg membelanya dg jlnNya dg apapun.. Jd tetaplah menjd pimpinan yg tegat, sabar, rendah ht, teladan yg langka tp mumpuni, bkn bnyk omong, bnyk hujat tp minim karya. Ratusan juta manusia di dunia mengagumimu.. Biarkn mrk org yg haus jabatan, yg mrs tdk dipakai(pdhl org berguna tdk hrs jd pdjabat nrgara kan?..) ,contoh pemimpin besar jaman nabi... Mrk harum krn kebaikn keikhlasan dan kegigihn tanpa batas.',\n",
       " 'Bang buatkan konten perjalanan dri  balikpapan ke titik nol yg sering di kunjungi orang liburan dong hehe',\n",
       " 'Terus bergerak',\n",
       " 'Mantap, semakin maju',\n",
       " 'Wow memang luar Biasa karya president Jokowi Dodo',\n",
       " 'Sikat Mas Dian!',\n",
       " 'Joos IKN',\n",
       " 'Makin mendekat 2024 makin indah dilihatnya ni belum apa2 ya entar kalau dah final maka akan teheran2 maju terus mas infonya di tunggu sampai akhir  IKN',\n",
       " '',\n",
       " 'PEKAYON JAYA - BEKASI hadir',\n",
       " 'Terimakasih DianRana liputan nya ',\n",
       " 'IKN NUSANTARA .',\n",
       " '🇮🇩🇮🇩🇮🇩',\n",
       " 'Kalau sudah jadi istana nya dan lapangan upacara nya pasti indah x',\n",
       " 'Coba diusul otorita bikin lomba lomba utk pelajar di titik nol supaya anak anak disiapkan utk tantangan kedepan sewaktu sudah jadi ibukota.',\n",
       " 'Alhamdulillah..',\n",
       " 'Sejarah baru terukir ibu kota Indonesia Nusantara 2024 Insyaallah..amin',\n",
       " 'Lmbk lanjut pak dian ️',\n",
       " 'Mantap bang Dian',\n",
       " 'Mau nanya, proyek ikn ini di sebut proyek terbesar d dunia, semua proyek gedung,infra dan dll berjalan serempak,    dr mna aja  pekerja yg terlibat di dlmnya, brapa jumlah tenaganya, coba upload dong bang dian rana..tempat pekerjanya seperti apa sih.. ???',\n",
       " 'بارك الله في إندونيسيا',\n",
       " '',\n",
       " 'Mantapp josss',\n",
       " 'Bang dian saya mau nitip pesan, kawasan ikn ngk boleh ada bangunan liar, supaya tidak kumuh, contoh jkarta.\\nTrimakasih',\n",
       " 'BRO..APAKAH SUATU HARI NANTI DI LUAR KAWASAN IBU KOTA NUSANTARA AKAN BERMUNCULAN GEDUNG GEDUNG PENCAKAR LANGIT?',\n",
       " 'Gedung DPR / MPR di IKN belum dibangun mas Dian?',\n",
       " 'Gedung tingginya jangan di lokasi ikn. tapi jauh dikitlah supaya tidak menganggu  view nya*',\n",
       " 'Mantap..',\n",
       " 'Salam dari Sulawesi Selatan bg',\n",
       " '',\n",
       " 'Serius nonton lupa klik mantap',\n",
       " '',\n",
       " 'excavator banyak pake merk KOBELCO yaa,... dari united tractor KOMATSU dan trakindo utama CAT koq gak ada?',\n",
       " 'Suarax kurang jelas',\n",
       " 'Mantap bro.',\n",
       " 'Mas saya mintak tolong nama syamsudi nantik kalau ada datang Bpk presiden untuk daerah kilo menter 22 tolong banyak masyarakat belum punya sertipikat tolong ia mas sampaikan kalau datang lagi di IKN sekali lagi ',\n",
       " '',\n",
       " 'Mantaap',\n",
       " 'Bang update training center',\n",
       " 'Lihat metro tv melakukan black campain atas ikn mengambil pengamat2  anti ikn dan berharap presiden selanjutnya menghentikan ikn....aku harap progres ikn meningkat menjadi 50% sehingg kepercayaan publik meningkat',\n",
       " 'WP IKN UTARA UDH MULAI DIBANGUN BLM BANG. ..??... ',\n",
       " 'Gedung wakil presiden belum di progres?',\n",
       " 'Semangat & Sehat Selalu. Oh ya, kabel listrik nanti di atas atau ditanam ? kalu ditanam harus dipersiapkan dari semula.',\n",
       " 'Itu rumah Mentri dibuat tahan gempa nggak?',\n",
       " 'segmen 3A yg di kariangau d update juga bang ',\n",
       " 'bang..bisa di tanyain ga sama orang proyeknya..?? jadiin 1 rumah dulu bisa ga, biar enak d liat percontohanya..??  penasarana aj gtu, ga sabar..hehehehmakasih',\n",
       " 'mantap cuma IKN untuk sebuah Ibu Kota Negara kok seperinya keci ya..?????? apakah nanti ada perluasan seperti di Malaysia khusus admi nitrasinya atau pusat pemerintahannya yg gak di gabung dgan hotel dll...',\n",
       " 'Saya mau tanya pak,\\nMaterial seperti pasir ,batu ,di datang kan dari mana??',\n",
       " 'Bang apa masih belum boleh meliput di kawasan istana negara ?',\n",
       " 'Mohon maaf mas dian rana di ikn nanti kira2 ada mrt atau lrt gak ya?',\n",
       " 'apakah semua embung terkoneksi dengan saluran pembuangan??',\n",
       " 'Btw Admin.. \\nApakah kira2 istana negara ada dibuatkan ruang/terowongan untuk jalan kabur?\\n\\nFrm. medan..',\n",
       " 'Mana training center PSSI bang',\n",
       " 'rusun ASN udh mulai kah bang...?',\n",
       " 'Numpang like.',\n",
       " 'Bang lu itu mandor atau ada pekerjaan? Soalnya Abang cuman ngevlog doang',\n",
       " 'Pilek ya mas ?',\n",
       " '',\n",
       " '',\n",
       " '',\n",
       " '',\n",
       " '',\n",
       " '']"
      ]
     },
     "execution_count": 23,
     "metadata": {},
     "output_type": "execute_result"
    }
   ],
   "source": [
    "data"
   ]
  },
  {
   "cell_type": "code",
   "execution_count": 18,
   "metadata": {},
   "outputs": [
    {
     "data": {
      "text/html": [
       "<div>\n",
       "<style scoped>\n",
       "    .dataframe tbody tr th:only-of-type {\n",
       "        vertical-align: middle;\n",
       "    }\n",
       "\n",
       "    .dataframe tbody tr th {\n",
       "        vertical-align: top;\n",
       "    }\n",
       "\n",
       "    .dataframe thead th {\n",
       "        text-align: right;\n",
       "    }\n",
       "</style>\n",
       "<table border=\"1\" class=\"dataframe\">\n",
       "  <thead>\n",
       "    <tr style=\"text-align: right;\">\n",
       "      <th></th>\n",
       "      <th>comment</th>\n",
       "    </tr>\n",
       "  </thead>\n",
       "  <tbody>\n",
       "    <tr>\n",
       "      <th>0</th>\n",
       "      <td>ID\\nSkip navigation\\nSign in\\n0:00 / 13:44\\nTe...</td>\n",
       "    </tr>\n",
       "    <tr>\n",
       "      <th>1</th>\n",
       "      <td></td>\n",
       "    </tr>\n",
       "    <tr>\n",
       "      <th>2</th>\n",
       "      <td>pembangunan IKN sangat spektakuler bener menak...</td>\n",
       "    </tr>\n",
       "    <tr>\n",
       "      <th>3</th>\n",
       "      <td>Dengan adanya kegiatan liputan perkembangan pe...</td>\n",
       "    </tr>\n",
       "    <tr>\n",
       "      <th>4</th>\n",
       "      <td>Teruslah kepak kn sayapmu nusantaraku,semoga i...</td>\n",
       "    </tr>\n",
       "  </tbody>\n",
       "</table>\n",
       "</div>"
      ],
      "text/plain": [
       "                                             comment\n",
       "0  ID\\nSkip navigation\\nSign in\\n0:00 / 13:44\\nTe...\n",
       "1                                                   \n",
       "2  pembangunan IKN sangat spektakuler bener menak...\n",
       "3  Dengan adanya kegiatan liputan perkembangan pe...\n",
       "4  Teruslah kepak kn sayapmu nusantaraku,semoga i..."
      ]
     },
     "execution_count": 18,
     "metadata": {},
     "output_type": "execute_result"
    }
   ],
   "source": [
    "import pandas as pd\n",
    "df = pd.DataFrame(data, columns=['comment'])\n",
    "df.head()"
   ]
  },
  {
   "cell_type": "code",
   "execution_count": 26,
   "metadata": {},
   "outputs": [],
   "source": [
    "df.to_excel('tes_scrap.xlsx')"
   ]
  },
  {
   "cell_type": "code",
   "execution_count": 25,
   "metadata": {},
   "outputs": [
    {
     "name": "stdout",
     "output_type": "stream",
     "text": [
      "Collecting openpyxl\n",
      "  Downloading openpyxl-3.1.2-py2.py3-none-any.whl (249 kB)\n",
      "     ---------------------------------------- 0.0/250.0 kB ? eta -:--:--\n",
      "     - -------------------------------------- 10.2/250.0 kB ? eta -:--:--\n",
      "     ---- -------------------------------- 30.7/250.0 kB 660.6 kB/s eta 0:00:01\n",
      "     ------ ------------------------------ 41.0/250.0 kB 393.8 kB/s eta 0:00:01\n",
      "     ------ ------------------------------ 41.0/250.0 kB 393.8 kB/s eta 0:00:01\n",
      "     ------ ------------------------------ 41.0/250.0 kB 393.8 kB/s eta 0:00:01\n",
      "     ---------------- ------------------- 112.6/250.0 kB 409.6 kB/s eta 0:00:01\n",
      "     ---------------------- ------------- 153.6/250.0 kB 482.7 kB/s eta 0:00:01\n",
      "     -------------------------------- --- 225.3/250.0 kB 625.1 kB/s eta 0:00:01\n",
      "     --------------------------------- -- 235.5/250.0 kB 600.7 kB/s eta 0:00:01\n",
      "     ------------------------------------ 250.0/250.0 kB 590.5 kB/s eta 0:00:00\n",
      "Collecting et-xmlfile (from openpyxl)\n",
      "  Downloading et_xmlfile-1.1.0-py3-none-any.whl (4.7 kB)\n",
      "Installing collected packages: et-xmlfile, openpyxl\n",
      "Successfully installed et-xmlfile-1.1.0 openpyxl-3.1.2\n"
     ]
    }
   ],
   "source": [
    "!pip install openpyxl"
   ]
  },
  {
   "cell_type": "markdown",
   "metadata": {},
   "source": [
    "## Dokumentasi selenimun"
   ]
  },
  {
   "cell_type": "code",
   "execution_count": 4,
   "metadata": {},
   "outputs": [
    {
     "name": "stderr",
     "output_type": "stream",
     "text": [
      "C:\\Users\\alam\\AppData\\Local\\Temp\\ipykernel_6108\\1746191795.py:6: DeprecationWarning: executable_path has been deprecated, please pass in a Service object\n",
      "  browser = webdriver.Chrome(executable_path=r'D:\\GitHub\\analisa-sentimen-XGBoost\\youtube_scraping\\chromedriver-win64\\chromedriver.exe')  # start a web browser\n"
     ]
    },
    {
     "name": "stdout",
     "output_type": "stream",
     "text": [
      "Colorful sushi and Tea ceremony\n"
     ]
    }
   ],
   "source": [
    "from selenium import webdriver\n",
    "from selenium.webdriver.common.by import By\n",
    "from selenium.webdriver.support.ui import WebDriverWait\n",
    "from selenium.webdriver.support.expected_conditions import visibility_of_element_located\n",
    "\n",
    "browser = webdriver.Chrome(executable_path=r'D:\\GitHub\\analisa-sentimen-XGBoost\\youtube_scraping\\chromedriver-win64\\chromedriver.exe')  # start a web browser\n",
    "browser.get(\"https://www.airbnb.com/experiences/272085\")  # navigate to URL\n",
    "# wait for page to load\n",
    "# by waiting for <h1> element to appear on the page\n",
    "title = (\n",
    "    WebDriverWait(driver=browser, timeout=10)\n",
    "    .until(visibility_of_element_located((By.CSS_SELECTOR, \"h1\")))\n",
    "    .text\n",
    ")\n",
    "# retrieve fully rendered HTML content\n",
    "content = browser.page_source\n",
    "browser.close()\n",
    "\n",
    "# we then could parse it with beautifulsoup\n",
    "from bs4 import BeautifulSoup\n",
    "soup = BeautifulSoup(content, \"html.parser\")\n",
    "print(soup.find(\"h1\").text)"
   ]
  },
  {
   "cell_type": "code",
   "execution_count": null,
   "metadata": {},
   "outputs": [],
   "source": [
    "\n",
    "data=[]\n",
    "\n",
    "with Chrome(executable_path=r'D:\\GitHub\\analisa-sentimen-XGBoost\\youtube_scraping\\chromedriver-win64\\chromedriver.exe') as driver:\n",
    "    wait = WebDriverWait(driver,15)\n",
    "    driver.get(\"https://www.youtube.com/watch?v=hHn72yKLj-M\")\n",
    "\n",
    "    for item in range(200): \n",
    "        wait.until(EC.visibility_of_element_located((By.TAG_NAME, \"body\"))).send_keys(Keys.END)\n",
    "        time.sleep(15)  \n",
    "\n",
    "    for comment in wait.until(EC.presence_of_all_elements_located((By.CSS_SELECTOR, \"#content\"))):\n",
    "        data.append(comment.text)\n",
    "    \n",
    "    "
   ]
  }
 ],
 "metadata": {
  "kernelspec": {
   "display_name": "Python 3",
   "language": "python",
   "name": "python3"
  },
  "language_info": {
   "codemirror_mode": {
    "name": "ipython",
    "version": 3
   },
   "file_extension": ".py",
   "mimetype": "text/x-python",
   "name": "python",
   "nbconvert_exporter": "python",
   "pygments_lexer": "ipython3",
   "version": "3.11.5"
  },
  "orig_nbformat": 4
 },
 "nbformat": 4,
 "nbformat_minor": 2
}
