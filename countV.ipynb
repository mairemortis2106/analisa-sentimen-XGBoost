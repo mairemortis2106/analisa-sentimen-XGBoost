{
 "cells": [
  {
   "cell_type": "code",
   "execution_count": 2,
   "metadata": {},
   "outputs": [],
   "source": [
    "import pandas as pd\n",
    "import numpy as np\n",
    "import math"
   ]
  },
  {
   "cell_type": "code",
   "execution_count": 11,
   "metadata": {},
   "outputs": [],
   "source": [
    "corpus = ['data science is one of the most important fields of science',\n",
    "          'this is one of the best data science courses',\n",
    "          'data scientists analyze data']\n",
    "\n",
    "corp = pd.DataFrame(corpus, columns=['teks'])"
   ]
  },
  {
   "cell_type": "markdown",
   "metadata": {},
   "source": [
    "### with sklearn"
   ]
  },
  {
   "cell_type": "code",
   "execution_count": 57,
   "metadata": {},
   "outputs": [
    {
     "name": "stdout",
     "output_type": "stream",
     "text": [
      "Matriks Vektor:\n",
      "[[0 0 0 1 1 1 1 1 2 1 2 0 1 0]\n",
      " [0 1 1 1 0 0 1 0 1 1 1 0 1 1]\n",
      " [1 0 0 2 0 0 0 0 0 0 0 1 0 0]]\n",
      "Vocabulary:\n",
      "['analyze' 'best' 'courses' 'data' 'fields' 'important' 'is' 'most' 'of'\n",
      " 'one' 'science' 'scientists' 'the' 'this']\n"
     ]
    }
   ],
   "source": [
    "# this is CountV with sklearn \n",
    "from sklearn.feature_extraction.text import CountVectorizer\n",
    "\n",
    "# Inisialisasi CountVectorizer\n",
    "vectorizer = CountVectorizer()\n",
    "\n",
    "# Melakukan tokenisasi dan pembuatan vektor\n",
    "vectors = vectorizer.fit_transform(corpus)\n",
    "\n",
    "# Hasil vektor dalam bentuk matriks\n",
    "print(\"Matriks Vektor:\")\n",
    "print(vectors.toarray())\n",
    "\n",
    "# Vocabulary (daftar kata unik)\n",
    "print(\"Vocabulary:\")\n",
    "print(vectorizer.get_feature_names_out())"
   ]
  },
  {
   "cell_type": "code",
   "execution_count": 58,
   "metadata": {},
   "outputs": [],
   "source": [
    "sklearn_count = pd.DataFrame(vectors.toarray(), columns=vectorizer.get_feature_names_out())"
   ]
  },
  {
   "cell_type": "code",
   "execution_count": 59,
   "metadata": {},
   "outputs": [
    {
     "data": {
      "text/html": [
       "<div>\n",
       "<style scoped>\n",
       "    .dataframe tbody tr th:only-of-type {\n",
       "        vertical-align: middle;\n",
       "    }\n",
       "\n",
       "    .dataframe tbody tr th {\n",
       "        vertical-align: top;\n",
       "    }\n",
       "\n",
       "    .dataframe thead th {\n",
       "        text-align: right;\n",
       "    }\n",
       "</style>\n",
       "<table border=\"1\" class=\"dataframe\">\n",
       "  <thead>\n",
       "    <tr style=\"text-align: right;\">\n",
       "      <th></th>\n",
       "      <th>analyze</th>\n",
       "      <th>best</th>\n",
       "      <th>courses</th>\n",
       "      <th>data</th>\n",
       "      <th>fields</th>\n",
       "      <th>important</th>\n",
       "      <th>is</th>\n",
       "      <th>most</th>\n",
       "      <th>of</th>\n",
       "      <th>one</th>\n",
       "      <th>science</th>\n",
       "      <th>scientists</th>\n",
       "      <th>the</th>\n",
       "      <th>this</th>\n",
       "    </tr>\n",
       "  </thead>\n",
       "  <tbody>\n",
       "    <tr>\n",
       "      <th>0</th>\n",
       "      <td>0</td>\n",
       "      <td>0</td>\n",
       "      <td>0</td>\n",
       "      <td>1</td>\n",
       "      <td>1</td>\n",
       "      <td>1</td>\n",
       "      <td>1</td>\n",
       "      <td>1</td>\n",
       "      <td>2</td>\n",
       "      <td>1</td>\n",
       "      <td>2</td>\n",
       "      <td>0</td>\n",
       "      <td>1</td>\n",
       "      <td>0</td>\n",
       "    </tr>\n",
       "    <tr>\n",
       "      <th>1</th>\n",
       "      <td>0</td>\n",
       "      <td>1</td>\n",
       "      <td>1</td>\n",
       "      <td>1</td>\n",
       "      <td>0</td>\n",
       "      <td>0</td>\n",
       "      <td>1</td>\n",
       "      <td>0</td>\n",
       "      <td>1</td>\n",
       "      <td>1</td>\n",
       "      <td>1</td>\n",
       "      <td>0</td>\n",
       "      <td>1</td>\n",
       "      <td>1</td>\n",
       "    </tr>\n",
       "    <tr>\n",
       "      <th>2</th>\n",
       "      <td>1</td>\n",
       "      <td>0</td>\n",
       "      <td>0</td>\n",
       "      <td>2</td>\n",
       "      <td>0</td>\n",
       "      <td>0</td>\n",
       "      <td>0</td>\n",
       "      <td>0</td>\n",
       "      <td>0</td>\n",
       "      <td>0</td>\n",
       "      <td>0</td>\n",
       "      <td>1</td>\n",
       "      <td>0</td>\n",
       "      <td>0</td>\n",
       "    </tr>\n",
       "  </tbody>\n",
       "</table>\n",
       "</div>"
      ],
      "text/plain": [
       "   analyze  best  courses  data  fields  important  is  most  of  one  \\\n",
       "0        0     0        0     1       1          1   1     1   2    1   \n",
       "1        0     1        1     1       0          0   1     0   1    1   \n",
       "2        1     0        0     2       0          0   0     0   0    0   \n",
       "\n",
       "   science  scientists  the  this  \n",
       "0        2           0    1     0  \n",
       "1        1           0    1     1  \n",
       "2        0           1    0     0  "
      ]
     },
     "execution_count": 59,
     "metadata": {},
     "output_type": "execute_result"
    }
   ],
   "source": [
    "sklearn_count"
   ]
  },
  {
   "cell_type": "markdown",
   "metadata": {},
   "source": [
    "### secara manual"
   ]
  },
  {
   "cell_type": "code",
   "execution_count": 55,
   "metadata": {},
   "outputs": [],
   "source": [
    "def uniq_word(corpus):\n",
    "    words_set = set()\n",
    "    for doc in  corpus:\n",
    "        doc = doc.lower()\n",
    "        words = doc.split(' ')\n",
    "        words_set = words_set.union(set(words))\n",
    "    return words_set\n",
    "\n",
    "def countV(corpus):\n",
    "    corpus = np.array(corpus)\n",
    "    corpus = corpus.astype(str)\n",
    "    \n",
    "    words_set = uniq_word(corpus)\n",
    "\n",
    "    # make word_set as array (for making a table)\n",
    "    colom = []\n",
    "    for i in words_set:\n",
    "        colom.append(i)\n",
    "\n",
    "    n_docs = len(corpus)         #·Number of documents in the corpus\n",
    "    n_words_set = len(words_set) #·Number of unique words in the\n",
    "\n",
    "    countV = pd.DataFrame(np.zeros((n_docs, n_words_set)), columns=colom)\n",
    "\n",
    "    # Compute Term Frequency (TF)\n",
    "    for i in range(n_docs):\n",
    "        for w in words_set:\n",
    "        # menghitung dengan (jumlah kata(t) muncul dalam sebuah dokumen)\n",
    "            countV[w][i] = countV[w][i] + (corpus[i].lower().count(w))\n",
    "    \n",
    "    return countV"
   ]
  },
  {
   "cell_type": "code",
   "execution_count": 56,
   "metadata": {},
   "outputs": [
    {
     "data": {
      "text/html": [
       "<div>\n",
       "<style scoped>\n",
       "    .dataframe tbody tr th:only-of-type {\n",
       "        vertical-align: middle;\n",
       "    }\n",
       "\n",
       "    .dataframe tbody tr th {\n",
       "        vertical-align: top;\n",
       "    }\n",
       "\n",
       "    .dataframe thead th {\n",
       "        text-align: right;\n",
       "    }\n",
       "</style>\n",
       "<table border=\"1\" class=\"dataframe\">\n",
       "  <thead>\n",
       "    <tr style=\"text-align: right;\">\n",
       "      <th></th>\n",
       "      <th>is</th>\n",
       "      <th>the</th>\n",
       "      <th>analyze</th>\n",
       "      <th>of</th>\n",
       "      <th>one</th>\n",
       "      <th>courses</th>\n",
       "      <th>fields</th>\n",
       "      <th>scientists</th>\n",
       "      <th>most</th>\n",
       "      <th>important</th>\n",
       "      <th>data</th>\n",
       "      <th>this</th>\n",
       "      <th>science</th>\n",
       "      <th>best</th>\n",
       "    </tr>\n",
       "  </thead>\n",
       "  <tbody>\n",
       "    <tr>\n",
       "      <th>0</th>\n",
       "      <td>1.0</td>\n",
       "      <td>1.0</td>\n",
       "      <td>0.0</td>\n",
       "      <td>2.0</td>\n",
       "      <td>1.0</td>\n",
       "      <td>0.0</td>\n",
       "      <td>1.0</td>\n",
       "      <td>0.0</td>\n",
       "      <td>1.0</td>\n",
       "      <td>1.0</td>\n",
       "      <td>1.0</td>\n",
       "      <td>0.0</td>\n",
       "      <td>2.0</td>\n",
       "      <td>0.0</td>\n",
       "    </tr>\n",
       "    <tr>\n",
       "      <th>1</th>\n",
       "      <td>2.0</td>\n",
       "      <td>1.0</td>\n",
       "      <td>0.0</td>\n",
       "      <td>1.0</td>\n",
       "      <td>1.0</td>\n",
       "      <td>1.0</td>\n",
       "      <td>0.0</td>\n",
       "      <td>0.0</td>\n",
       "      <td>0.0</td>\n",
       "      <td>0.0</td>\n",
       "      <td>1.0</td>\n",
       "      <td>1.0</td>\n",
       "      <td>1.0</td>\n",
       "      <td>1.0</td>\n",
       "    </tr>\n",
       "    <tr>\n",
       "      <th>2</th>\n",
       "      <td>1.0</td>\n",
       "      <td>0.0</td>\n",
       "      <td>1.0</td>\n",
       "      <td>0.0</td>\n",
       "      <td>0.0</td>\n",
       "      <td>0.0</td>\n",
       "      <td>0.0</td>\n",
       "      <td>1.0</td>\n",
       "      <td>0.0</td>\n",
       "      <td>0.0</td>\n",
       "      <td>2.0</td>\n",
       "      <td>0.0</td>\n",
       "      <td>0.0</td>\n",
       "      <td>0.0</td>\n",
       "    </tr>\n",
       "  </tbody>\n",
       "</table>\n",
       "</div>"
      ],
      "text/plain": [
       "    is  the  analyze   of  one  courses  fields  scientists  most  important  \\\n",
       "0  1.0  1.0      0.0  2.0  1.0      0.0     1.0         0.0   1.0        1.0   \n",
       "1  2.0  1.0      0.0  1.0  1.0      1.0     0.0         0.0   0.0        0.0   \n",
       "2  1.0  0.0      1.0  0.0  0.0      0.0     0.0         1.0   0.0        0.0   \n",
       "\n",
       "   data  this  science  best  \n",
       "0   1.0   0.0      2.0   0.0  \n",
       "1   1.0   1.0      1.0   1.0  \n",
       "2   2.0   0.0      0.0   0.0  "
      ]
     },
     "execution_count": 56,
     "metadata": {},
     "output_type": "execute_result"
    }
   ],
   "source": [
    "manual = countV(corpus)\n",
    "manual"
   ]
  },
  {
   "cell_type": "code",
   "execution_count": 24,
   "metadata": {},
   "outputs": [
    {
     "name": "stdout",
     "output_type": "stream",
     "text": [
      "2\n"
     ]
    }
   ],
   "source": [
    "hasil = corpus[0].lower().count('of')\n",
    "print(hasil)"
   ]
  },
  {
   "cell_type": "code",
   "execution_count": 26,
   "metadata": {},
   "outputs": [
    {
     "name": "stdout",
     "output_type": "stream",
     "text": [
      "Number of unique words in the corpus: 14\n",
      "The words in the corpus: \n",
      " {'is', 'the', 'analyze', 'of', 'one', 'courses', 'fields', 'scientists', 'most', 'important', 'data', 'this', 'science', 'best'}\n"
     ]
    }
   ],
   "source": [
    "# memasukan setiap kata unik dalam set\n",
    "words_set = set()\n",
    "\n",
    "for doc in  corpus:\n",
    "    doc = doc.lower()\n",
    "    words = doc.split(' ')\n",
    "    words_set = words_set.union(set(words))\n",
    "\n",
    "# sama cuman bedanya ini nanti digunakan untuk memberi nama kolom sehingga harus dalam array (convert to array)\n",
    "colom = []\n",
    "for i in words_set:\n",
    "    colom.append(i)\n",
    "\n",
    "\n",
    "     \n",
    "print('Number of unique words in the corpus:',len(words_set))\n",
    "print('The words in the corpus: \\n', np.array(words_set))"
   ]
  },
  {
   "cell_type": "code",
   "execution_count": 46,
   "metadata": {},
   "outputs": [
    {
     "name": "stdout",
     "output_type": "stream",
     "text": [
      "[[0. 0. 0. 0. 0. 0. 0. 0. 0. 0. 0. 0. 0. 0.]\n",
      " [0. 0. 0. 0. 0. 0. 0. 0. 0. 0. 0. 0. 0. 0.]\n",
      " [0. 0. 0. 0. 0. 0. 0. 0. 0. 0. 0. 0. 0. 0.]]\n",
      "{'is', 'the', 'analyze', 'of', 'one', 'courses', 'fields', 'scientists', 'most', 'important', 'data', 'this', 'science', 'best'}\n"
     ]
    }
   ],
   "source": [
    "n_docs = len(corpus)         #·Number of documents in the corpus\n",
    "n_words_set = len(words_set) #·Number of unique words in the\n",
    "data_dum = np.zeros((n_docs, n_words_set))\n",
    "\n",
    "print(data_dum)\n",
    "print(words_set)\n",
    "\n",
    "countV = pd.DataFrame(np.zeros((n_docs, n_words_set)), columns=colom)\n",
    "\n"
   ]
  },
  {
   "cell_type": "code",
   "execution_count": 47,
   "metadata": {},
   "outputs": [
    {
     "data": {
      "text/html": [
       "<div>\n",
       "<style scoped>\n",
       "    .dataframe tbody tr th:only-of-type {\n",
       "        vertical-align: middle;\n",
       "    }\n",
       "\n",
       "    .dataframe tbody tr th {\n",
       "        vertical-align: top;\n",
       "    }\n",
       "\n",
       "    .dataframe thead th {\n",
       "        text-align: right;\n",
       "    }\n",
       "</style>\n",
       "<table border=\"1\" class=\"dataframe\">\n",
       "  <thead>\n",
       "    <tr style=\"text-align: right;\">\n",
       "      <th></th>\n",
       "      <th>is</th>\n",
       "      <th>the</th>\n",
       "      <th>analyze</th>\n",
       "      <th>of</th>\n",
       "      <th>one</th>\n",
       "      <th>courses</th>\n",
       "      <th>fields</th>\n",
       "      <th>scientists</th>\n",
       "      <th>most</th>\n",
       "      <th>important</th>\n",
       "      <th>data</th>\n",
       "      <th>this</th>\n",
       "      <th>science</th>\n",
       "      <th>best</th>\n",
       "    </tr>\n",
       "  </thead>\n",
       "  <tbody>\n",
       "    <tr>\n",
       "      <th>0</th>\n",
       "      <td>0.0</td>\n",
       "      <td>0.0</td>\n",
       "      <td>0.0</td>\n",
       "      <td>0.0</td>\n",
       "      <td>0.0</td>\n",
       "      <td>0.0</td>\n",
       "      <td>0.0</td>\n",
       "      <td>0.0</td>\n",
       "      <td>0.0</td>\n",
       "      <td>0.0</td>\n",
       "      <td>0.0</td>\n",
       "      <td>0.0</td>\n",
       "      <td>0.0</td>\n",
       "      <td>0.0</td>\n",
       "    </tr>\n",
       "    <tr>\n",
       "      <th>1</th>\n",
       "      <td>0.0</td>\n",
       "      <td>0.0</td>\n",
       "      <td>0.0</td>\n",
       "      <td>0.0</td>\n",
       "      <td>0.0</td>\n",
       "      <td>0.0</td>\n",
       "      <td>0.0</td>\n",
       "      <td>0.0</td>\n",
       "      <td>0.0</td>\n",
       "      <td>0.0</td>\n",
       "      <td>0.0</td>\n",
       "      <td>0.0</td>\n",
       "      <td>0.0</td>\n",
       "      <td>0.0</td>\n",
       "    </tr>\n",
       "    <tr>\n",
       "      <th>2</th>\n",
       "      <td>0.0</td>\n",
       "      <td>0.0</td>\n",
       "      <td>0.0</td>\n",
       "      <td>0.0</td>\n",
       "      <td>0.0</td>\n",
       "      <td>0.0</td>\n",
       "      <td>0.0</td>\n",
       "      <td>0.0</td>\n",
       "      <td>0.0</td>\n",
       "      <td>0.0</td>\n",
       "      <td>0.0</td>\n",
       "      <td>0.0</td>\n",
       "      <td>0.0</td>\n",
       "      <td>0.0</td>\n",
       "    </tr>\n",
       "  </tbody>\n",
       "</table>\n",
       "</div>"
      ],
      "text/plain": [
       "    is  the  analyze   of  one  courses  fields  scientists  most  important  \\\n",
       "0  0.0  0.0      0.0  0.0  0.0      0.0     0.0         0.0   0.0        0.0   \n",
       "1  0.0  0.0      0.0  0.0  0.0      0.0     0.0         0.0   0.0        0.0   \n",
       "2  0.0  0.0      0.0  0.0  0.0      0.0     0.0         0.0   0.0        0.0   \n",
       "\n",
       "   data  this  science  best  \n",
       "0   0.0   0.0      0.0   0.0  \n",
       "1   0.0   0.0      0.0   0.0  \n",
       "2   0.0   0.0      0.0   0.0  "
      ]
     },
     "execution_count": 47,
     "metadata": {},
     "output_type": "execute_result"
    }
   ],
   "source": [
    "countV"
   ]
  },
  {
   "cell_type": "code",
   "execution_count": 48,
   "metadata": {},
   "outputs": [
    {
     "name": "stdout",
     "output_type": "stream",
     "text": [
      "cek kalimat  data science is one of the most important fields of science\n",
      "kata: data\n",
      "jumlah 0.0\n",
      "kata: science\n",
      "jumlah 0.0\n",
      "kata: is\n",
      "jumlah 0.0\n",
      "kata: one\n",
      "jumlah 0.0\n",
      "kata: of\n",
      "jumlah 0.0\n",
      "kata: the\n",
      "jumlah 0.0\n",
      "kata: most\n",
      "jumlah 0.0\n",
      "kata: important\n",
      "jumlah 0.0\n",
      "kata: fields\n",
      "jumlah 0.0\n",
      "kata: of\n",
      "jumlah 2.0\n",
      "kata: science\n",
      "jumlah 2.0\n"
     ]
    },
    {
     "ename": "KeyboardInterrupt",
     "evalue": "",
     "output_type": "error",
     "traceback": [
      "\u001b[1;31m---------------------------------------------------------------------------\u001b[0m",
      "\u001b[1;31mKeyboardInterrupt\u001b[0m                         Traceback (most recent call last)",
      "\u001b[1;32md:\\GitHub\\analisa-sentimen-XGBoost\\countV.ipynb Cell 12\u001b[0m line \u001b[0;36m5\n\u001b[0;32m      <a href='vscode-notebook-cell:/d%3A/GitHub/analisa-sentimen-XGBoost/countV.ipynb#X23sZmlsZQ%3D%3D?line=2'>3</a>\u001b[0m words \u001b[39m=\u001b[39m corpus[i]\u001b[39m.\u001b[39mlower()\u001b[39m.\u001b[39msplit(\u001b[39m'\u001b[39m\u001b[39m \u001b[39m\u001b[39m'\u001b[39m) \u001b[39m# Words in the document\u001b[39;00m\n\u001b[0;32m      <a href='vscode-notebook-cell:/d%3A/GitHub/analisa-sentimen-XGBoost/countV.ipynb#X23sZmlsZQ%3D%3D?line=3'>4</a>\u001b[0m \u001b[39mprint\u001b[39m(\u001b[39m'\u001b[39m\u001b[39mcek kalimat \u001b[39m\u001b[39m'\u001b[39m,corpus[i])\n\u001b[1;32m----> <a href='vscode-notebook-cell:/d%3A/GitHub/analisa-sentimen-XGBoost/countV.ipynb#X23sZmlsZQ%3D%3D?line=4'>5</a>\u001b[0m \u001b[39mfor\u001b[39;49;00m w \u001b[39min\u001b[39;49;00m words:\n\u001b[0;32m      <a href='vscode-notebook-cell:/d%3A/GitHub/analisa-sentimen-XGBoost/countV.ipynb#X23sZmlsZQ%3D%3D?line=5'>6</a>\u001b[0m     \u001b[39mprint\u001b[39;49m(\u001b[39m'\u001b[39;49m\u001b[39mkata:\u001b[39;49m\u001b[39m'\u001b[39;49m, w)\n\u001b[0;32m      <a href='vscode-notebook-cell:/d%3A/GitHub/analisa-sentimen-XGBoost/countV.ipynb#X23sZmlsZQ%3D%3D?line=6'>7</a>\u001b[0m     \u001b[39m# menghitung dengan (jumlah kata(t) muncul dalam sebuah dokumen)\u001b[39;49;00m\n",
      "\u001b[1;32md:\\GitHub\\analisa-sentimen-XGBoost\\countV.ipynb Cell 12\u001b[0m line \u001b[0;36m5\n\u001b[0;32m      <a href='vscode-notebook-cell:/d%3A/GitHub/analisa-sentimen-XGBoost/countV.ipynb#X23sZmlsZQ%3D%3D?line=2'>3</a>\u001b[0m words \u001b[39m=\u001b[39m corpus[i]\u001b[39m.\u001b[39mlower()\u001b[39m.\u001b[39msplit(\u001b[39m'\u001b[39m\u001b[39m \u001b[39m\u001b[39m'\u001b[39m) \u001b[39m# Words in the document\u001b[39;00m\n\u001b[0;32m      <a href='vscode-notebook-cell:/d%3A/GitHub/analisa-sentimen-XGBoost/countV.ipynb#X23sZmlsZQ%3D%3D?line=3'>4</a>\u001b[0m \u001b[39mprint\u001b[39m(\u001b[39m'\u001b[39m\u001b[39mcek kalimat \u001b[39m\u001b[39m'\u001b[39m,corpus[i])\n\u001b[1;32m----> <a href='vscode-notebook-cell:/d%3A/GitHub/analisa-sentimen-XGBoost/countV.ipynb#X23sZmlsZQ%3D%3D?line=4'>5</a>\u001b[0m \u001b[39mfor\u001b[39;49;00m w \u001b[39min\u001b[39;49;00m words:\n\u001b[0;32m      <a href='vscode-notebook-cell:/d%3A/GitHub/analisa-sentimen-XGBoost/countV.ipynb#X23sZmlsZQ%3D%3D?line=5'>6</a>\u001b[0m     \u001b[39mprint\u001b[39;49m(\u001b[39m'\u001b[39;49m\u001b[39mkata:\u001b[39;49m\u001b[39m'\u001b[39;49m, w)\n\u001b[0;32m      <a href='vscode-notebook-cell:/d%3A/GitHub/analisa-sentimen-XGBoost/countV.ipynb#X23sZmlsZQ%3D%3D?line=6'>7</a>\u001b[0m     \u001b[39m# menghitung dengan (jumlah kata(t) muncul dalam sebuah dokumen)\u001b[39;49;00m\n",
      "File \u001b[1;32m_pydevd_bundle/pydevd_cython.pyx:1457\u001b[0m, in \u001b[0;36m_pydevd_bundle.pydevd_cython.SafeCallWrapper.__call__\u001b[1;34m()\u001b[0m\n",
      "File \u001b[1;32m_pydevd_bundle/pydevd_cython.pyx:701\u001b[0m, in \u001b[0;36m_pydevd_bundle.pydevd_cython.PyDBFrame.trace_dispatch\u001b[1;34m()\u001b[0m\n",
      "File \u001b[1;32m_pydevd_bundle/pydevd_cython.pyx:1152\u001b[0m, in \u001b[0;36m_pydevd_bundle.pydevd_cython.PyDBFrame.trace_dispatch\u001b[1;34m()\u001b[0m\n",
      "File \u001b[1;32m_pydevd_bundle/pydevd_cython.pyx:1135\u001b[0m, in \u001b[0;36m_pydevd_bundle.pydevd_cython.PyDBFrame.trace_dispatch\u001b[1;34m()\u001b[0m\n",
      "File \u001b[1;32m_pydevd_bundle/pydevd_cython.pyx:312\u001b[0m, in \u001b[0;36m_pydevd_bundle.pydevd_cython.PyDBFrame.do_wait_suspend\u001b[1;34m()\u001b[0m\n",
      "File \u001b[1;32m~\\AppData\\Roaming\\Python\\Python311\\site-packages\\debugpy\\_vendored\\pydevd\\pydevd.py:2070\u001b[0m, in \u001b[0;36mPyDB.do_wait_suspend\u001b[1;34m(self, thread, frame, event, arg, exception_type)\u001b[0m\n\u001b[0;32m   2067\u001b[0m             from_this_thread\u001b[39m.\u001b[39mappend(frame_custom_thread_id)\n\u001b[0;32m   2069\u001b[0m     \u001b[39mwith\u001b[39;00m \u001b[39mself\u001b[39m\u001b[39m.\u001b[39m_threads_suspended_single_notification\u001b[39m.\u001b[39mnotify_thread_suspended(thread_id, thread, stop_reason):\n\u001b[1;32m-> 2070\u001b[0m         keep_suspended \u001b[39m=\u001b[39m \u001b[39mself\u001b[39;49m\u001b[39m.\u001b[39;49m_do_wait_suspend(thread, frame, event, arg, suspend_type, from_this_thread, frames_tracker)\n\u001b[0;32m   2072\u001b[0m frames_list \u001b[39m=\u001b[39m \u001b[39mNone\u001b[39;00m\n\u001b[0;32m   2074\u001b[0m \u001b[39mif\u001b[39;00m keep_suspended:\n\u001b[0;32m   2075\u001b[0m     \u001b[39m# This means that we should pause again after a set next statement.\u001b[39;00m\n",
      "File \u001b[1;32m~\\AppData\\Roaming\\Python\\Python311\\site-packages\\debugpy\\_vendored\\pydevd\\pydevd.py:2106\u001b[0m, in \u001b[0;36mPyDB._do_wait_suspend\u001b[1;34m(self, thread, frame, event, arg, suspend_type, from_this_thread, frames_tracker)\u001b[0m\n\u001b[0;32m   2103\u001b[0m         \u001b[39mself\u001b[39m\u001b[39m.\u001b[39m_call_input_hook()\n\u001b[0;32m   2105\u001b[0m     \u001b[39mself\u001b[39m\u001b[39m.\u001b[39mprocess_internal_commands()\n\u001b[1;32m-> 2106\u001b[0m     time\u001b[39m.\u001b[39msleep(\u001b[39m0.01\u001b[39m)\n\u001b[0;32m   2108\u001b[0m \u001b[39mself\u001b[39m\u001b[39m.\u001b[39mcancel_async_evaluation(get_current_thread_id(thread), \u001b[39mstr\u001b[39m(\u001b[39mid\u001b[39m(frame)))\n\u001b[0;32m   2110\u001b[0m \u001b[39m# process any stepping instructions\u001b[39;00m\n",
      "\u001b[1;31mKeyboardInterrupt\u001b[0m: "
     ]
    }
   ],
   "source": [
    "# Compute Term Frequency (TF)\n",
    "for i in range(n_docs):\n",
    "    words = corpus[i].lower().split(' ') # Words in the document\n",
    "    print('cek kalimat ',corpus[i])\n",
    "    for w in words:\n",
    "        print('kata:', w)\n",
    "        # menghitung dengan (jumlah kata(t) muncul dalam sebuah dokumen)\n",
    "        print('jumlah',countV[w][i])\n",
    "        countV[w][i] = countV[w][i] + (corpus[i].lower().count(w))\n"
   ]
  },
  {
   "cell_type": "code",
   "execution_count": 39,
   "metadata": {},
   "outputs": [
    {
     "data": {
      "text/html": [
       "<div>\n",
       "<style scoped>\n",
       "    .dataframe tbody tr th:only-of-type {\n",
       "        vertical-align: middle;\n",
       "    }\n",
       "\n",
       "    .dataframe tbody tr th {\n",
       "        vertical-align: top;\n",
       "    }\n",
       "\n",
       "    .dataframe thead th {\n",
       "        text-align: right;\n",
       "    }\n",
       "</style>\n",
       "<table border=\"1\" class=\"dataframe\">\n",
       "  <thead>\n",
       "    <tr style=\"text-align: right;\">\n",
       "      <th></th>\n",
       "      <th>is</th>\n",
       "      <th>the</th>\n",
       "      <th>analyze</th>\n",
       "      <th>of</th>\n",
       "      <th>one</th>\n",
       "      <th>courses</th>\n",
       "      <th>fields</th>\n",
       "      <th>scientists</th>\n",
       "      <th>most</th>\n",
       "      <th>important</th>\n",
       "      <th>data</th>\n",
       "      <th>this</th>\n",
       "      <th>science</th>\n",
       "      <th>best</th>\n",
       "    </tr>\n",
       "  </thead>\n",
       "  <tbody>\n",
       "    <tr>\n",
       "      <th>0</th>\n",
       "      <td>2.0</td>\n",
       "      <td>2.0</td>\n",
       "      <td>0.0</td>\n",
       "      <td>8.0</td>\n",
       "      <td>2.0</td>\n",
       "      <td>0.0</td>\n",
       "      <td>2.0</td>\n",
       "      <td>0.0</td>\n",
       "      <td>2.0</td>\n",
       "      <td>2.0</td>\n",
       "      <td>2.0</td>\n",
       "      <td>0.0</td>\n",
       "      <td>8.0</td>\n",
       "      <td>0.0</td>\n",
       "    </tr>\n",
       "    <tr>\n",
       "      <th>1</th>\n",
       "      <td>4.0</td>\n",
       "      <td>2.0</td>\n",
       "      <td>0.0</td>\n",
       "      <td>2.0</td>\n",
       "      <td>2.0</td>\n",
       "      <td>2.0</td>\n",
       "      <td>0.0</td>\n",
       "      <td>0.0</td>\n",
       "      <td>0.0</td>\n",
       "      <td>0.0</td>\n",
       "      <td>2.0</td>\n",
       "      <td>2.0</td>\n",
       "      <td>2.0</td>\n",
       "      <td>2.0</td>\n",
       "    </tr>\n",
       "    <tr>\n",
       "      <th>2</th>\n",
       "      <td>0.0</td>\n",
       "      <td>0.0</td>\n",
       "      <td>2.0</td>\n",
       "      <td>0.0</td>\n",
       "      <td>0.0</td>\n",
       "      <td>0.0</td>\n",
       "      <td>0.0</td>\n",
       "      <td>2.0</td>\n",
       "      <td>0.0</td>\n",
       "      <td>0.0</td>\n",
       "      <td>8.0</td>\n",
       "      <td>0.0</td>\n",
       "      <td>0.0</td>\n",
       "      <td>0.0</td>\n",
       "    </tr>\n",
       "  </tbody>\n",
       "</table>\n",
       "</div>"
      ],
      "text/plain": [
       "    is  the  analyze   of  one  courses  fields  scientists  most  important  \\\n",
       "0  2.0  2.0      0.0  8.0  2.0      0.0     2.0         0.0   2.0        2.0   \n",
       "1  4.0  2.0      0.0  2.0  2.0      2.0     0.0         0.0   0.0        0.0   \n",
       "2  0.0  0.0      2.0  0.0  0.0      0.0     0.0         2.0   0.0        0.0   \n",
       "\n",
       "   data  this  science  best  \n",
       "0   2.0   0.0      8.0   0.0  \n",
       "1   2.0   2.0      2.0   2.0  \n",
       "2   8.0   0.0      0.0   0.0  "
      ]
     },
     "execution_count": 39,
     "metadata": {},
     "output_type": "execute_result"
    }
   ],
   "source": [
    "countV"
   ]
  },
  {
   "cell_type": "code",
   "execution_count": 9,
   "metadata": {},
   "outputs": [
    {
     "data": {
      "text/plain": [
       "['Saya suka makan nasi goreng.',\n",
       " 'Nasi goreng enak dan lezat.',\n",
       " 'Makanan favorit saya adalah nasi goreng.']"
      ]
     },
     "execution_count": 9,
     "metadata": {},
     "output_type": "execute_result"
    }
   ],
   "source": [
    "data"
   ]
  },
  {
   "cell_type": "code",
   "execution_count": 69,
   "metadata": {},
   "outputs": [
    {
     "name": "stdout",
     "output_type": "stream",
     "text": [
      "<class 'pandas.core.frame.DataFrame'>\n",
      "RangeIndex: 3 entries, 0 to 2\n",
      "Data columns (total 1 columns):\n",
      " #   Column   Non-Null Count  Dtype \n",
      "---  ------   --------------  ----- \n",
      " 0   kalimat  3 non-null      string\n",
      "dtypes: string(1)\n",
      "memory usage: 156.0 bytes\n"
     ]
    }
   ],
   "source": [
    "new = pd.DataFrame(data=data, columns=['kalimat'])\n",
    "new = new.astype('string')\n",
    "new.info()"
   ]
  },
  {
   "cell_type": "code",
   "execution_count": 70,
   "metadata": {},
   "outputs": [
    {
     "name": "stdout",
     "output_type": "stream",
     "text": [
      "Ditemukan dalam Saya suka makan nasi goreng.\n"
     ]
    }
   ],
   "source": [
    "kata = 'suka'\n",
    "\n",
    "\n",
    "def cek_dan_hapus_baris(row):\n",
    "    if kata in row.lower():\n",
    "        print('Ditemukan dalam', row)\n",
    "        return pd.NA\n",
    "    else:\n",
    "        return row\n",
    "    \n",
    "new['kalimat'] = new['kalimat'].apply(cek_dan_hapus_baris)\n",
    "new = new.dropna()"
   ]
  },
  {
   "cell_type": "code",
   "execution_count": 76,
   "metadata": {},
   "outputs": [
    {
     "name": "stdout",
     "output_type": "stream",
     "text": [
      "Saya suka makan nasi goreng. memiliki panjang 28\n",
      "Nasi goreng enak dan lezat. memiliki panjang 27\n",
      "Makanan favorit saya adalah nasi goreng. memiliki panjang 40\n",
      "  memiliki panjang 1\n"
     ]
    }
   ],
   "source": [
    "for i in data:\n",
    "    print(i ,\"memiliki panjang\", len(i))"
   ]
  },
  {
   "cell_type": "code",
   "execution_count": null,
   "metadata": {},
   "outputs": [],
   "source": []
  }
 ],
 "metadata": {
  "kernelspec": {
   "display_name": "Python 3",
   "language": "python",
   "name": "python3"
  },
  "language_info": {
   "codemirror_mode": {
    "name": "ipython",
    "version": 3
   },
   "file_extension": ".py",
   "mimetype": "text/x-python",
   "name": "python",
   "nbconvert_exporter": "python",
   "pygments_lexer": "ipython3",
   "version": "3.11.5"
  }
 },
 "nbformat": 4,
 "nbformat_minor": 2
}
