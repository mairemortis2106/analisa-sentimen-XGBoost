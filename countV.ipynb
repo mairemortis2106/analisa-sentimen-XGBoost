{
 "cells": [
  {
   "cell_type": "code",
   "execution_count": 3,
   "metadata": {},
   "outputs": [],
   "source": [
    "import pandas as pd\n",
    "import numpy as np\n",
    "import math"
   ]
  },
  {
   "cell_type": "markdown",
   "metadata": {},
   "source": [
    "### with sklearn"
   ]
  },
  {
   "cell_type": "code",
   "execution_count": 74,
   "metadata": {},
   "outputs": [
    {
     "name": "stdout",
     "output_type": "stream",
     "text": [
      "Matriks Vektor:\n",
      "[[0 0 0 0 1 0 1 0 1 1 1]\n",
      " [0 1 1 0 1 1 0 0 1 0 0]\n",
      " [1 0 0 1 1 0 0 1 1 1 0]\n",
      " [0 0 0 0 0 0 0 0 0 0 0]]\n",
      "Vocabulary:\n",
      "['adalah' 'dan' 'enak' 'favorit' 'goreng' 'lezat' 'makan' 'makanan' 'nasi'\n",
      " 'saya' 'suka']\n"
     ]
    }
   ],
   "source": [
    "# this is CountV with sklearn \n",
    "from sklearn.feature_extraction.text import CountVectorizer\n",
    "\n",
    "# Data contoh\n",
    "data = [\n",
    "    \"Saya suka makan nasi goreng.\",\n",
    "    \"Nasi goreng enak dan lezat.\",\n",
    "    \"Makanan favorit saya adalah nasi goreng.\",\n",
    "    \" \"\n",
    "]\n",
    "\n",
    "# Inisialisasi CountVectorizer\n",
    "vectorizer = CountVectorizer()\n",
    "\n",
    "# Melakukan tokenisasi dan pembuatan vektor\n",
    "vectors = vectorizer.fit_transform(data)\n",
    "\n",
    "# Hasil vektor dalam bentuk matriks\n",
    "print(\"Matriks Vektor:\")\n",
    "print(vectors.toarray())\n",
    "\n",
    "# Vocabulary (daftar kata unik)\n",
    "print(\"Vocabulary:\")\n",
    "print(vectorizer.get_feature_names_out())"
   ]
  },
  {
   "cell_type": "markdown",
   "metadata": {},
   "source": [
    "### secara manual"
   ]
  },
  {
   "cell_type": "code",
   "execution_count": 6,
   "metadata": {},
   "outputs": [
    {
     "name": "stdout",
     "output_type": "stream",
     "text": [
      "Number of unique words in the corpus: 12\n",
      "The words in the corpus: \n",
      " {'goreng', 'saya', 'makan', 'makanan', 'dan', 'enak', 'nasi', 'favorit', 'suka', 'adalah', 'goreng.', 'lezat.'}\n"
     ]
    }
   ],
   "source": [
    "# memasukan setiap kata unik dalam set\n",
    "words_set = set()\n",
    "\n",
    "for doc in  data:\n",
    "    doc = doc.lower()\n",
    "    words = doc.split(' ')\n",
    "    words_set = words_set.union(set(words))\n",
    "\n",
    "# sama cuman bedanya ini nanti digunakan untuk memberi nama kolom sehingga harus dalam array (convert to array)\n",
    "colom = []\n",
    "for i in words_set:\n",
    "    colom.append(i)\n",
    "\n",
    "\n",
    "     \n",
    "print('Number of unique words in the corpus:',len(words_set))\n",
    "print('The words in the corpus: \\n', np.array(words_set))"
   ]
  },
  {
   "cell_type": "code",
   "execution_count": 7,
   "metadata": {},
   "outputs": [
    {
     "name": "stdout",
     "output_type": "stream",
     "text": [
      "[[0. 0. 0. 0. 0. 0. 0. 0. 0. 0. 0. 0.]\n",
      " [0. 0. 0. 0. 0. 0. 0. 0. 0. 0. 0. 0.]\n",
      " [0. 0. 0. 0. 0. 0. 0. 0. 0. 0. 0. 0.]]\n",
      "{'goreng', 'saya', 'makan', 'makanan', 'dan', 'enak', 'nasi', 'favorit', 'suka', 'adalah', 'goreng.', 'lezat.'}\n"
     ]
    }
   ],
   "source": [
    "n_docs = len(data)         #·Number of documents in the corpus\n",
    "n_words_set = len(words_set) #·Number of unique words in the\n",
    "data_dum = np.zeros((n_docs, n_words_set))\n",
    "\n",
    "print(data_dum)\n",
    "print(words_set)\n",
    "\n",
    "countV = pd.DataFrame(np.zeros((n_docs, n_words_set)), columns=colom)\n",
    "\n",
    "# Compute Term Frequency (TF)\n",
    "for i in range(n_docs):\n",
    "    words = data[i].lower().split(' ') # Words in the document\n",
    "    for w in words:\n",
    "        # menghitung dengan (jumlah kata(t) muncul dalam sebuah dokumen)\n",
    "        countV[w][i] = countV[w][i] + (data[i].lower().count(w))"
   ]
  },
  {
   "cell_type": "code",
   "execution_count": 8,
   "metadata": {},
   "outputs": [
    {
     "data": {
      "text/html": [
       "<div>\n",
       "<style scoped>\n",
       "    .dataframe tbody tr th:only-of-type {\n",
       "        vertical-align: middle;\n",
       "    }\n",
       "\n",
       "    .dataframe tbody tr th {\n",
       "        vertical-align: top;\n",
       "    }\n",
       "\n",
       "    .dataframe thead th {\n",
       "        text-align: right;\n",
       "    }\n",
       "</style>\n",
       "<table border=\"1\" class=\"dataframe\">\n",
       "  <thead>\n",
       "    <tr style=\"text-align: right;\">\n",
       "      <th></th>\n",
       "      <th>goreng</th>\n",
       "      <th>saya</th>\n",
       "      <th>makan</th>\n",
       "      <th>makanan</th>\n",
       "      <th>dan</th>\n",
       "      <th>enak</th>\n",
       "      <th>nasi</th>\n",
       "      <th>favorit</th>\n",
       "      <th>suka</th>\n",
       "      <th>adalah</th>\n",
       "      <th>goreng.</th>\n",
       "      <th>lezat.</th>\n",
       "    </tr>\n",
       "  </thead>\n",
       "  <tbody>\n",
       "    <tr>\n",
       "      <th>0</th>\n",
       "      <td>0.0</td>\n",
       "      <td>1.0</td>\n",
       "      <td>1.0</td>\n",
       "      <td>0.0</td>\n",
       "      <td>0.0</td>\n",
       "      <td>0.0</td>\n",
       "      <td>1.0</td>\n",
       "      <td>0.0</td>\n",
       "      <td>1.0</td>\n",
       "      <td>0.0</td>\n",
       "      <td>1.0</td>\n",
       "      <td>0.0</td>\n",
       "    </tr>\n",
       "    <tr>\n",
       "      <th>1</th>\n",
       "      <td>1.0</td>\n",
       "      <td>0.0</td>\n",
       "      <td>0.0</td>\n",
       "      <td>0.0</td>\n",
       "      <td>1.0</td>\n",
       "      <td>1.0</td>\n",
       "      <td>1.0</td>\n",
       "      <td>0.0</td>\n",
       "      <td>0.0</td>\n",
       "      <td>0.0</td>\n",
       "      <td>0.0</td>\n",
       "      <td>1.0</td>\n",
       "    </tr>\n",
       "    <tr>\n",
       "      <th>2</th>\n",
       "      <td>0.0</td>\n",
       "      <td>1.0</td>\n",
       "      <td>0.0</td>\n",
       "      <td>1.0</td>\n",
       "      <td>0.0</td>\n",
       "      <td>0.0</td>\n",
       "      <td>1.0</td>\n",
       "      <td>1.0</td>\n",
       "      <td>0.0</td>\n",
       "      <td>1.0</td>\n",
       "      <td>1.0</td>\n",
       "      <td>0.0</td>\n",
       "    </tr>\n",
       "  </tbody>\n",
       "</table>\n",
       "</div>"
      ],
      "text/plain": [
       "   goreng  saya  makan  makanan  dan  enak  nasi  favorit  suka  adalah  \\\n",
       "0     0.0   1.0    1.0      0.0  0.0   0.0   1.0      0.0   1.0     0.0   \n",
       "1     1.0   0.0    0.0      0.0  1.0   1.0   1.0      0.0   0.0     0.0   \n",
       "2     0.0   1.0    0.0      1.0  0.0   0.0   1.0      1.0   0.0     1.0   \n",
       "\n",
       "   goreng.  lezat.  \n",
       "0      1.0     0.0  \n",
       "1      0.0     1.0  \n",
       "2      1.0     0.0  "
      ]
     },
     "execution_count": 8,
     "metadata": {},
     "output_type": "execute_result"
    }
   ],
   "source": [
    "countV"
   ]
  },
  {
   "cell_type": "code",
   "execution_count": 9,
   "metadata": {},
   "outputs": [
    {
     "data": {
      "text/plain": [
       "['Saya suka makan nasi goreng.',\n",
       " 'Nasi goreng enak dan lezat.',\n",
       " 'Makanan favorit saya adalah nasi goreng.']"
      ]
     },
     "execution_count": 9,
     "metadata": {},
     "output_type": "execute_result"
    }
   ],
   "source": [
    "data"
   ]
  },
  {
   "cell_type": "code",
   "execution_count": 69,
   "metadata": {},
   "outputs": [
    {
     "name": "stdout",
     "output_type": "stream",
     "text": [
      "<class 'pandas.core.frame.DataFrame'>\n",
      "RangeIndex: 3 entries, 0 to 2\n",
      "Data columns (total 1 columns):\n",
      " #   Column   Non-Null Count  Dtype \n",
      "---  ------   --------------  ----- \n",
      " 0   kalimat  3 non-null      string\n",
      "dtypes: string(1)\n",
      "memory usage: 156.0 bytes\n"
     ]
    }
   ],
   "source": [
    "new = pd.DataFrame(data=data, columns=['kalimat'])\n",
    "new = new.astype('string')\n",
    "new.info()"
   ]
  },
  {
   "cell_type": "code",
   "execution_count": 70,
   "metadata": {},
   "outputs": [
    {
     "name": "stdout",
     "output_type": "stream",
     "text": [
      "Ditemukan dalam Saya suka makan nasi goreng.\n"
     ]
    }
   ],
   "source": [
    "kata = 'suka'\n",
    "\n",
    "\n",
    "def cek_dan_hapus_baris(row):\n",
    "    if kata in row.lower():\n",
    "        print('Ditemukan dalam', row)\n",
    "        return pd.NA\n",
    "    else:\n",
    "        return row\n",
    "    \n",
    "new['kalimat'] = new['kalimat'].apply(cek_dan_hapus_baris)\n",
    "new = new.dropna()"
   ]
  },
  {
   "cell_type": "code",
   "execution_count": 76,
   "metadata": {},
   "outputs": [
    {
     "name": "stdout",
     "output_type": "stream",
     "text": [
      "Saya suka makan nasi goreng. memiliki panjang 28\n",
      "Nasi goreng enak dan lezat. memiliki panjang 27\n",
      "Makanan favorit saya adalah nasi goreng. memiliki panjang 40\n",
      "  memiliki panjang 1\n"
     ]
    }
   ],
   "source": [
    "for i in data:\n",
    "    print(i ,\"memiliki panjang\", len(i))"
   ]
  },
  {
   "cell_type": "code",
   "execution_count": null,
   "metadata": {},
   "outputs": [],
   "source": []
  }
 ],
 "metadata": {
  "kernelspec": {
   "display_name": "Python 3",
   "language": "python",
   "name": "python3"
  },
  "language_info": {
   "codemirror_mode": {
    "name": "ipython",
    "version": 3
   },
   "file_extension": ".py",
   "mimetype": "text/x-python",
   "name": "python",
   "nbconvert_exporter": "python",
   "pygments_lexer": "ipython3",
   "version": "3.11.5"
  }
 },
 "nbformat": 4,
 "nbformat_minor": 2
}
